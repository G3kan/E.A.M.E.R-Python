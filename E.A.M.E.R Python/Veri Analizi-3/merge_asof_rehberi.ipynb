{
 "cells": [
  {
   "cell_type": "markdown",
   "metadata": {},
   "source": [
    "# Pandas `merge_asof()` ile Yakın Değerlere Göre Birleştirme"
   ]
  },
  {
   "cell_type": "markdown",
   "metadata": {},
   "source": [
    "Bu rehber, Pandas'ın `merge_asof()` fonksiyonunu kullanarak sıralı verileri en yakın anahtara göre nasıl birleştireceğimizi anlatır. Standart `merge` fonksiyonu tam eşleşme ararken, `merge_asof()` belirli bir tolerans dahilinde geriye, ileriye veya en yakın değere göre birleştirme yapmamızı sağlar.\n\nBu, özellikle farklı zamanlarda kaydedilmiş verileri (örneğin, hisse senedi alım-satım işlemleri ve o andaki fiyat teklifleri) eşleştirmek için çok kullanışlıdır."
   ]
  },
  {
   "cell_type": "markdown",
   "metadata": {},
   "source": [
    "### `merge_asof()` Kullanımının Temel Kuralları\n",
    "- Birleştirme yapılacak iki DataFrame de **birleştirme anahtarına (`on` parametresi) göre sıralanmış olmalıdır.** Genellikle bu bir zaman sütunudur.\n",
    "- `by` parametresi ile belirtilen sütun(lar)da tam eşleşme aranır (SQL'deki gibi gruplama).\n",
    "- `on` parametresi ile belirtilen sütunda ise yakın eşleşme aranır. Bu sütun sayısal (int, float) veya datetime türünde olmalıdır."
   ]
  },
  {
   "cell_type": "code",
   "execution_count": null,
   "metadata": {},
   "outputs": [],
   "source": [
    "import pandas as pd"
   ]
  },
  {
   "cell_type": "markdown",
   "metadata": {},
   "source": [
    "#### Örnek Veri Seti Oluşturalım\n",
    "Bir hisse senedi için belirli zamanlarda yapılan alım-satım (`trades`) ve anlık fiyat tekliflerini (`quotes`) içeren iki DataFrame oluşturalım."
   ]
  },
  {
   "cell_type": "code",
   "execution_count": null,
   "metadata": {},
   "outputs": [],
   "source": [
    "# Anlık fiyat teklifleri (quotes) - sık sık güncellenir\n",
    "quotes = pd.DataFrame({\n",
    "    'time': pd.to_datetime([\n",
    "        '2025-07-20 10:00:00',\n",
    "        '2025-07-20 10:00:01',\n",
    "        '2025-07-20 10:00:04',\n",
    "        '2025-07-20 10:00:07',\n",
    "        '2025-07-20 10:00:12',\n",
    "        '2025-07-20 10:00:15'\n",
    "    ]),\n",
    "    'ticker': ['MSFT', 'MSFT', 'MSFT', 'MSFT', 'MSFT', 'MSFT'],\n",
    "    'bid': [150.01, 150.02, 150.00, 150.03, 150.04, 150.02],\n",
    "    'ask': [150.03, 150.04, 150.02, 150.05, 150.06, 150.03]\n",
    "})\n",
    "\n",
    "# Yapılan alım-satım işlemleri (trades) - belirli anlarda gerçekleşir\n",
    "trades = pd.DataFrame({\n",
    "    'time': pd.to_datetime([\n",
    "        '2025-07-20 10:00:02.100',\n",
    "        '2025-07-20 10:00:08.500',\n",
    "        '2025-07-20 10:00:13.200'\n",
    "    ]),\n",
    "    'ticker': ['MSFT', 'MSFT', 'MSFT'],\n",
    "    'price': [150.03, 150.04, 150.05],\n",
    "    'quantity': [50, 75, 60]\n",
    "})\n",
    "\n",
    "print(\"--- Fiyat Teklifleri (Quotes) ---\")\n",
    "print(quotes)\n",
    "print(\"\n--- Alım-Satım İşlemleri (Trades) ---\")\n",
    "print(trades)"
   ]
  },
  {
   "cell_type": "markdown",
   "metadata": {},
   "source": [
    "### 1. Varsayılan Davranış: Geriye Doğru Eşleştirme (`direction='backward'`)\n",
    "`merge_asof()` varsayılan olarak, sol DataFrame'deki (`trades`) her bir satır için, sağ DataFrame'de (`quotes`) o satırın zamanından (`time`) önceki **en son** kaydı bulur."
   ]
  },
  {
   "cell_type": "code",
   "execution_count": null,
   "metadata": {},
   "outputs": [],
   "source": [
    "# merge_asof işlemi (varsayılan yön 'backward')\n",
    "# `on` ile yakın eşleşme, `by` ile tam eşleşme yapılır.\n",
    "merged_df = pd.merge_asof(trades, quotes, on='time', by='ticker')\n",
    "\n",
    "print(\"--- Geriye Doğru Eşleştirme Sonucu ---\")\n",
    "print(merged_df)"
   ]
  },
  {
   "cell_type": "markdown",
   "metadata": {},
   "source": [
    "**Açıklama:**\n",
    "- **İlk işlem (10:00:02.100):** Bu zamandan önceki en son teklif `10:00:01`'deki fiyattır. Sonuçta bu satırın bilgileri (bid: 150.02, ask: 150.04) eklenir.\n",
    "- **İkinci işlem (10:00:08.500):** Bu zamandan önceki en son teklif `10:00:07`'deki fiyattır.\n",
    "- **Üçüncü işlem (10:00:13.200):** Bu zamandan önceki en son teklif `10:00:12`'deki fiyattır."
   ]
  },
  {
   "cell_type": "markdown",
   "metadata": {},
   "source": [
    "### 2. Tolerans Belirleme (`tolerance` parametresi)\n",
    "Eşleşmenin sadece belirli bir zaman aralığı içinde olmasını istiyorsak `tolerance` parametresini kullanırız. Bu aralık dışındaki eşleşmeler `NaN` olarak döner."
   ]
  },
  {
   "cell_type": "code",
   "execution_count": null,
   "metadata": {},
   "outputs": [],
   "source": [
    "# Sadece 2 saniye tolerans ile eşleştirme\n",
    "merged_with_tolerance = pd.merge_asof(\n",
    "    trades, \n",
    "    quotes, \n",
    "    on='time', \n",
    "    by='ticker', \n",
    "    tolerance=pd.Timedelta('2s')\n",
    ")\n",
    "\n",
    "print(\"--- 2 Saniye Tolerans ile Eşleştirme ---\")\n",
    "print(merged_with_tolerance)"
   ]
  },
  {
   "cell_type": "markdown",
   "metadata": {},
   "source": [
    "**Açıklama:**\n",
    "Örneğimizde, tüm eşleşmeler 2 saniye içinde olduğu için sonuç değişmedi. Eğer bir işlem, kendisinden önceki en yakın tekliften 2 saniyeden daha geç olsaydı, o satır için `bid` ve `ask` değerleri `NaN` olacaktı."
   ]
  },
  {
   "cell_type": "markdown",
   "metadata": {},
   "source": [
    "### 3. Yön Belirleme (`direction` parametresi)\n",
    "Eşleştirmenin yönünü değiştirebiliriz:\n",
    "- `forward`: İleriye dönük en yakın kaydı bulur.\n",
    "- `nearest`: Her iki yöndeki (ileri veya geri) mutlak olarak en yakın kaydı bulur."
   ]
  },
  {
   "cell_type": "code",
   "execution_count": null,
   "metadata": {},
   "outputs": [],
   "source": [
    "# En yakın kaydı bulma (direction='nearest')\n",
    "merged_nearest = pd.merge_asof(\n",
    "    trades, \n",
    "    quotes, \n",
    "    on='time', \n",
    "    by='ticker', \n",
    "    direction='nearest'\n",
    ")\n",
    "\n",
    "print(\"--- En Yakın Değere Eşleştirme (direction='nearest') ---\")\n",
    "print(merged_nearest)"
   ]
  },
  {
   "cell_type": "markdown",
   "metadata": {},
   "source": [
    "**Açıklama:**\n",
    "- **İlk işlem (10:00:02.100):** Bu zamana en yakın teklifler `10:00:01` (1.1s fark) ve `10:00:04` (1.9s fark). En yakını `10:00:01` olduğu için o seçilir.\n",
    "- **İkinci işlem (10:00:08.500):** En yakın teklifler `10:00:07` (1.5s fark) ve `10:00:12` (3.5s fark). En yakını `10:00:07`'dir.\n",
    "- **Üçüncü işlem (10:00:13.200):** En yakın teklifler `10:00:12` (1.2s fark) ve `10:00:15` (1.8s fark). En yakını `10:00:12`'dir."
   ]
  },
  {
   "cell_type": "markdown",
   "metadata": {},
   "source": [
    "### Özet\n",
    "`pd.merge_asof()`, özellikle zaman damgalı veya sıralı verilerle çalışırken, tam eşleşme olmayan durumlar için güçlü ve esnek bir araçtır. `direction` ve `tolerance` gibi parametrelerle birleştirme mantığını ihtiyaçlarınıza göre kolayca ayarlayabilirsiniz."
   ]
  }
 ],
 "metadata": {
  "kernelspec": {
   "display_name": "Python 3",
   "language": "python",
   "name": "python3"
  },
  "language_info": {
   "codemirror_mode": {
    "name": "ipython",
    "version": 3
   },
   "file_extension": ".py",
   "mimetype": "text/x-python",
   "name": "python",
   "nbconvert_exporter": "python",
   "pygments_lexer": "ipython3",
   "version": "3.10.12"
  }
 },
 "nbformat": 4,
 "nbformat_minor": 4
}