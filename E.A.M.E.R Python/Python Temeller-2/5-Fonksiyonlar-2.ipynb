{
 "cells": [
  {
   "cell_type": "markdown",
   "metadata": {},
   "source": [
    "# Fonksiyonlar-2"
   ]
  },
  {
   "cell_type": "markdown",
   "metadata": {},
   "source": [
    "Bu notebook, Python'da fonksiyonların daha esnek ve güçlü kullanımını sağlayan ileri seviye konuları içermektedir."
   ]
  },
  {
   "cell_type": "markdown",
   "metadata": {},
   "source": [
    "## 1. Çoklu Değer Alabilen Fonksiyonlar (`*args` ve `**kwargs`)"
   ]
  },
  {
   "cell_type": "markdown",
   "metadata": {},
   "source": [
    "Bazen bir fonksiyona kaç tane argüman gönderileceğini önceden bilemeyiz. Python bu durumlar için esnek bir yapı sunar."
   ]
  },
  {
   "cell_type": "markdown",
   "metadata": {},
   "source": [
    "### `*args`: Sınırsız Sayıda Konumsal Argüman"
   ]
  },
  {
   "cell_type": "markdown",
   "metadata": {},
   "source": [
    "`*args` sözdizimi, bir fonksiyona verilen tüm konumsal argümanları bir **tuple** içinde toplar. `args` ismi bir konvansiyondur, istediğiniz ismi verebilirsiniz."
   ]
  },
  {
   "cell_type": "code",
   "execution_count": null,
   "metadata": {},
   "outputs": [],
   "source": [
    "def sayilari_topla(*sayilar):\n",
    "    toplam = 0\n",
    "    for sayi in sayilar:\n",
    "        toplam += sayi\n",
    "    return toplam\n",
    "\n",
    "print(f'Toplam: {sayilari_topla(1, 2, 3)}')\n",
    "print(f'Toplam: {sayilari_topla(10, 20, 30, 40, 50)}')\n",
    "print(f'Toplam: {sayilari_topla()}')"
   ]
  },
  {
   "cell_type": "markdown",
   "metadata": {},
   "source": [
    "### `**kwargs`: Sınırsız Sayıda Anahtar Kelimeli Argüman"
   ]
  },
  {
   "cell_type": "markdown",
   "metadata": {},
   "source": [
    "`**kwargs` sözdizimi, fonksiyona verilen anahtar kelimeli (keyword) argümanları bir **sözlük (dictionary)** içinde toplar. `kwargs` ismi de bir konvansiyondur."
   ]
  },
  {
   "cell_type": "code",
   "execution_count": null,
   "metadata": {},
   "outputs": [],
   "source": [
    "def kullanici_bilgisi_goster(**bilgiler):\n",
    "    for anahtar, deger in bilgiler.items():\n",
    "        print(f'{anahtar}: {deger}')\n",
    "    print('---')\n",
    "\n",
    "kullanici_bilgisi_goster(isim='Ali', yas=30, sehir='Ankara')\n",
    "kullanici_bilgisi_goster(kullanici_adi='veli', email='veli@example.com')"
   ]
  },
  {
   "cell_type": "markdown",
   "metadata": {},
   "source": [
    "### `*args` ve `**kwargs`'ı Birlikte Kullanma"
   ]
  },
  {
   "cell_type": "code",
   "execution_count": null,
   "metadata": {},
   "outputs": [],
   "source": [
    "def hepsi_bir_arada(zorunlu_arg, *args, **kwargs):\n",
    "    print(f'Zorunlu Argüman: {zorunlu_arg}')\n",
    "    print(f'Args: {args}')\n",
    "    print(f'Kwargs: {kwargs}')\n",
    "\n",
    "hepsi_bir_arada('Merhaba', 1, 2, 3, ad='Ayşe', yas=25)"
   ]
  },
  {
   "cell_type": "markdown",
   "metadata": {},
   "source": [
    "## 2. Belirli Değer Alan Fonksiyonlar"
   ]
  },
  {
   "cell_type": "markdown",
   "metadata": {},
   "source": [
    "Python 3.8 ve sonrası, fonksiyon parametrelerinin nasıl aktarılacağını daha kesin bir şekilde belirtmek için yeni sözdizimleri sunmuştur."
   ]
  },
  {
   "cell_type": "markdown",
   "metadata": {},
   "source": [
    "### Sadece Konumsal Argümanlar (Positional-Only)"
   ]
  },
  {
   "cell_type": "markdown",
   "metadata": {},
   "source": [
    "Parametre listesinde `/` işaretinden önce gelen argümanlar sadece konumsal olarak (değerle) atanabilir, anahtar kelime ile atanamaz."
   ]
  },
  {
   "cell_type": "code",
   "execution_count": null,
   "metadata": {},
   "outputs": [],
   "source": [
    "def sadece_konumsal(a, b, /):\n",
    "    return a + b\n",
    "\n",
    "print(sadece_konumsal(5, 10)) # Doğru\n",
    "# sadece_konumsal(a=5, b=10) # Hata verir: TypeError"
   ]
  },
  {
   "cell_type": "markdown",
   "metadata": {},
   "source": [
    "### Sadece Anahtar Kelimeli Argümanlar (Keyword-Only)"
   ]
  },
  {
   "cell_type": "markdown",
   "metadata": {},
   "source": [
    "Parametre listesinde `*`'dan sonra gelen argümanlar sadece anahtar kelime ile atanabilir."
   ]
  },
  {
   "cell_type": "code",
   "execution_count": null,
   "metadata": {},
   "outputs": [],
   "source": [
    "def sadece_anahtarli(*, a, b):\n",
    "    return a * b\n",
    "\n",
    "print(sadece_anahtarli(a=3, b=4)) # Doğru\n",
    "# sadece_anahtarli(3, 4) # Hata verir: TypeError"
   ]
  },
  {
   "cell_type": "markdown",
   "metadata": {},
   "source": [
    "## 3. Global ve Yerel Değişkenler"
   ]
  },
  {
   "cell_type": "markdown",
   "metadata": {},
   "source": [
    "- **Yerel (Local) Değişken:** Sadece bir fonksiyon içinde tanımlanan ve sadece o fonksiyon içinden erişilebilen değişkendir.\n",
    "- **Global Değişken:** Fonksiyonların dışında, kodun ana gövdesinde tanımlanan ve her yerden erişilebilen değişkendir."
   ]
  },
  {
   "cell_type": "code",
   "execution_count": null,
   "metadata": {},
   "outputs": [],
   "source": [
    "sayac = 0 # Global değişken\n",
    "\n",
    "def sayaci_arttir():\n",
    "    # Eğer globaldeki sayac'ı değiştirmek istiyorsak 'global' anahtar kelimesini kullanmalıyız.\n",
    "    global sayac\n",
    "    sayac += 1\n",
    "    print(f'İçerideki sayaç: {sayac}')\n",
    "\n",
    "sayaci_arttir()\n",
    "sayaci_arttir()\n",
    "print(f'Dışarıdaki sayaç: {sayac}')"
   ]
  },
  {
   "cell_type": "markdown",
   "metadata": {},
   "source": [
    "**Not:** Global değişkenleri fonksiyon içinde değiştirmek genellikle önerilmez çünkü kodun takibini zorlaştırabilir. Bunun yerine, fonksiyonun değeri döndürüp dışarıdaki değişkene atanması daha iyi bir pratiktir."
   ]
  },
  {
   "cell_type": "markdown",
   "metadata": {},
   "source": [
    "## 4. Recursive (Özyineli) Fonksiyonlar"
   ]
  },
  {
   "cell_type": "markdown",
   "metadata": {},
   "source": [
    "Bir fonksiyonun kendi kendini çağırması durumuna **recursion (özyineleme)** denir. Özellikle faktöriyel, Fibonacci serisi gibi problemlerde veya ağaç veri yapılarında gezinirken kullanılır."
   ]
  },
  {
   "cell_type": "code",
   "execution_count": null,
   "metadata": {},
   "outputs": [],
   "source": [
    "def faktoriyel(n):\n",
    "    # Temel durum: Fonksiyonun durma noktası\n",
    "    if n == 0 or n == 1:\n",
    "        return 1\n",
    "    # Recursive durum: Fonksiyonun kendini çağırdığı yer\n",
    "    else:\n",
    "        return n * faktoriyel(n - 1)\n",
    "\n",
    "print(f'5! = {faktoriyel(5)}') # 5 * 4 * 3 * 2 * 1 = 120"
   ]
  },
  {
   "cell_type": "markdown",
   "metadata": {},
   "source": [
    "## 5. Hata Yönetimi (Try-Except Blokları)"
   ]
  },
  {
   "cell_type": "markdown",
   "metadata": {},
   "source": [
    "Kod çalışırken oluşabilecek hataları (exceptions) yönetmek ve programın çökmesini engellemek için `try...except` blokları kullanılır."
   ]
  },
  {
   "cell_type": "code",
   "execution_count": null,
   "metadata": {},
   "outputs": [],
   "source": [
    "def bolme_yap(a, b):\n",
    "    try:\n",
    "        # Hata oluşma potansiyeli olan kod buraya yazılır\n",
    "        sonuc = a / b\n",
    "        print(f'Sonuç: {sonuc}')\n",
    "    except ZeroDivisionError:\n",
    "        # Sadece sıfıra bölme hatası yakalanırsa bu blok çalışır\n",
    "        print('Hata: Bir sayı sıfıra bölünemez!')\n",
    "    except TypeError:\n",
    "        # Sadece tip hatası (örn: sayı/string) yakalanırsa bu blok çalışır\n",
    "        print('Hata: Sadece sayılarla işlem yapabilirsiniz!')\n",
    "    except Exception as e:\n",
    "        # Diğer tüm hatalar için bu blok çalışır\n",
    "        print(f'Beklenmedik bir hata oluştu: {e}')\n",
    "    finally:\n",
    "        # Hata olsa da olmasa da her zaman çalışan blok\n",
    "        print('İşlem tamamlandı.')\n",
    "\n",
    "bolme_yap(10, 2)\n",
    "print('---')\n",
    "bolme_yap(10, 0)\n",
    "print('---')\n",
    "bolme_yap(10, 'a')"
   ]
  }
 ],
 "metadata": {
  "kernelspec": {
   "display_name": "Python 3",
   "language": "python",
   "name": "python3"
  },
  "language_info": {
   "codemirror_mode": {
    "name": "ipython",
    "version": 3
   },
   "file_extension": ".py",
   "mimetype": "text/x-python",
   "name": "python",
   "nbconvert_exporter": "python",
   "pygments_lexer": "ipython3",
   "version": "3.10.12"
  }
 },
 "nbformat": 4,
 "nbformat_minor": 4
}
