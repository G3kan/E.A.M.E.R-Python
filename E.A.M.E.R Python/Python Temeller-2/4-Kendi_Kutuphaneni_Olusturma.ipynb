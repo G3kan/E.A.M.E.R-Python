{
 "cells": [
  {
   "cell_type": "markdown",
   "metadata": {},
   "source": [
    "# Kendi Python Kütüphaneni (Modülünü) Oluşturma Rehberi"
   ]
  },
  {
   "cell_type": "markdown",
   "metadata": {},
   "source": [
    "Bu rehber, sık kullandığınız fonksiyonları veya sınıfları bir araya toplayarak kendi yeniden kullanılabilir Python modülünüzü (kütüphanenizi) nasıl oluşturacağınızı adım adım anlatır."
   ]
  },
  {
   "cell_type": "markdown",
   "metadata": {},
   "source": [
    "## Adım 1: Modül Dosyasını Oluşturma (.py dosyası)"
   ]
  },
  {
   "cell_type": "markdown",
   "metadata": {},
   "source": [
    "Bir modül, temel olarak içerisinde Python kodu (fonksiyonlar, sınıflar, değişkenler) barındıran bir `.py` dosyasıdır. Kendi modülümüzü oluşturmak için ilk olarak bu dosyayı yaratacağız.\n\nÖrnek olarak, basit matematiksel ve metin işlemleri yapan fonksiyonlar içeren `hesaplayici.py` adında bir modül oluşturalım."
   ]
  },
  {
   "cell_type": "code",
   "execution_count": null,
   "metadata": {},
   "outputs": [],
   "source": [
    "# Jupyter Notebook'un bu hücresindeki kodu bir dosyaya yazmak için `%%writefile` sihirli komutunu kullanıyoruz.\n# Bu komut, aşağıdaki içeriğe sahip `hesaplayici.py` adında bir dosya oluşturacaktır.\n\n%%writefile hesaplayici.py\n\ndef topla(a, b):\n    \"\"\"İki sayıyı toplar.\"\"\"\n    return a + b\n\ndef carp(a, b):\n    \"\"\"İki sayıyı çarpar.\"\"\"\n    return a * b\n\ndef buyuk_harfe_cevir(metin):\n    \"\"\"Bir metni büyük harflere çevirir.\"\"\"\n    return metin.upper()\n\nPI = 3.14159"
   ]
  },
  {
   "cell_type": "markdown",
   "metadata": {},
   "source": [
    "Yukarıdaki hücreyi çalıştırdığınızda, bu notebook'un bulunduğu dizinde (`Python Temeller-2/`) `hesaplayici.py` adında bir dosya oluşturulmuş olacak."
   ]
  },
  {
   "cell_type": "markdown",
   "metadata": {},
   "source": [
    "## Adım 2: Oluşturulan Modülü Kullanma (import)"
   ]
  },
  {
   "cell_type": "markdown",
   "metadata": {},
   "source": [
    "Oluşturduğumuz `hesaplayici.py` modülünü, aynı dizindeki başka bir Python scriptinden veya bu notebook'tan `import` anahtar kelimesiyle çağırabiliriz."
   ]
  },
  {
   "cell_type": "code",
   "execution_count": null,
   "metadata": {},
   "outputs": [],
   "source": [
    "# 1. Yöntem: Modülün tamamını import etme\nimport hesaplayici\n\n# Fonksiyonları `modul_adi.fonksiyon_adi` şeklinde kullanırız.\nsonuc_toplam = hesaplayici.topla(10, 5)\nsonuc_carpim = hesaplayici.carp(10, 5)\n\nprint(f'Toplama sonucu: {sonuc_toplam}')\nprint(f'Çarpma sonucu: {sonuc_carpim}')\n\n# Modül içindeki değişkene erişim\nprint(f'PI değeri: {hesaplayici.PI}')"
   ]
  },
  {
   "cell_type": "code",
   "execution_count": null,
   "metadata": {},
   "outputs": [],
   "source": [
    "# 2. Yöntem: Modülden belirli fonksiyonları import etme\nfrom hesaplayici import topla, buyuk_harfe_cevir\n\n# Fonksiyonları doğrudan isimleriyle kullanabiliriz.\nsonuc_toplam_2 = topla(20, 15)\nmetin_sonuc = buyuk_harfe_cevir(\"merhaba dünya\")\n\nprint(f'İkinci toplama sonucu: {sonuc_toplam_2}')\nprint(f'Büyük harfli metin: {metin_sonuc}')"
   ]
  },
  {
   "cell_type": "code",
   "execution_count": null,
   "metadata": {},
   "outputs": [],
   "source": [
    "# 3. Yöntem: Modüle takma ad (alias) vererek import etme\nimport hesaplayici as hsp\n\nsonuc_carpim_2 = hsp.carp(7, 8)\nprint(f'Takma ad ile çarpma sonucu: {sonuc_carpim_2}')"
   ]
  },
  {
   "cell_type": "markdown",
   "metadata": {},
   "source": [
    "## Adım 3: Kütüphaneyi Paket Haline Getirme"
   ]
  },
  {
   "cell_type": "markdown",
   "metadata": {},
   "source": [
    "Eğer birden fazla modülü bir arada gruplamak isterseniz, bir **paket** oluşturabilirsiniz. Bir paket, içerisinde Python modülleri ve özel bir `__init__.py` dosyası barındıran bir klasördür.\n\n`__init__.py` dosyasının varlığı, Python'a bu klasörün bir paket olduğunu belirtir. Bu dosya boş olabilir veya paketin başlangıç ayarlarını içerebilir.\n\nÖrnek Paket Yapısı:\n```\nbenim_kutuphanem/\n    __init__.py\n    matematik.py\n    metin.py\n```"
   ]
  },
  {
   "cell_type": "markdown",
   "metadata": {},
   "source": [
    "Şimdi bu yapıyı oluşturalım."
   ]
  },
  {
   "cell_type": "code",
   "execution_count": null,
   "metadata": {},
   "outputs": [],
   "source": [
    "!mkdir benim_kutuphanem"
   ]
  },
  {
   "cell_type": "code",
   "execution_count": null,
   "metadata": {},
   "outputs": [],
   "source": [
    "%%writefile benim_kutuphanem/__init__.py\n# Bu dosya boş olabilir veya paketin içindeki modüllerden\n# bazı fonksiyonları doğrudan erişilebilir kılabilir.\n\nfrom .matematik import topla, carp\nfrom .metin import selam_ver"
   ]
  },
  {
   "cell_type": "code",
   "execution_count": null,
   "metadata": {},
   "outputs": [],
   "source": [
    "%%writefile benim_kutuphanem/matematik.py\ndef topla(a, b):\n    return a + b\n\ndef carp(a, b):\n    return a * b"
   ]
  },
  {
   "cell_type": "code",
   "execution_count": null,
   "metadata": {},
   "outputs": [],
   "source": [
    "%%writefile benim_kutuphanem/metin.py\ndef selam_ver(isim):\n    return f'Merhaba, {isim}!'"
   ]
  },
  {
   "cell_type": "markdown",
   "metadata": {},
   "source": [
    "### Oluşturulan Paketi Kullanma"
   ]
  },
  {
   "cell_type": "code",
   "execution_count": null,
   "metadata": {},
   "outputs": [],
   "source": [
    "# __init__.py sayesinde fonksiyonlara doğrudan paketten erişebiliriz.\nimport benim_kutuphanem as bk\n\nprint(bk.topla(5, 3))\nprint(bk.selam_ver(\"Ayşe\"))"
   ]
  },
  {
   "cell_type": "code",
   "execution_count": null,
   "metadata": {},
   "outputs": [],
   "source": [
    "# Veya doğrudan modülleri import edebiliriz\nfrom benim_kutuphanem import matematik, metin\n\nprint(matematik.carp(4, 5))\nprint(metin.selam_ver(\"Fatma\"))"
   ]
  }
 ],
 "metadata": {
  "kernelspec": {
   "display_name": "Python 3",
   "language": "python",
   "name": "python3"
  },
  "language_info": {
   "codemirror_mode": {
    "name": "ipython",
    "version": 3
   },
   "file_extension": ".py",
   "mimetype": "text/x-python",
   "name": "python",
   "nbconvert_exporter": "python",
   "pygments_lexer": "ipython3",
   "version": "3.10.12"
  }
 },
 "nbformat": 4,
 "nbformat_minor": 4
}