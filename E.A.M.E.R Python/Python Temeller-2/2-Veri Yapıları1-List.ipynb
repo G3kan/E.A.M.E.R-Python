{
 "cells": [
  {
   "cell_type": "code",
   "execution_count": null,
   "id": "3f3ebd71",
   "metadata": {},
   "outputs": [],
   "source": [
    "#İç İçe Listeler Kullanımı\n",
    "\n",
    "#Python'da bir listenin elemanları başka bir liste de olabilir.\n",
    "# Bu yapıya \"iç içe liste\" (nested list) denir.\n",
    "# Özellikle tablo, matris veya çok boyutlu veri yapılarında kullanılır."
   ]
  },
  {
   "cell_type": "code",
   "execution_count": null,
   "id": "a501b6c8",
   "metadata": {},
   "outputs": [],
   "source": [
    "#Örnek: Öğrenci Bilgileri Listesi\n",
    "#Her öğrenci için isim, not1 ve not2 bilgilerini içeren bir liste oluşturalım.\n",
    "\n",
    "ogrenciler = [\n",
    "    [\"Ali\", 90, 85],\n",
    "    [\"Ayşe\", 88, 92],\n",
    "    [\"Mehmet\", 75, 80]\n",
    "]\n"
   ]
  },
  {
   "cell_type": "code",
   "execution_count": null,
   "id": "048dc964",
   "metadata": {},
   "outputs": [],
   "source": [
    "# İç İçe Liste Kullanımı\n",
    "print(ogrenciler[0])        # ['Ali', 90, 85]\n",
    "print(ogrenciler[1][0])     # 'Ayşe'\n",
    "print(ogrenciler[2][1])     # 75\n"
   ]
  },
  {
   "cell_type": "code",
   "execution_count": null,
   "id": "b5fc5e4a",
   "metadata": {},
   "outputs": [],
   "source": [
    "#Tüm Öğrencileri ve Notlarını Yazdırma:\n",
    "print(\"Tüm Öğrenciler ve Notları:\")\n",
    "for ogrenci in ogrenciler:\n",
    "    print(f\"Ad: {ogrenci[0]}, Notlar: {ogrenci[1:]}\")\n",
    "\n"
   ]
  },
  {
   "cell_type": "code",
   "execution_count": null,
   "id": "7e186ea0",
   "metadata": {},
   "outputs": [],
   "source": [
    "\n",
    "\n",
    "ogrenciler[0][1] = 95  # Ali'nin ilk notunu değiştir\n",
    "print(ogrenciler[0])   # ['Ali', 95, 85]\n",
    "\n"
   ]
  },
  {
   "cell_type": "code",
   "execution_count": null,
   "id": "c7623761",
   "metadata": {},
   "outputs": [],
   "source": [
    "\n",
    "# Liste İçinde Liste ile Tablo Gibi Kullanım\n",
    "#Örnek: 3x3 Matris Oluşturma\n",
    "\n",
    "matris = [\n",
    "    [1, 2, 3], # İlk satır index 0\n",
    "    [4, 5, 6], # İkinci satır index 1\n",
    "    [7, 8, 9]  # Üçüncü satır index 2\n",
    "]\n",
    "print(matris[1][2])  # 6 (2. satır, 3. sütun)\n",
    "\n"
   ]
  },
  {
   "cell_type": "code",
   "execution_count": null,
   "id": "a3037265",
   "metadata": {},
   "outputs": [],
   "source": [
    "\n",
    "# Matris Elemanlarını Yazdırma\n",
    "print(\"Matris Elemanları:\")\n",
    "for satir in matris:\n",
    "    for eleman in satir:\n",
    "        print(eleman, end=\" \")\n",
    "    print()"
   ]
  }
 ],
 "metadata": {
  "language_info": {
   "name": "python"
  }
 },
 "nbformat": 4,
 "nbformat_minor": 5
}
