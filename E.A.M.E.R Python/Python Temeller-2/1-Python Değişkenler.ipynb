{
 "cells": [
  {
   "cell_type": "markdown",
   "id": "9f205c4d",
   "metadata": {},
   "source": [
    "f-string Nedir? (Formatlı Stringler)\n",
    "\n",
    "Python'da f-string (formatlı string), değişkenleri ve ifadeleri doğrudan bir string içinde kolayca göstermek için kullanılır. 2018'den (Python 3.6) itibaren kullanılabilir.\n",
    "\n",
    "Kullanımı:\n",
    "Bir stringin başına `f` harfi eklenir ve süslü parantez `{}` içine değişken veya ifade yazılır.\n"
   ]
  },
  {
   "cell_type": "code",
   "execution_count": null,
   "id": "27bcfdde",
   "metadata": {},
   "outputs": [],
   "source": [
    "\n",
    "isim = \"Ali\"\n",
    "yas = 25\n",
    "print(f\"Benim adim {isim}, yaşim {yas}.\")\n",
    "# Çıktı: Benim adım Ali, yaşım 25.\n",
    "\n",
    "# İfadeler de kullanılabilir:\n",
    "print(f\"Gelecek yil {isim} {yas+1} yaşinda olacak.\")\n",
    "# Çıktı: Gelecek yıl Ali 26 yaşında olacak.\n",
    "# f-string, değişkenlerin ve ifadelerin değerlerini string içinde kolayca birleştirmeyi sağlar.\n",
    "\n"
   ]
  },
  {
   "cell_type": "code",
   "execution_count": 1,
   "id": "4aea6fd2",
   "metadata": {},
   "outputs": [
    {
     "name": "stdout",
     "output_type": "stream",
     "text": [
      "1\n"
     ]
    }
   ],
   "source": [
    "y = 1\n",
    "x = y\n",
    "y = 2\n",
    "print(x)  # 1\n",
    "\n",
    "#Burada `x = y` satırında, `x` değişkeni `y`'nin o anki değerini alır (yani 1). \n",
    "# Sonrasında `y`'nin değeri değişse de, `x`'in değeri değişmez.\n"
   ]
  },
  {
   "cell_type": "code",
   "execution_count": null,
   "id": "f5613311",
   "metadata": {},
   "outputs": [],
   "source": [
    "# Değişkenlerin Bellekteki Davranışı\n",
    "\n",
    "#Sayılar ve stringler** gibi değiştirilemeyen (immutable) tiplerde, \n",
    "# atama sırasında değer kopyalanır.\n",
    "#Listeler, sözlükler** gibi değiştirilebilir (mutable) tiplerde ise, \n",
    "# atama sırasında referans kopyalanır.\n",
    "\n",
    "liste1 = [1, 2, 3]\n",
    "liste2 = liste1\n",
    "liste2[0] = 99\n",
    "print(liste1)  # [99, 2, 3]\n",
    "\n",
    "#Burada `liste2`, `liste1` ile aynı listeyi gösterir. \n",
    "# Birinde yapılan değişiklik diğerini de etkiler.\n"
   ]
  },
  {
   "cell_type": "code",
   "execution_count": null,
   "id": "4786ecc6",
   "metadata": {},
   "outputs": [],
   "source": [
    "\n",
    "# Ancak, eğer `copy()` metodu kullanılırsa, yeni bir kopya oluşturulur:\n",
    "# yaparak `liste2`'yi `liste1`'den bağımsız hale getirebilirsin:\n",
    "liste1 = [1, 2, 3]\n",
    "liste2 = liste1.copy()\n",
    "liste2[0] = 99\n",
    "print(liste1)  # [1, 2, 3]\n",
    "print(liste2)  # [99, 2, 3]\n",
    "\n"
   ]
  },
  {
   "cell_type": "code",
   "execution_count": null,
   "id": "2d378595",
   "metadata": {},
   "outputs": [],
   "source": [
    "\n",
    "\n",
    "#Birden fazla değişkene aynı anda değer atayabilirsin:\n",
    "a, b, c = 1, 2, 3\n",
    "\n",
    "# Bu, `a = 1`, `b = 2`, `c = 3` ile aynıdır.\n",
    "# Ayrıca, bir değişkeni başka bir değişkene atayarak da değer paylaşabilirsin:\n",
    "x = y = 5\n",
    "# Bu, `x = 5` ve `y = 5` ile aynıdır\n",
    "# Ancak, bu durumda `x` ve `y` aynı nesneyi referans al\n",
    "# ederler. Yani, `x`'in değerini değiştirdiğinde `y` de etkilenir:\n",
    "x = 10\n",
    "print(y)  # 5\n",
    "# Burada `y` hala 5 olarak kalır, çünkü `x` ve `y` farklı nesneleri referans alır.\n",
    "# Ancak, eğer `x` ve `y`'yi aynı nesneye atarsan, birinin değeri değiştiğinde\n",
    "# diğerinin de değişeceğini unutma:\n",
    "x = y = [1, 2, 3]\n",
    "x[0] = 99\n",
    "print(y)  # [99, 2, 3]\n",
    "# Burada `x` ve `y` aynı listeyi referans alır, bu yüzden `x`'de yapılan değişiklik `y`'yi de etkiler.\n",
    "# Eğer `x` ve `y`'yi bağımsız hale getirmek istersen, `copy()` metodunu kullanabilirsin:\n"
   ]
  },
  {
   "cell_type": "code",
   "execution_count": null,
   "id": "4d7e13e7",
   "metadata": {},
   "outputs": [],
   "source": [
    "# Değişkenlerin Yerini Değiştirme (Swap)\n",
    "x = 5\n",
    "y = 10\n",
    "x, y = y, x\n",
    "print(x, y)  # 10 5\n",
    "# Bu, `x` ve `y`'nin değerlerini birbirleriyle değiştirir.\n"
   ]
  },
  {
   "cell_type": "code",
   "execution_count": null,
   "id": "851434ff",
   "metadata": {},
   "outputs": [],
   "source": [
    "x+=1 # Bu, x = x + 1 ile aynıdır.\n",
    "y*=2 # Bu, y = y * 2 ile aynıdır.\n",
    "print(x, y)  # 11 20\n"
   ]
  }
 ],
 "metadata": {
  "kernelspec": {
   "display_name": "base",
   "language": "python",
   "name": "python3"
  },
  "language_info": {
   "codemirror_mode": {
    "name": "ipython",
    "version": 3
   },
   "file_extension": ".py",
   "mimetype": "text/x-python",
   "name": "python",
   "nbconvert_exporter": "python",
   "pygments_lexer": "ipython3",
   "version": "3.12.7"
  }
 },
 "nbformat": 4,
 "nbformat_minor": 5
}
