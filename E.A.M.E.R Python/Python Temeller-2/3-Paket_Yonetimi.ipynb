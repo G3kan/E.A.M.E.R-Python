{
 "cells": [
  {
   "cell_type": "markdown",
   "metadata": {},
   "source": [
    "# Python Paket Yönetimi Rehberi: `pip` ve Sanal Ortamlar (`venv`)"
   ]
  },
  {
   "cell_type": "markdown",
   "metadata": {},
   "source": [
    "Bu doküman, Python projelerinde dış kütüphaneleri (paketleri) yönetmek için kullanılan temel araçları ve en iyi uygulamaları anlatmaktadır."
   ]
  },
  {
   "cell_type": "markdown",
   "metadata": {},
   "source": [
    "## 1. Paket ve Kütüphane Nedir?"
   ]
  },
  {
   "cell_type": "markdown",
   "metadata": {},
   "source": [
    "**Paket (veya Kütüphane):** Başkaları tarafından yazılmış ve belirli bir işi yapmak için kullanabileceğimiz hazır kod koleksiyonlarıdır. Örneğin, matematiksel hesaplamalar için `numpy`, veri analizi için `pandas` gibi kütüphaneler bulunur. Bu paketler, kod tekrarını önler ve projelerimizi hızlandırır."
   ]
  },
  {
   "cell_type": "markdown",
   "metadata": {},
   "source": [
    "## 2. `pip`: Python Paket Yöneticisi"
   ]
  },
  {
   "cell_type": "markdown",
   "metadata": {},
   "source": [
    "`pip`, Python için standart paket yöneticisidir. Python ile birlikte gelir ve Python Paket İndeksi'nden (PyPI) paketleri kurmamızı, güncellememizi ve kaldırmamızı sağlar."
   ]
  },
  {
   "cell_type": "markdown",
   "metadata": {},
   "source": [
    "### `pip` ile Paket Kurma"
   ]
  },
  {
   "cell_type": "code",
   "execution_count": null,
   "metadata": {},
   "outputs": [],
   "source": [
    "# Not: Jupyter Notebook içinde terminal komutlarını çalıştırmak için başına `!` işareti konur.\n# Örnek olarak `requests` kütüphanesini kuralım.\n!pip install requests"
   ]
  },
  {
   "cell_type": "markdown",
   "metadata": {},
   "source": [
    "### Kurulu Paketleri Listeleme"
   ]
  },
  {
   "cell_type": "code",
   "execution_count": null,
   "metadata": {},
   "outputs": [],
   "source": [
    "# Sistemde kurulu tüm Python paketlerini listeler.\n!pip list"
   ]
  },
  {
   "cell_type": "markdown",
   "metadata": {},
   "source": [
    "### Paket Kaldırma"
   ]
  },
  {
   "cell_type": "code",
   "execution_count": null,
   "metadata": {},
   "outputs": [],
   "source": [
    "# Az önce kurduğumuz `requests` paketini kaldıralım.\n# `-y` parametresi, 'emin misiniz?' sorusuna otomatik evet yanıtı verir.\n!pip uninstall requests -y"
   ]
  },
  {
   "cell_type": "markdown",
   "metadata": {},
   "source": [
    "## 3. `requirements.txt` ile Proje Bağımlılıklarını Yönetme"
   ]
  },
  {
   "cell_type": "markdown",
   "metadata": {},
   "source": [
    "Bir projede kullanılan tüm paketleri ve sürümlerini bir dosyada tutmak, projenin başka bir bilgisayarda da sorunsuz çalışmasını sağlar. Bu dosya genellikle `requirements.txt` olarak adlandırılır."
   ]
  },
  {
   "cell_type": "markdown",
   "metadata": {},
   "source": [
    "### `requirements.txt` Dosyası Oluşturma"
   ]
  },
  {
   "cell_type": "code",
   "execution_count": null,
   "metadata": {},
   "outputs": [],
   "source": [
    "# `pip freeze` komutu, kurulu paketleri ve sürümlerini listeler.\n# `>` operatörü ile bu çıktıyı bir dosyaya yönlendirebiliriz.\n!pip freeze > requirements.txt"
   ]
  },
  {
   "cell_type": "markdown",
   "metadata": {},
   "source": [
    "### `requirements.txt` Dosyasından Paketleri Kurma"
   ]
  },
  {
   "cell_type": "code",
   "execution_count": null,
   "metadata": {},
   "outputs": [],
   "source": [
    "# `-r` parametresi ile bir dosyadan okuyarak kurulum yapabiliriz.\n!pip install -r requirements.txt"
   ]
  },
  {
   "cell_type": "markdown",
   "metadata": {},
   "source": [
    "## 4. Sanal Ortamlar (Virtual Environments - `venv`)"
   ]
  },
  {
   "cell_type": "markdown",
   "metadata": {},
   "source": [
    "**Sanal Ortam Nedir?** Her projenin kendi bağımlılıklarını (paketlerini) diğer projelerden ve sistem genelindeki Python kurulumundan izole bir şekilde yönetmesini sağlayan bir yapıdır.\n\n**Neden Kullanmalıyız?**\n- **Bağımlılık Çakışmalarını Önler:** Proje A, bir paketin 1.0 sürümünü kullanırken, Proje B aynı paketin 2.0 sürümünü kullanabilir. Sanal ortamlar olmadan bu bir soruna yol açardı.\n- **Temiz Bir Çalışma Alanı:** Sadece o proje için gerekli paketler kurulur.\n- **Taşınabilirlik:** `requirements.txt` dosyası ile projenizi ve bağımlılıklarını başka birine kolayca gönderebilirsiniz."
   ]
  },
  {
   "cell_type": "markdown",
   "metadata": {},
   "source": [
    "### Sanal Ortam Oluşturma ve Kullanma (Terminal/Command Prompt üzerinden)"
   ]
  },
  {
   "cell_type": "markdown",
   "metadata": {},
   "source": [
    "**1. Sanal Ortam Oluşturma:**\nProje dizininizde terminali açın ve aşağıdaki komutu çalıştırın. `projem_env` sanal ortamın adıdır.\n```bash\npython -m venv projem_env\n```\n\n**2. Sanal Ortamı Aktifleştirme:**\n- **Windows'ta:**\n  ```bash\n  .\\projem_env\\Scripts\\activate\n  ```\n- **macOS ve Linux'ta:**\n  ```bash\n  source projem_env/bin/activate\n  ```\nAktifleştirdikten sonra, komut satırının başında `(projem_env)` gibi bir ifade görürsünüz. Bu, artık sanal ortamda olduğunuzu gösterir.\n\n**3. Bağımlılıkları Kurma:**\nArtık `pip install` ile kurduğunuz her paket sadece bu sanal ortama kurulacaktır.\n```bash\npip install numpy pandas\n```\n\n**4. Sanal Ortamı Devre Dışı Bırakma:**\nİşiniz bittiğinde, aşağıdaki komutla sanal ortamdan çıkabilirsiniz.\n```bash\ndeactivate\n```"
   ]
  }
 ],
 "metadata": {
  "kernelspec": {
   "display_name": "Python 3",
   "language": "python",
   "name": "python3"
  },
  "language_info": {
   "codemirror_mode": {
    "name": "ipython",
    "version": 3
   },
   "file_extension": ".py",
   "mimetype": "text/x-python",
   "name": "python",
   "nbconvert_exporter": "python",
   "pygments_lexer": "ipython3",
   "version": "3.10.12"
  }
 },
 "nbformat": 4,
 "nbformat_minor": 4
}