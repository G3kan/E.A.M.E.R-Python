{
 "cells": [
  {
   "cell_type": "markdown",
   "metadata": {},
   "source": [
    "# Python'da Nesne Yönelimli Programlama (OOP) Rehberi"
   ]
  },
  {
   "cell_type": "markdown",
   "metadata": {},
   "source": [
    "Bu doküman, Python'daki Nesne Yönelimli Programlama (OOP) yapısını temelden başlayarak anlatmayı amaçlamaktadır. Konular, bol örneklerle ve açıklamalarla desteklenmiştir."
   ]
  },
  {
   "cell_type": "markdown",
   "metadata": {},
   "source": [
    "## 1. Sınıflar (Classes) ve Nesneler (Objects)"
   ]
  },
  {
   "cell_type": "markdown",
   "metadata": {},
   "source": [
    "**Sınıf (Class):** Bir nesnenin özelliklerini (attributes) ve davranışlarını (methods) tanımlayan bir şablondur. Örneğin, bir `Araba` sınıfı, tüm arabaların ortak özelliklerini (renk, marka, model) ve yapabileceği eylemleri (çalıştır, durdur) içerir.\n\n**Nesne (Object):** Bir sınıftan oluşturulmuş somut bir örnektir. `Araba` sınıfından oluşturulan `benim_arabam` bir nesnedir ve kendine özgü değerlere (kırmızı, Ford, Focus) sahiptir."
   ]
  },
  {
   "cell_type": "markdown",
   "metadata": {},
   "source": [
    "### Temel Sınıf Tanımlama"
   ]
  },
  {
   "cell_type": "code",
   "execution_count": null,
   "metadata": {},
   "outputs": [],
   "source": [
    "class Araba:\n    # __init__ metodu (Constructor): Bir nesne oluşturulduğunda otomatik olarak çağrılır.\n    # self: Sınıfın kendisini temsil eder ve her metodun ilk parametresi olmalıdır.\n    def __init__(self, marka, model, yil, renk):\n        # Bunlar nesne özellikleridir (instance attributes)\n        self.marka = marka\n        self.model = model\n        self.yil = yil\n        self.renk = renk\n        self.calisiyor = False\n\n    # Bunlar nesne metotlarıdır (instance methods)\n    def calistir(self):\n        if not self.calisiyor:\n            self.calisiyor = True\n            return f'{self.marka} {self.model} çalıştırıldı.'\n        return f'{self.marka} {self.model} zaten çalışıyor.'\n\n    def durdur(self):\n        if self.calisiyor:\n            self.calisiyor = False\n            return f'{self.marka} {self.model} durduruldu.'\n        return f'{self.marka} {self.model} zaten duruyor.'\n\n    def bilgileri_goster(self):\n        return f'Marka: {self.marka}, Model: {self.model}, Yıl: {self.yil}, Renk: {self.renk}'"
   ]
  },
  {
   "cell_type": "markdown",
   "metadata": {},
   "source": [
    "### Sınıftan Nesne Oluşturma"
   ]
  },
  {
   "cell_type": "code",
   "execution_count": null,
   "metadata": {},
   "outputs": [],
   "source": [
    "# Araba sınıfından bir nesne (örnek) oluşturalım\naraba1 = Araba(\"Ford\", \"Mustang\", 2022, \"Kırmızı\")\n\n# Nesnenin özelliklerine erişim\nprint(f'Arabanın markası: {araba1.marka}')\nprint(f'Arabanın rengi: {araba1.renk}')\n\n# Nesnenin metotlarını çağırma\nprint(araba1.calistir())\nprint(araba1.durdur())\nprint(araba1.bilgileri_goster())"
   ]
  },
  {
   "cell_type": "markdown",
   "metadata": {},
   "source": [
    "## 2. Kalıtım (Inheritance)"
   ]
  },
  {
   "cell_type": "markdown",
   "metadata": {},
   "source": [
    "**Kalıtım**, bir sınıfın (alt sınıf/child class) başka bir sınıfın (üst sınıf/parent class) tüm özelliklerini ve metotlarını miras almasıdır. Bu, kod tekrarını önler ve daha organize bir yapı sağlar."
   ]
  },
  {
   "cell_type": "markdown",
   "metadata": {},
   "source": [
    "### Kalıtım Örneği"
   ]
  },
  {
   "cell_type": "code",
   "execution_count": null,
   "metadata": {},
   "outputs": [],
   "source": [
    "# ElektrikliAraba sınıfı, Araba sınıfından kalıtım alıyor.\nclass ElektrikliAraba(Araba):\n    def __init__(self, marka, model, yil, renk, batarya_kapasitesi):\n        # super() ile üst sınıfın __init__ metodunu çağırıyoruz.\n        super().__init__(marka, model, yil, renk)\n        self.batarya_kapasitesi = batarya_kapasitesi\n\n    # Üst sınıftaki bir metodu geçersiz kılma (Method Overriding)\n    def bilgileri_goster(self):\n        ust_sinif_bilgileri = super().bilgileri_goster()\n        return f'{ust_sinif_bilgileri}, Batarya: {self.batarya_kapasitesi} kWh'\n\n    # Yeni bir metot ekleme\n    def sarj_et(self):\n        return f'{self.marka} {self.model} şarj ediliyor.'"
   ]
  },
  {
   "cell_type": "code",
   "execution_count": null,
   "metadata": {},
   "outputs": [],
   "source": [
    "# ElektrikliAraba sınıfından bir nesne oluşturalım\nelektrikli_araba = ElektrikliAraba(\"Tesla\", \"Model S\", 2023, \"Beyaz\", 100)\n\n# Miras alınan özellikler ve metotlar\nprint(f'Marka: {elektrikli_araba.marka}')\nprint(elektrikli_araba.calistir())\n\n# Geçersiz kılınan (override edilmiş) metot\nprint(elektrikli_araba.bilgileri_goster())\n\n# Yeni eklenen metot\nprint(elektrikli_araba.sarj_et())"
   ]
  },
  {
   "cell_type": "markdown",
   "metadata": {},
   "source": [
    "## 3. Kapsülleme (Encapsulation)"
   ]
  },
  {
   "cell_type": "markdown",
   "metadata": {},
   "source": [
    "**Kapsülleme**, bir nesnenin verilerini (özelliklerini) ve bu veriler üzerinde işlem yapan metotları bir arada tutarak, verilerin dışarıdan doğrudan erişilmesini kısıtlama prensibidir. Bu, verilerin istenmeyen şekillerde değiştirilmesini engeller.\n\nPython'da, bir özelliğin isminin başına `__` (iki alt çizgi) koyarak onu \"özel\" (private) yapabiliriz. Bu, özelliğe sınıf dışından doğrudan erişimi engeller (aslında isim değiştirme yoluyla gizler)."
   ]
  },
  {
   "cell_type": "code",
   "execution_count": null,
   "metadata": {},
   "outputs": [],
   "source": [
    "class BankaHesabi:\n    def __init__(self, hesap_sahibi, bakiye=0):\n        self.hesap_sahibi = hesap_sahibi\n        # __bakiye özelliği özel (private) yapıldı.\n        self.__bakiye = bakiye\n\n    def para_yatir(self, miktar):\n        if miktar > 0:\n            self.__bakiye += miktar\n            print(f'{miktar} TL yatırıldı. Yeni bakiye: {self.__bakiye} TL')\n        else:\n            print('Geçersiz miktar.')\n\n    def para_cek(self, miktar):\n        if 0 < miktar <= self.__bakiye:\n            self.__bakiye -= miktar\n            print(f'{miktar} TL çekildi. Yeni bakiye: {self.__bakiye} TL')\n        else:\n            print('Yetersiz bakiye veya geçersiz miktar.')\n\n    def bakiye_sorgula(self):\n        return f'Güncel bakiyeniz: {self.__bakiye} TL'"
   ]
  },
  {
   "cell_type": "code",
   "execution_count": null,
   "metadata": {},
   "outputs": [],
   "source": [
    "hesap = BankaHesabi(\"Ali Veli\", 1000)\n\n# Bakiye sorgulama (metot aracılığıyla)\nprint(hesap.bakiye_sorgula())\n\n# Para yatırma ve çekme\nhesap.para_yatir(500)\nhesap.para_cek(200)\n\n# Özel özelliğe doğrudan erişmeye çalışalım\ntry:\n    print(hesap.__bakiye) # Bu satır AttributeError hatası verecektir.\nexcept AttributeError as e:\n    print(f'Hata: {e}')\n\n# Python'da bu özelliğe aslında `_BankaHesabi__bakiye` olarak erişilebilir ama bu önerilmez.\nprint(f'Doğrudan erişim (önerilmez): {hesap._BankaHesabi__bakiye}')"
   ]
  },
  {
   "cell_type": "markdown",
   "metadata": {},
   "source": [
    "## 4. Çok Biçimlilik (Polymorphism)"
   ]
  },
  {
   "cell_type": "markdown",
   "metadata": {},
   "source": [
    "**Çok biçimlilik**, farklı sınıflara ait nesnelerin aynı arayüzü (metot ismini) paylaşmasına rağmen farklı şekillerde davranabilmesidir. Genellikle kalıtım ile birlikte kullanılır ve kodun daha esnek olmasını sağlar."
   ]
  },
  {
   "cell_type": "code",
   "execution_count": null,
   "metadata": {},
   "outputs": [],
   "source": [
    "class Kedi:\n    def ses_cikar(self):\n        return \"Miyav!\"\n\nclass Kopek:\n    def ses_cikar(self):\n        return \"Hav hav!\"\n\nclass Kus:\n    def ses_cikar(self):\n        return \"Cik cik!\"\n\n# Farklı nesneler, aynı metot ismi\nkedicik = Kedi()\nkopekcik = Kopek()\nkusçuk = Kus()\n\n# Her nesne kendi `ses_cikar` metodunu çağırır\nhayvanlar = [kedicik, kopekcik, kusçuk]\n\nfor hayvan in hayvanlar:\n    print(f'{hayvan.__class__.__name__} diyor ki: {hayvan.ses_cikar()}')"
   ]
  }
 ],
 "metadata": {
  "kernelspec": {
   "display_name": "Python 3",
   "language": "python",
   "name": "python3"
  },
  "language_info": {
   "codemirror_mode": {
    "name": "ipython",
    "version": 3
   },
   "file_extension": ".py",
   "mimetype": "text/x-python",
   "name": "python",
   "nbconvert_exporter": "python",
   "pygments_lexer": "ipython3",
   "version": "3.10.12"
  }
 },
 "nbformat": 4,
 "nbformat_minor": 4
}