{
 "cells": [
  {
   "cell_type": "code",
   "execution_count": null,
   "id": "198a73d7",
   "metadata": {},
   "outputs": [],
   "source": [
    "### Python'da Pointer Kavramı\n",
    "\n",
    "#Python'da C/C++ gibi klasik \"pointer\" (işaretçi) kavramı yoktur. Ancak, \n",
    "# Python'da değişkenler aslında nesnelere referans (işaret) eder. \n",
    "# Yani, bir değişken bir nesnenin adresini tutar, fakat bu adres doğrudan kullanıcıya gösterilmez.\n",
    "\n",
    "#### Temel Fikir\n",
    "#Python'da her değişken, bir nesneye referans olur.\n",
    "#Değiştirilebilir (mutable) nesnelerde (ör: listeler), \n",
    "#birden fazla değişken aynı nesneyi gösterebilir.\n",
    "#Değiştirilemeyen (immutable) nesnelerde (ör: int, str), \n",
    "# yeni değer atandığında yeni bir nesne oluşur.\n",
    "\n",
    "# Örnek: Liste Referansı"
   ]
  },
  {
   "cell_type": "markdown",
   "id": "9b784e6a",
   "metadata": {},
   "source": [
    "Immutable Nesne Ne Demek?\n",
    "\n",
    "Immutable nesne**, oluşturulduktan sonra değeri değiştirilemeyen nesnedir. Yani, bir immutable nesnenin içeriği değiştirilemez.\n",
    "\n",
    "Python'da Immutable Nesnelere Örnekler:\n",
    "- `int` (tam sayılar)\n",
    "- `float` (ondalıklı sayılar)\n",
    "- `str` (metinler)\n",
    "- `tuple` (demetler)\n",
    "\n",
    "Örnek:\n"
   ]
  },
  {
   "cell_type": "markdown",
   "id": "8407c8cb",
   "metadata": {},
   "source": [
    "Açıklama:\n",
    "Bir immutable nesneye yeni bir değer atandığında, aslında yeni bir nesne oluşturulur ve değişken bu yeni nesneyi gösterir. Eski nesne değişmez.\n",
    "\n",
    "**Mutable nesneler** ise (ör: listeler, sözlükler) değiştirilebilir; içeriği güncellenebilir."
   ]
  },
  {
   "cell_type": "code",
   "execution_count": null,
   "id": "9d0e7435",
   "metadata": {},
   "outputs": [],
   "source": [
    "a = [1, 2, 3]\n",
    "b = a      # b, a ile aynı listeyi gösterir\n",
    "b[0] = 99\n",
    "print(a)   # [99, 2, 3]  (a da değişti!)\n",
    "# copy() ile kopyalama\n",
    "c = a.copy()  # c, a'nın kopyasını alır\n",
    "c[0] = 100\n",
    "print(a)   # [99, 2, 3]  (a değişmedi!)\n",
    "print(c)   # [100, 2, 3] (c değişti)"
   ]
  },
  {
   "cell_type": "code",
   "execution_count": 2,
   "id": "a6ea7130",
   "metadata": {},
   "outputs": [
    {
     "name": "stdout",
     "output_type": "stream",
     "text": [
      "135930940093760 135930940093760\n",
      "True\n",
      "135930940093760 135930940089600\n"
     ]
    }
   ],
   "source": [
    "\n",
    "#### id() Fonksiyonu\n",
    "#Bir nesnenin bellekteki adresini görmek için `id()` fonksiyonu kullanılabilir:\n",
    "\n",
    "x = [1, 2, 3]\n",
    "y = x\n",
    "print(id(x), id(y))  # Aynı adres\n",
    "print(id(x) == id(y))  # True\n",
    "# Yeni bir nesne atandığında adres değişir\n",
    "y = [4, 5, 6]\n",
    "print(id(x), id(y))  # Farklı adresler"
   ]
  },
  {
   "cell_type": "code",
   "execution_count": 3,
   "id": "4f94a9e7",
   "metadata": {},
   "outputs": [
    {
     "name": "stdout",
     "output_type": "stream",
     "text": [
      "9767048\n",
      "9767368\n"
     ]
    }
   ],
   "source": [
    "a = 10\n",
    "print(id(a))  # a'nın adresi\n",
    "a = 20\n",
    "print(id(a))  # Yeni a'nın adresi (farklı)\n",
    "# Immutable nesnelerde yeni bir nesne oluşur\n"
   ]
  },
  {
   "cell_type": "code",
   "execution_count": null,
   "id": "a7cc5ac6",
   "metadata": {},
   "outputs": [],
   "source": [
    "a = 5\n",
    "print(id(a))\n",
    "a = 6\n",
    "print(id(a))  # Yeni bir nesne oluştu, adres değişti\n",
    "\n",
    "s = \"merhaba\"\n",
    "print(id(s))\n",
    "s = s + \" dünya\"\n",
    "print(id(s))  # Yeni bir nesne oluştu, adres değişti\n"
   ]
  },
  {
   "cell_type": "code",
   "execution_count": null,
   "id": "a595603c",
   "metadata": {},
   "outputs": [],
   "source": [
    "import copy # copy modülü, nesneleri kopyalamak için kullanılır. \n",
    "a = [[1, 2], [3, 4]]\n",
    "b = copy.copy(a)\n",
    "\n",
    "b[0][0] = 100\n",
    "print(a)  # [[100, 2], [3, 4]] — içteki liste ortak!\n",
    "print(b)  # [[100, 2], [3, 4]]\n",
    "\n",
    "print(a is b)  # False — a ve b farklı nesneler\n",
    "a = [[1, 2], [3, 4]]\n",
    "b = a.copy()\n",
    "b[0][0] = 100\n",
    "print(a)  # [[100, 2], [3, 4]] — iç\n",
    "# copy() ile kopyalama"
   ]
  },
  {
   "cell_type": "markdown",
   "id": "c8156778",
   "metadata": {},
   "source": [
    "Built-in veri tiplerinde (list, dict, set) → a.copy() ve copy.copy(a) aynı işi yapar\n",
    "\n",
    "Kendi class’larında veya özel nesnelerde → copy.copy(a) her zaman güvenilirdir\n",
    "\n",
    ".copy() metodunu sadece destekleyen türlerde kullanmalısın"
   ]
  },
  {
   "cell_type": "code",
   "execution_count": null,
   "id": "dd6ed31c",
   "metadata": {},
   "outputs": [
    {
     "name": "stdout",
     "output_type": "stream",
     "text": [
      "[[100, 2], [3, 4]]\n",
      "[[100, 2], [3, 4]]\n"
     ]
    }
   ],
   "source": [
    "\n",
    "a = [[1, 2], [3, 4]]\n",
    "b = a.copy()\n",
    "b[0][0] = 100\n",
    "print(a)  # [[100, 2], [3, 4]] — içteki liste ortak!\n",
    "print(b)  # [[100, 2], [3, 4]]\n",
    "# copy() ile kopyalama"
   ]
  },
  {
   "cell_type": "code",
   "execution_count": null,
   "id": "7d211141",
   "metadata": {},
   "outputs": [],
   "source": [
    "import copy\n",
    "\n",
    "a = [[1, 2], [3, 4]]\n",
    "b = copy.deepcopy(a)\n",
    "\n",
    "b[0][0] = 100\n",
    "print(a)  # [[1, 2], [3, 4]] — etkilenmez\n",
    "print(b)  # [[100, 2], [3, 4]]\n"
   ]
  },
  {
   "cell_type": "markdown",
   "id": "cdec1072",
   "metadata": {},
   "source": [
    "deepcopy çok derin yapılarda yavaş olabilir\n",
    "\n",
    "Özyineli (recursive) yapıları kopyalarken dikkatli ol!\n",
    "\n",
    "İç içe listeler, dictler varsa\n",
    "\n",
    "Nesnelerin içindeki nesneler üzerinde bağımsız işlem yapacaksan\n",
    "\n",
    "Komple ayrı bir kopya istiyorsan\n"
   ]
  }
 ],
 "metadata": {
  "kernelspec": {
   "display_name": "base",
   "language": "python",
   "name": "python3"
  },
  "language_info": {
   "codemirror_mode": {
    "name": "ipython",
    "version": 3
   },
   "file_extension": ".py",
   "mimetype": "text/x-python",
   "name": "python",
   "nbconvert_exporter": "python",
   "pygments_lexer": "ipython3",
   "version": "3.12.7"
  }
 },
 "nbformat": 4,
 "nbformat_minor": 5
}
