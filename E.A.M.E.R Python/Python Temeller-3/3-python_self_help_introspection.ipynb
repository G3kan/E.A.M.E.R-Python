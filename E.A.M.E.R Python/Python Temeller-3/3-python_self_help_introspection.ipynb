{
 "cells": [
  {
   "cell_type": "markdown",
   "id": "ba8563bb",
   "metadata": {},
   "source": [
    "# Python'da Kendi Kendine Çözüm Bulma: Hataları Okuma, Yardım Alma ve Fonksiyonları Keşfetme\n",
    "\n",
    "Bu notebook, **Python bilmeyen** birinin karşılaştığı sorunları **kendi başına çözebilmesi** için hazırlandı. İçerik; hata mesajlarını okumayı, yerleşik yardım araçlarını kullanmayı, bir fonksiyonun **hangi girdileri aldığını** öğrenmeyi ve sistematik bir arama/inceleme yöntemini içerir."
   ]
  },
  {
   "cell_type": "markdown",
   "id": "05ab8305",
   "metadata": {},
   "source": [
    "## Bu notebook'u nasıl kullanmalısın?\n",
    "- Kod hücrelerini sırayla çalıştır. Bir hücre hata verirse **bilerek** verilmiş olabilir — amacımız hatayı okuyup anlamak.\n",
    "- Yardım almak için `help(...)`, `dir(...)`, `type(...)`, `inspect` modülü ve Jupyter kısayolları `?` / `??` kullan.\n",
    "- Bir fonksiyonun **imzasını (signature)** ve parametrelerini görmek için `inspect.signature` kullan.\n",
    "- Not: `?` ve `??` Jupyter/IPython özelliğidir. Örn: `len?`, `str.replace??` (Markdown içinde gösterdik)."
   ]
  },
  {
   "cell_type": "markdown",
   "id": "656c6bdd",
   "metadata": {},
   "source": [
    "## 1) Hata Mesajını (Traceback) Okumak\n",
    "Python hata verdiğinde en alttaki satır genelde **istisna türünü** (ör. `TypeError`, `ValueError`) ve **mesajı** yazar. Üstteki `File ..., line ...` satırları hatanın **nerede** oluştuğunu gösterir.\n",
    "\n",
    "**Alıştırma:** Aşağıdaki hücreyi çalıştır ve hatayı dikkatle oku."
   ]
  },
  {
   "cell_type": "code",
   "execution_count": null,
   "id": "95d06599",
   "metadata": {},
   "outputs": [],
   "source": [
    "# ÖRNEK: NameError (tanımsız değişken)\n",
    "undefined_variable  # bilerek hata\n"
   ]
  },
  {
   "cell_type": "markdown",
   "id": "9432ed8d",
   "metadata": {},
   "source": [
    "**Hata neden önemli?**\n",
    "- Tür (ör. `NameError`) → Problemin sınıfını söyler.\n",
    "- Mesaj → Çoğu zaman doğrudan çözüm ipucu içerir.\n",
    "\n",
    "Aşağıdaki kalıp, hatayı yakalayıp türünü ve mesajını **programatik** olarak görmeyi gösterir."
   ]
  },
  {
   "cell_type": "code",
   "execution_count": 1,
   "id": "b4b52dab",
   "metadata": {},
   "outputs": [
    {
     "name": "stdout",
     "output_type": "stream",
     "text": [
      "İstisna türü: TypeError\n",
      "Mesaj: unsupported operand type(s) for +: 'int' and 'str'\n",
      "Argümanlar: (\"unsupported operand type(s) for +: 'int' and 'str'\",)\n"
     ]
    }
   ],
   "source": [
    "try:\n",
    "    result = 10 + '5'  # bilerek TypeError\n",
    "except Exception as e:\n",
    "    print('İstisna türü:', type(e).__name__)\n",
    "    print('Mesaj:', str(e))\n",
    "    print('Argümanlar:', getattr(e, 'args', None))"
   ]
  },
  {
   "cell_type": "markdown",
   "id": "8c3f5608",
   "metadata": {},
   "source": [
    "## 2) Yerleşik Yardım ve Hızlı Keşif Araçları\n",
    "Şu araçlar, **dış kaynağa bakmadan** pek çok soruya cevap verir:\n",
    "\n",
    "- `help(obj)` → Belge (docstring) ve kullanım bilgisi.\n",
    "- `dir(obj)` → Bir nesnenin neleri (özellik/metot) olduğunu listeler.\n",
    "- `type(obj)` → Türü söyler (ör. `str`, `list`).\n",
    "- `hasattr(obj, 'attr')`, `getattr(obj, 'attr', varsayılan)` → Özniteliğe erişim.\n",
    "- `obj.__doc__` → Kısa belge metni.\n",
    "- **Jupyter/IPython kısayolları**: `obj?` (hızlı yardım), `obj??` (kaynak/daha fazla detay varsa).  \n",
    "    Örn: `len?`, `str.replace??`\n",
    "\n",
    "Aşağıdaki hücreleri çalıştırıp çıktıyı incele."
   ]
  },
  {
   "cell_type": "code",
   "execution_count": 2,
   "id": "db97d964",
   "metadata": {},
   "outputs": [
    {
     "name": "stdout",
     "output_type": "stream",
     "text": [
      "Help on method_descriptor:\n",
      "\n",
      "split(self, /, sep=None, maxsplit=-1) unbound builtins.str method\n",
      "    Return a list of the substrings in the string, using sep as the separator string.\n",
      "\n",
      "      sep\n",
      "        The separator used to split the string.\n",
      "\n",
      "        When set to None (the default value), will split on any whitespace\n",
      "        character (including \\n \\r \\t \\f and spaces) and will discard\n",
      "        empty strings from the result.\n",
      "      maxsplit\n",
      "        Maximum number of splits.\n",
      "        -1 (the default value) means no limit.\n",
      "\n",
      "    Splitting starts at the front of the string and works to the end.\n",
      "\n",
      "    Note, str.split() is mainly useful for data that has been intentionally\n",
      "    delimited.  With natural text that includes punctuation, consider using\n",
      "    the regular expression module.\n",
      "\n"
     ]
    }
   ],
   "source": [
    "# help(...) örneği\n",
    "help(str.split)"
   ]
  },
  {
   "cell_type": "code",
   "execution_count": 3,
   "id": "48694087",
   "metadata": {},
   "outputs": [
    {
     "name": "stdout",
     "output_type": "stream",
     "text": [
      "<class 'str'>\n",
      "['__add__', '__class__', '__contains__', '__delattr__', '__dir__', '__doc__', '__eq__', '__format__', '__ge__', '__getattribute__', '__getitem__', '__getnewargs__', '__getstate__', '__gt__', '__hash__', '__init__', '__init_subclass__', '__iter__', '__le__', '__len__']\n"
     ]
    }
   ],
   "source": [
    "# dir(...) ve type(...) örneği\n",
    "print(type('merhaba'))\n",
    "print(dir('merhaba')[:20])  # ilk 20 ögeyi görelim"
   ]
  },
  {
   "cell_type": "code",
   "execution_count": 4,
   "id": "66c6bb3a",
   "metadata": {},
   "outputs": [
    {
     "name": "stdout",
     "output_type": "stream",
     "text": [
      "Return a list of the substrings in the string, using sep as the separator string.\n"
     ]
    }
   ],
   "source": [
    "# __doc__ kısaltılmış gösterim\n",
    "print(str.split.__doc__.split('\\n')[0])  # ilk satırı yazdır"
   ]
  },
  {
   "cell_type": "markdown",
   "id": "6bf5a955",
   "metadata": {},
   "source": [
    "## 3) `inspect` ile İmza (Signature), Kaynak Kod ve Belge\n",
    "`inspect` modülü, bir fonksiyonun **hangi girdileri aldığını** ve olası varsayılanları görmenin en güçlü yoludur.\n",
    "\n",
    "- `inspect.signature(func)` → Parametre adları, varsayılanlar, `*args/**kwargs`.\n",
    "- `inspect.getdoc(func)` → Docstring (düzenlenmiş).\n",
    "- `inspect.getsource(func)` → Kaynak kod (mümkünse)."
   ]
  },
  {
   "cell_type": "code",
   "execution_count": 1,
   "id": "bc64758b",
   "metadata": {},
   "outputs": [
    {
     "name": "stdout",
     "output_type": "stream",
     "text": [
      "str.replace imzası: (self, old, new, count=-1, /)\n",
      "\n",
      "Docstring (ilk 200 karakter):\n",
      " Return a copy with all occurrences of substring old replaced by new.\n",
      "\n",
      "  count\n",
      "    Maximum number of occurrences to replace.\n",
      "    -1 (the default value) means replace all occurrences.\n",
      "\n",
      "If the optional a\n"
     ]
    }
   ],
   "source": [
    "import inspect\n",
    "sig = inspect.signature(str.replace)\n",
    "print('str.replace imzası:', sig)\n",
    "print('\\nDocstring (ilk 200 karakter):\\n', inspect.getdoc(str.replace)[:200])"
   ]
  },
  {
   "cell_type": "code",
   "execution_count": null,
   "id": "84aeaba1",
   "metadata": {},
   "outputs": [],
   "source": [
    "# Kullanıcı tanımlı fonksiyon üstünde inspect\n",
    "def greet(name: str, times: int = 1, excited: bool = False) -> str:\n",
    "    \"\"\"Verilen isme selam verir.\n",
    "\n",
    "    Args:\n",
    "        name (str): İsim.\n",
    "        times (int, optional): Kaç kez tekrarlanacağı. Varsayılan 1.\n",
    "        excited (bool, optional): Ünlem ekle. Varsayılan False.\n",
    "    Returns:\n",
    "        str: Selamlama metni\n",
    "    \"\"\"\n",
    "    msg = f\"Merhaba, {name}\"\n",
    "    if excited:\n",
    "        msg += '!'\n",
    "    return ' '.join([msg]*times)\n",
    "\n",
    "print('İmza:', inspect.signature(greet))\n",
    "print('\\nParametreler:')\n",
    "for p in inspect.signature(greet).parameters.values():\n",
    "    print('-', p.name, '| tür:', p.annotation, '| varsayılan:', p.default)\n",
    "\n",
    "print('\\nDocstring:\\n', inspect.getdoc(greet))\n",
    "print('\\nKaynak kod (ilk 20 satır):\\n')\n",
    "print('\\n'.join(inspect.getsource(greet).splitlines()[:20]))"
   ]
  },
  {
   "cell_type": "markdown",
   "id": "7b94836f",
   "metadata": {},
   "source": [
    "## 4) \"Bu fonksiyon hangi girdileri alıyor?\" sorusuna hızlı yanıt\n",
    "Aşağıdaki yardımcı, verdiğin fonksiyonun imzasını ve kısa açıklamasını yazdırır."
   ]
  },
  {
   "cell_type": "code",
   "execution_count": 2,
   "id": "e94041a5",
   "metadata": {},
   "outputs": [
    {
     "name": "stdout",
     "output_type": "stream",
     "text": [
      "print(*args, sep=' ', end='\\n', file=None, flush=False)\n",
      "Prints the values to a stream, or to sys.stdout by default.\n",
      "len(obj, /)\n",
      "Return the number of items in a container.\n",
      "pow(x, y, /)\n",
      "Return x**y (x to the power of y).\n"
     ]
    }
   ],
   "source": [
    "def peek(func):\n",
    "    import inspect\n",
    "    try:\n",
    "        sig = str(inspect.signature(func))\n",
    "    except Exception:\n",
    "        sig = '(imza alınamadı)'\n",
    "    doc = inspect.getdoc(func) or '(doc yok)'\n",
    "    print(f\"{getattr(func, '__name__', func)}{sig}\\n{doc.splitlines()[0] if doc!='(doc yok)' else doc}\")\n",
    "\n",
    "# Örnekler\n",
    "import math\n",
    "peek(print)\n",
    "peek(len)\n",
    "peek(math.pow)"
   ]
  },
  {
   "cell_type": "markdown",
   "id": "ba37d84c",
   "metadata": {},
   "source": [
    "## 5) Mini Vaka: `pathlib.Path.rename`'i Keşfetmek\n",
    "Bir metodu **hiç bilmeden** nasıl anlayacağımızı gösterelim:"
   ]
  },
  {
   "cell_type": "code",
   "execution_count": null,
   "id": "89ae2723",
   "metadata": {},
   "outputs": [],
   "source": [
    "from pathlib import Path\n",
    "import inspect\n",
    "print('İmza:', inspect.signature(Path.rename))\n",
    "print('\\nDoc (ilk satır):', (inspect.getdoc(Path.rename) or '').split('\\n')[0])\n",
    "p = Path('.')\n",
    "print('\\n`dir(p)` içinden bazıları:', [a for a in dir(p) if 'name' in a][:10])"
   ]
  },
  {
   "cell_type": "markdown",
   "id": "75db21f4",
   "metadata": {},
   "source": [
    "## 6) Sık Hata Türleri (Kısa Rehber)\n",
    "| Tür | Ne Demek | Tipik Çözüm |\n",
    "|---|---|---|\n",
    "| `NameError` | Değişken/fonksiyon tanımlı değil | Yazım hatası var mı? Tanımlama satırı çalıştı mı? |\n",
    "| `TypeError` | Yanlış tür/argüman sayısı | İmzayı kontrol et (`inspect.signature`), tür dönüşümü yap |\n",
    "| `ValueError` | Uygun olmayan değer | Girdi aralığını/formatını kontrol et |\n",
    "| `AttributeError` | Nesnede beklenen özellik yok | `type(obj)` ve `dir(obj)` ile doğru türü/özelliği bul |\n",
    "| `IndexError` | Liste/tuple dizin dışı | Uzunluğu kontrol et, sınırları doğrula |\n",
    "| `KeyError` | Sözlükte anahtar yok | `in` ile var mı bak, `dict.get` kullan |\n",
    "| `ImportError` / `ModuleNotFoundError` | Modül bulunamadı | Yazım/doğru ortam, `pip install paket_adı` |\n",
    "| `FileNotFoundError` | Dosya/klasör yok | Yol doğru mu? `Path.exists()` ile kontrol et |"
   ]
  },
  {
   "cell_type": "markdown",
   "id": "9a509c7b",
   "metadata": {},
   "source": [
    "## 7) Arama Stratejileri (Kopyala-Yapıştır)\n",
    "- Hata mesajını **tırnak içinde** arat: `\"TypeError: can only concatenate str (not \\\"int\\\") to str\"`\n",
    "- Sürüm ekle: `python 3.12 TypeError print` \n",
    "- Resmi doküman odaklı: `site:docs.python.org str.replace`\n",
    "- Kütüphane dokümanı: `site:readthedocs.io pandas DataFrame apply`"
   ]
  },
  {
   "cell_type": "markdown",
   "id": "a87185bd",
   "metadata": {},
   "source": [
    "## 8) Pratik: Cevabı Kendin Bul\n",
    "Aşağıdaki görevlerde amaç, **help/dir/inspect** ile cevabı kendin çıkarmaktır.\n",
    "\n",
    "1. `random.sample` fonksiyonunun imzasını yazdır.\n",
    "2. `str.join` metodunun ne yaptığını ilk satır docstring ile özetle.\n",
    "3. `math.isclose`'un varsayılan tolerans parametreleri neler?\n",
    "4. Bir `list` nesnesinde `count` ve `index` nasıl kullanılır? Kısa örnek yaz.\n",
    "5. Hata üret: `int('12a')` → Hangi istisna? Mesaj ne?"
   ]
  },
  {
   "cell_type": "code",
   "execution_count": 3,
   "id": "7969da11",
   "metadata": {},
   "outputs": [
    {
     "name": "stdout",
     "output_type": "stream",
     "text": [
      "1) random.sample imza: (population, k, *, counts=None)\n",
      "\n",
      "2) str.join doc: Concatenate any number of strings.\n",
      "\n",
      "3) math.isclose imza: (a, b, *, rel_tol=1e-09, abs_tol=0.0)\n",
      "\n",
      "4) count(2): 3\n",
      "4) index(3): 2\n",
      "\n",
      "5) İstisna türü: ValueError\n",
      "Mesaj: invalid literal for int() with base 10: '12a'\n"
     ]
    }
   ],
   "source": [
    "# ÇÖZÜM ALANI (kendin dene)\n",
    "import inspect, random, math\n",
    "# 1) random.sample imza\n",
    "print('1) random.sample imza:', inspect.signature(random.sample))\n",
    "\n",
    "# 2) str.join doc ilk satır\n",
    "print('\\n2) str.join doc:', (inspect.getdoc(str.join) or '').split('\\n')[0])\n",
    "\n",
    "# 3) math.isclose varsayılanlar\n",
    "print('\\n3) math.isclose imza:', inspect.signature(math.isclose))\n",
    "\n",
    "# 4) list.count / list.index kısa örnek\n",
    "liste = [1,2,3,2,2]\n",
    "print('\\n4) count(2):', liste.count(2))\n",
    "print('4) index(3):', liste.index(3))\n",
    "\n",
    "# 5) Hata üretme ve yakalama\n",
    "try:\n",
    "    int('12a')\n",
    "except Exception as e:\n",
    "    print('\\n5) İstisna türü:', type(e).__name__)\n",
    "    print('Mesaj:', str(e))"
   ]
  },
  {
   "cell_type": "markdown",
   "id": "a185e862",
   "metadata": {},
   "source": [
    "## 9) (Opsiyonel) NumPy `info` Kullanımı\n",
    "Eğer NumPy yüklüyse, `np.info(obj)` ile kapsamlı yardım alabilirsin."
   ]
  },
  {
   "cell_type": "code",
   "execution_count": null,
   "id": "f3d3cac7",
   "metadata": {},
   "outputs": [],
   "source": [
    "try:\n",
    "    import numpy as np\n",
    "    import math\n",
    "    np.info(np.add)\n",
    "except Exception as e:\n",
    "    print('NumPy bulunamadı veya bilgi alınamadı:', e)"
   ]
  },
  {
   "cell_type": "markdown",
   "id": "4f25ce85",
   "metadata": {},
   "source": [
    "## 10) Mini Cheat Sheet\n",
    "- Fonksiyon imzası: `inspect.signature(func)`\n",
    "- Kısa yardım: `help(func)` veya Jupyter'de `func?`\n",
    "- Daha fazla detay/kaynak: Jupyter'de `func??`\n",
    "- Üyeler: `dir(obj)`\n",
    "- Tür: `type(obj)`\n",
    "- Docstring: `obj.__doc__` veya `inspect.getdoc(obj)`\n",
    "- Hata türü/mesajı: `type(e).__name__`, `str(e)`"
   ]
  }
 ],
 "metadata": {
  "kernelspec": {
   "display_name": "base",
   "language": "python",
   "name": "python3"
  },
  "language_info": {
   "codemirror_mode": {
    "name": "ipython",
    "version": 3
   },
   "file_extension": ".py",
   "mimetype": "text/x-python",
   "name": "python",
   "nbconvert_exporter": "python",
   "pygments_lexer": "ipython3",
   "version": "3.12.7"
  }
 },
 "nbformat": 4,
 "nbformat_minor": 5
}
