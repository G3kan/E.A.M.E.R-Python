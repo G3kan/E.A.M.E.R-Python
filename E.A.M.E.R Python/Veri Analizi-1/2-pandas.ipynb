{
 "cells": [
  {
   "cell_type": "code",
   "execution_count": 2,
   "id": "04c0f551",
   "metadata": {},
   "outputs": [],
   "source": [
    "import pandas as pd \n",
    "import numpy as np"
   ]
  },
  {
   "cell_type": "code",
   "execution_count": 3,
   "id": "997ad610",
   "metadata": {},
   "outputs": [],
   "source": [
    "# Pandas ile Excel Dosyası Okuma\n",
    "# Excel dosyasını okuma\n",
    "son_10_yıl=pd.read_excel(\"yillara gore il nufuslari(2014-2024).xls\")\n",
    "\n"
   ]
  },
  {
   "cell_type": "code",
   "execution_count": 4,
   "id": "e15ce553",
   "metadata": {},
   "outputs": [
    {
     "name": "stdout",
     "output_type": "stream",
     "text": [
      "<class 'pandas.core.frame.DataFrame'>\n"
     ]
    }
   ],
   "source": [
    "print(type(son_10_yıl))"
   ]
  },
  {
   "cell_type": "code",
   "execution_count": 5,
   "id": "95d08efd",
   "metadata": {},
   "outputs": [
    {
     "name": "stdout",
     "output_type": "stream",
     "text": [
      "                İL     2014     2015     2016     2017     2018     2019  \\\n",
      "0            Adana  2165595  2183167  2201670  2216475  2220125  2237940   \n",
      "1         Adıyaman   597835   602774   610484   615076   624513   626465   \n",
      "2   Afyonkarahisar   706371   709015   714523   715693   725568   729483   \n",
      "3             Ağrı   549435   547210   542255   536285   539657   536199   \n",
      "4           Amasya   321913   322167   326351   329888   337508   337800   \n",
      "..             ...      ...      ...      ...      ...      ...      ...   \n",
      "76          Yalova   226514   233009   241665   251203   262234   270976   \n",
      "77         Karabük   231333   236978   242347   244453   248014   248458   \n",
      "78           Kilis   128781   130655   130825   136319   142541   142490   \n",
      "79        Osmaniye   506807   512873   522175   527724   534415   538759   \n",
      "80           Düzce   355549   360388   370371   377610   387844   392166   \n",
      "\n",
      "       2020     2021     2022     2023     2024  \n",
      "0   2258718  2263373  2274106  2270298  2280484  \n",
      "1    632459   632148   635169   604978   611037  \n",
      "2    736912   744179   747555   751344   750193  \n",
      "3    535435   524644   510626   511238   499801  \n",
      "4    335494   335331   338267   339529   342378  \n",
      "..      ...      ...      ...      ...      ...  \n",
      "76   276050   291001   296333   304780   307882  \n",
      "77   243614   249287   252058   255242   250478  \n",
      "78   142792   145826   147919   155179   156739  \n",
      "79   548556   553012   559405   557666   561061  \n",
      "80   395679   400976   405131   409865   412344  \n",
      "\n",
      "[81 rows x 12 columns]\n"
     ]
    }
   ],
   "source": [
    "print(son_10_yıl)"
   ]
  },
  {
   "cell_type": "markdown",
   "id": "63117aa8",
   "metadata": {},
   "source": [
    "pandas DataFrame Kullanımı: `son_10_yıl` Örneği\n",
    "\n",
    "`son_10_yıl` bir pandas DataFrame'dir. DataFrame, tablo şeklinde (satır-sütun) veri tutar ve üzerinde birçok işlem yapılabilir.\n",
    "\n",
    "Temel Özellikler ve Kullanımlar\n"
   ]
  },
  {
   "cell_type": "code",
   "execution_count": 6,
   "id": "dd00b55b",
   "metadata": {},
   "outputs": [
    {
     "name": "stdout",
     "output_type": "stream",
     "text": [
      "               İL     2014     2015     2016     2017     2018     2019  \\\n",
      "0           Adana  2165595  2183167  2201670  2216475  2220125  2237940   \n",
      "1        Adıyaman   597835   602774   610484   615076   624513   626465   \n",
      "2  Afyonkarahisar   706371   709015   714523   715693   725568   729483   \n",
      "3            Ağrı   549435   547210   542255   536285   539657   536199   \n",
      "4          Amasya   321913   322167   326351   329888   337508   337800   \n",
      "\n",
      "      2020     2021     2022     2023     2024  \n",
      "0  2258718  2263373  2274106  2270298  2280484  \n",
      "1   632459   632148   635169   604978   611037  \n",
      "2   736912   744179   747555   751344   750193  \n",
      "3   535435   524644   510626   511238   499801  \n",
      "4   335494   335331   338267   339529   342378  \n",
      "          İL    2014    2015    2016    2017    2018    2019    2020    2021  \\\n",
      "76    Yalova  226514  233009  241665  251203  262234  270976  276050  291001   \n",
      "77   Karabük  231333  236978  242347  244453  248014  248458  243614  249287   \n",
      "78     Kilis  128781  130655  130825  136319  142541  142490  142792  145826   \n",
      "79  Osmaniye  506807  512873  522175  527724  534415  538759  548556  553012   \n",
      "80     Düzce  355549  360388  370371  377610  387844  392166  395679  400976   \n",
      "\n",
      "      2022    2023    2024  \n",
      "76  296333  304780  307882  \n",
      "77  252058  255242  250478  \n",
      "78  147919  155179  156739  \n",
      "79  559405  557666  561061  \n",
      "80  405131  409865  412344  \n"
     ]
    }
   ],
   "source": [
    "#İlk Satırları Görüntüleme**\n",
    "print(son_10_yıl.head())  # İlk 5 satırı gösterir\n",
    "print(son_10_yıl.tail())  # Son 5 satırı gösterir\n"
   ]
  },
  {
   "cell_type": "code",
   "execution_count": 7,
   "id": "915b2015",
   "metadata": {},
   "outputs": [
    {
     "name": "stdout",
     "output_type": "stream",
     "text": [
      "Index(['İL', 2014, 2015, 2016, 2017, 2018, 2019, 2020, 2021, 2022, 2023, 2024], dtype='object')\n",
      "RangeIndex(start=0, stop=81, step=1)\n"
     ]
    }
   ],
   "source": [
    "#Sütun İsimlerini Görüntüleme\n",
    "\n",
    "print(son_10_yıl.columns)\n",
    "print(son_10_yıl.index)  # Sütun isimlerini liste olarak gösterir"
   ]
  },
  {
   "cell_type": "code",
   "execution_count": 8,
   "id": "33cc3999",
   "metadata": {},
   "outputs": [
    {
     "name": "stdout",
     "output_type": "stream",
     "text": [
      "İL      object\n",
      "2014     int64\n",
      "2015     int64\n",
      "2016     int64\n",
      "2017     int64\n",
      "2018     int64\n",
      "2019     int64\n",
      "2020     int64\n",
      "2021     int64\n",
      "2022     int64\n",
      "2023     int64\n",
      "2024     int64\n",
      "dtype: object\n"
     ]
    }
   ],
   "source": [
    "#Veri Tiplerini Görüntüleme\n",
    "print(son_10_yıl.dtypes)\n"
   ]
  },
  {
   "cell_type": "code",
   "execution_count": 9,
   "id": "75830350",
   "metadata": {},
   "outputs": [
    {
     "name": "stdout",
     "output_type": "stream",
     "text": [
      "0              Adana\n",
      "1           Adıyaman\n",
      "2     Afyonkarahisar\n",
      "3               Ağrı\n",
      "4             Amasya\n",
      "           ...      \n",
      "76            Yalova\n",
      "77           Karabük\n",
      "78             Kilis\n",
      "79          Osmaniye\n",
      "80             Düzce\n",
      "Name: İL, Length: 81, dtype: object\n"
     ]
    }
   ],
   "source": [
    "#Belirli Bir Sütunu Seçme**\n",
    "print(son_10_yıl[\"İL\"])  # \"İL\" adında bir sütun varsa"
   ]
  },
  {
   "cell_type": "code",
   "execution_count": 10,
   "id": "587132ef",
   "metadata": {},
   "outputs": [
    {
     "name": "stdout",
     "output_type": "stream",
     "text": [
      "İL        Adana\n",
      "2014    2165595\n",
      "2015    2183167\n",
      "2016    2201670\n",
      "2017    2216475\n",
      "2018    2220125\n",
      "2019    2237940\n",
      "2020    2258718\n",
      "2021    2263373\n",
      "2022    2274106\n",
      "2023    2270298\n",
      "2024    2280484\n",
      "Name: 0, dtype: object\n",
      "2165595\n"
     ]
    }
   ],
   "source": [
    "### `.iloc` Kullanımı (pandas)\n",
    "\n",
    "# .iloc`, pandas DataFrame'de \n",
    "# **satır ve sütunlara indeks (sıra numarası) ile erişmek** için kullanılır.\n",
    "\n",
    "#Temel Kullanımlar:\n",
    "\n",
    "#`df.iloc[0]`  \n",
    "# İlk satırı getirir.\n",
    "\n",
    "#`df.iloc[0, 1]`  \n",
    "# İlk satırın ikinci sütununu getirir.\n",
    "\n",
    "#`df.iloc[2:5]`  \n",
    "#2. ile 4. satırlar arasını getirir (5 dahil değil).\n",
    "\n",
    "#`df.iloc[:, 0]`  \n",
    "# Tüm satırların ilk sütununu getirir.\n",
    "\n",
    "print(son_10_yıl.iloc[0])      # İlk satır\n",
    "print(son_10_yıl.iloc[0, 1])  # İlk satırın ikinci sütunu"
   ]
  },
  {
   "cell_type": "code",
   "execution_count": 11,
   "id": "c5dd2f3a",
   "metadata": {},
   "outputs": [
    {
     "name": "stdout",
     "output_type": "stream",
     "text": [
      "Adana\n",
      "               İL     2014     2015     2016     2017     2018     2019  \\\n",
      "2  Afyonkarahisar   706371   709015   714523   715693   725568   729483   \n",
      "3            Ağrı   549435   547210   542255   536285   539657   536199   \n",
      "4          Amasya   321913   322167   326351   329888   337508   337800   \n",
      "5          Ankara  5150072  5270575  5346518  5445026  5503985  5639076   \n",
      "\n",
      "      2020     2021     2022     2023     2024  \n",
      "2   736912   744179   747555   751344   750193  \n",
      "3   535435   524644   510626   511238   499801  \n",
      "4   335494   335331   338267   339529   342378  \n",
      "5  5663322  5747325  5782285  5803482  5864049  \n",
      "0     2201670\n",
      "1      610484\n",
      "2      714523\n",
      "3      542255\n",
      "4      326351\n",
      "       ...   \n",
      "76     241665\n",
      "77     242347\n",
      "78     130825\n",
      "79     522175\n",
      "80     370371\n",
      "Name: 2016, Length: 81, dtype: int64\n"
     ]
    }
   ],
   "source": [
    "# `.loc` Kullanımı (pandas)\n",
    "\n",
    "#.loc`, pandas DataFrame'de **satır ve sütunlara etiket (isim) ile erişmek** için kullanılır.\n",
    "\n",
    "#Temel Kullanımlar:\n",
    "\n",
    "#df.loc[0]`  \n",
    "#0 indeksli satırı getirir (etiket olarak 0 varsa).\n",
    "\n",
    "#`df.loc[0, \"İL\"]`  \n",
    "#0. satırın \"İL\" sütununu getirir.\n",
    "\n",
    "#`df.loc[2:5]`  \n",
    "# 2 ile 5 etiketli satırlar arasını getirir (her ikisi de dahil).\n",
    "\n",
    "#`df.loc[:, \"YIL\"]`  \n",
    "#Tüm satırların \"YIL\" sütununu getirir.\n",
    "\n",
    "\n",
    "print(son_10_yıl.loc[0, \"İL\"])     # 0. satırın \"İL\" sütunu\n",
    "print(son_10_yıl.loc[2:5])         # 2 ile 5 etiketli satırlar\n",
    "print(son_10_yıl.loc[:,2016])      # Tüm satırların \"2016\" sütunu\n",
    "\n"
   ]
  },
  {
   "cell_type": "code",
   "execution_count": 12,
   "id": "d30fc103",
   "metadata": {},
   "outputs": [
    {
     "name": "stdout",
     "output_type": "stream",
     "text": [
      "         İL    2014    2015     2016     2017     2018     2019     2020  \\\n",
      "19  Denizli  978700  993442  1005687  1018735  1027782  1037208  1040915   \n",
      "\n",
      "       2021     2022     2023     2024  \n",
      "19  1051056  1056332  1059082  1061371  \n"
     ]
    }
   ],
   "source": [
    "\n",
    "#Filtreleme (Koşullu Seçim)\n",
    "# Adana iline ait verileri seç\n",
    "print(son_10_yıl[son_10_yıl[\"İL\"] == \"Denizli\"])\n",
    "\n"
   ]
  },
  {
   "cell_type": "code",
   "execution_count": 13,
   "id": "3c4f0fee",
   "metadata": {},
   "outputs": [
    {
     "name": "stdout",
     "output_type": "stream",
     "text": [
      "     count unique    top freq            mean             std      min  \\\n",
      "İL      81     81  Düzce    1             NaN             NaN      NaN   \n",
      "2014  81.0    NaN    NaN  NaN   959208.691358  1731702.236193  80607.0   \n",
      "2015  81.0    NaN    NaN  NaN   972111.765432  1766431.999846  78550.0   \n",
      "2016  81.0    NaN    NaN  NaN   985368.777778  1786221.065363  82193.0   \n",
      "2017  81.0    NaN    NaN  NaN   997660.802469  1814170.592258  80417.0   \n",
      "2018  81.0    NaN    NaN  NaN  1012393.604938   1821603.16162  82274.0   \n",
      "2019  81.0    NaN    NaN  NaN  1026604.901235  1873902.836335  84660.0   \n",
      "2020  81.0    NaN    NaN  NaN  1032276.074074  1872575.818374  81910.0   \n",
      "2021  81.0    NaN    NaN  NaN  1045435.469136   1914342.69283  83645.0   \n",
      "2022  81.0    NaN    NaN  NaN  1052833.987654  1925149.780424  84241.0   \n",
      "2023  81.0    NaN    NaN  NaN  1053979.962963  1901676.720765  86047.0   \n",
      "2024  81.0    NaN    NaN  NaN  1057591.901235  1910439.432373  83676.0   \n",
      "\n",
      "           25%       50%        75%         max  \n",
      "İL         NaN       NaN        NaN         NaN  \n",
      "2014  284789.0  511790.0   978700.0  14377018.0  \n",
      "2015  286767.0  513341.0   993442.0  14657434.0  \n",
      "2016  289786.0  522175.0  1005687.0  14804116.0  \n",
      "2017  287654.0  528422.0  1018735.0  15029231.0  \n",
      "2018  288878.0  536483.0  1029927.0  15067724.0  \n",
      "2019  285410.0  536199.0  1055412.0  15519267.0  \n",
      "2020  284923.0  537762.0  1081065.0  15462452.0  \n",
      "2021  291001.0  546589.0  1113400.0  15840900.0  \n",
      "2022  296333.0  557605.0  1128749.0  15907951.0  \n",
      "2023  304780.0  557666.0  1116618.0  15655924.0  \n",
      "2024  307882.0  561061.0  1118087.0  15701602.0  \n"
     ]
    }
   ],
   "source": [
    "\n",
    "\n",
    "#Temel İstatistikler\n",
    "print(son_10_yıl.describe(include=\"all\").T)\n",
    "# `describe()` metodu, sayısal sütunlar için temel istatistikleri (ortalama, standart sapma, min, max, vb.) gösterir.\n",
    "# `include=\"all\"` parametresi, tüm sütun türlerini (sayısal ve kategorik) içerir.\n",
    "# `T` metodu, DataFrame'i transpoze eder, yani satırları sütun yapar."
   ]
  },
  {
   "cell_type": "code",
   "execution_count": 14,
   "id": "5065757d",
   "metadata": {},
   "outputs": [
    {
     "name": "stdout",
     "output_type": "stream",
     "text": [
      "İL      0\n",
      "2014    0\n",
      "2015    0\n",
      "2016    0\n",
      "2017    0\n",
      "2018    0\n",
      "2019    0\n",
      "2020    0\n",
      "2021    0\n",
      "2022    0\n",
      "2023    0\n",
      "2024    0\n",
      "dtype: int64\n"
     ]
    }
   ],
   "source": [
    "\n",
    "#Eksik Verileri Kontrol Etme\n",
    "print(son_10_yıl.isnull().sum())\n",
    "\n",
    "# Eksik verileri kontrol eder ve her sütundaki eksik değer sayısını gösterir.\n",
    "# `isnull()` metodu, DataFrame'deki eksik değerleri True/False olarak döndürür.\n",
    "# `sum()` metodu ise her sütundaki True değerlerinin toplamını alır, yani eksik değer sayısını verir."
   ]
  },
  {
   "cell_type": "code",
   "execution_count": 15,
   "id": "3147f5bd",
   "metadata": {},
   "outputs": [
    {
     "name": "stdout",
     "output_type": "stream",
     "text": [
      "               İL     2014     2015     2016     2017     2018     2019  \\\n",
      "0           Adana  2165595  2183167  2201670  2216475  2220125  2237940   \n",
      "1        Adıyaman   597835   602774   610484   615076   624513   626465   \n",
      "2  Afyonkarahisar   706371   709015   714523   715693   725568   729483   \n",
      "3            Ağrı   549435   547210   542255   536285   539657   536199   \n",
      "4          Amasya   321913   322167   326351   329888   337508   337800   \n",
      "\n",
      "      2020     2021     2022     2023     2024   Yeni_Sütununu_adı  \n",
      "0  2258718  2263373  2274106  2270298  2280484  yeni sütun içerigi  \n",
      "1   632459   632148   635169   604978   611037  yeni sütun içerigi  \n",
      "2   736912   744179   747555   751344   750193  yeni sütun içerigi  \n",
      "3   535435   524644   510626   511238   499801  yeni sütun içerigi  \n",
      "4   335494   335331   338267   339529   342378  yeni sütun içerigi  \n"
     ]
    }
   ],
   "source": [
    "\n",
    "#Yeni Sütun Ekleme\n",
    "son_10_yıl[\"Yeni_Sütununu_adı\"] = \"yeni sütun içerigi\"\n",
    "\n",
    "# Yeni bir sütun ekler ve tüm satırlara \"yeni sütun\" değerini atar.\n",
    "\n",
    "print(son_10_yıl.head())  # Yeni sütunu kontrol etmek için ilk 5 satırı gösterir"
   ]
  },
  {
   "cell_type": "code",
   "execution_count": 16,
   "id": "c18ca4d5",
   "metadata": {},
   "outputs": [
    {
     "name": "stdout",
     "output_type": "stream",
     "text": [
      "               İL     2014     2015     2016     2017     2018     2019  \\\n",
      "0           Adana  2165595  2183167  2201670  2216475  2220125  2237940   \n",
      "1        Adıyaman   597835   602774   610484   615076   624513   626465   \n",
      "2  Afyonkarahisar   706371   709015   714523   715693   725568   729483   \n",
      "3            Ağrı   549435   547210   542255   536285   539657   536199   \n",
      "4          Amasya   321913   322167   326351   329888   337508   337800   \n",
      "\n",
      "      2020     2021     2022     2023     2024   Yeni_Sütununu_adı  \\\n",
      "0  2258718  2263373  2274106  2270298  2280484  yeni sütun içerigi   \n",
      "1   632459   632148   635169   604978   611037  yeni sütun içerigi   \n",
      "2   736912   744179   747555   751344   750193  yeni sütun içerigi   \n",
      "3   535435   524644   510626   511238   499801  yeni sütun içerigi   \n",
      "4   335494   335331   338267   339529   342378  yeni sütun içerigi   \n",
      "\n",
      "   2016_iki_kat  \n",
      "0       4403340  \n",
      "1       1220968  \n",
      "2       1429046  \n",
      "3       1084510  \n",
      "4        652702  \n"
     ]
    }
   ],
   "source": [
    "# DataFrame'de Fonksiyon Kullanımı\n",
    "\n",
    "#pandas DataFrame'lerde, satır veya sütunlara kolayca fonksiyon uygulayabilirsin.\n",
    "#  Bunun için en çok kullanılan yöntemler: `apply()`, `applymap()`,\n",
    "#  ve doğrudan fonksiyon çağrılarıdır.\n",
    "\n",
    "#Bir Sütuna Fonksiyon Uygulama (`apply`)\n",
    "\n",
    "son_10_yıl[\"2016_iki_kat\"] = son_10_yıl[2016].apply(lambda x: x * 2)\n",
    "# Örneğin, 2016 sütunundaki değerleri ikiyle çarpar ve yeni bir sütun ekler.\n",
    "print(son_10_yıl.head())  # Yeni sütunu kontrol etmek için ilk 5 satırı gösterir"
   ]
  },
  {
   "cell_type": "code",
   "execution_count": 17,
   "id": "18db1ea6",
   "metadata": {},
   "outputs": [
    {
     "name": "stdout",
     "output_type": "stream",
     "text": [
      "985368.7777777778\n",
      "80810525\n",
      "15067724\n",
      "84660\n",
      "1872575.8183742706\n",
      "546589.0\n",
      "3706201677067.288\n",
      "81\n",
      "82193\n"
     ]
    }
   ],
   "source": [
    "\n",
    "#Dataframe'de kullanabileceğin bazı hazır metotlar:\n",
    "\n",
    "print(son_10_yıl[2016].mean())   # 2016 sütununun ortalaması\n",
    "print(son_10_yıl[2017].sum())    # 2017 sütununun toplamı\n",
    "print(son_10_yıl[2018].max())    # 2018 sütununun maksimum değeri\n",
    "print(son_10_yıl[2019].min())    # 2019 sütununun minimum değeri\n",
    "print(son_10_yıl[2020].std())    # 2020 sütununun standart sapması\n",
    "print(son_10_yıl[2021].median()) # 2021 sütununun medyanı\n",
    "print(son_10_yıl[2022].var())    # 2022 sütununun varyansı\n",
    "print(son_10_yıl[2023].count())  # 2023 sütunundaki değerlerin sayısı\n",
    "print(son_10_yıl[2016].mode()[0])  # 2016 sütununun mod değeri\n",
    "\n",
    "#DataFrame sort \n",
    "\n"
   ]
  },
  {
   "cell_type": "code",
   "execution_count": 18,
   "id": "c587af55",
   "metadata": {},
   "outputs": [
    {
     "name": "stdout",
     "output_type": "stream",
     "text": [
      "           İL      2014      2015      2016      2017      2018      2019  \\\n",
      "33   İstanbul  14377018  14657434  14804116  15029231  15067724  15519267   \n",
      "5      Ankara   5150072   5270575   5346518   5445026   5503985   5639076   \n",
      "34      İzmir   4113072   4168415   4223545   4279677   4320519   4367251   \n",
      "15      Bursa   2787539   2842547   2901396   2936803   2994521   3056120   \n",
      "6     Antalya   2222562   2288456   2328555   2364396   2426356   2511700   \n",
      "..        ...       ...       ...       ...       ...       ...       ...   \n",
      "78      Kilis    128781    130655    130825    136319    142541    142490   \n",
      "28  Gümüşhane    146353    151449    172034    170173    162748    164521   \n",
      "74    Ardahan    100809     99265     98335     97096     98907     97319   \n",
      "61    Tunceli     86527     86076     82193     82498     88198     84660   \n",
      "68    Bayburt     80607     78550     90154     80417     82274     84843   \n",
      "\n",
      "        2020      2021      2022      2023      2024   Yeni_Sütununu_adı  \\\n",
      "33  15462452  15840900  15907951  15655924  15701602  yeni sütun içerigi   \n",
      "5    5663322   5747325   5782285   5803482   5864049  yeni sütun içerigi   \n",
      "34   4394694   4425789   4462056   4479525   4493242  yeni sütun içerigi   \n",
      "15   3101833   3147818   3194720   3214571   3238618  yeni sütun içerigi   \n",
      "6    2548308   2619832   2688004   2696249   2722103  yeni sütun içerigi   \n",
      "..       ...       ...       ...       ...       ...                 ...   \n",
      "78    142792    145826    147919    155179    156739  yeni sütun içerigi   \n",
      "28    141702    150119    144544    148539    142617  yeni sütun içerigi   \n",
      "74     96161     94932     92481     92819     91354  yeni sütun içerigi   \n",
      "61     83443     83645     84366     89317     86612  yeni sütun içerigi   \n",
      "68     81910     85042     84241     86047     83676  yeni sütun içerigi   \n",
      "\n",
      "    2016_iki_kat  \n",
      "33      29608232  \n",
      "5       10693036  \n",
      "34       8447090  \n",
      "15       5802792  \n",
      "6        4657110  \n",
      "..           ...  \n",
      "78        261650  \n",
      "28        344068  \n",
      "74        196670  \n",
      "61        164386  \n",
      "68        180308  \n",
      "\n",
      "[81 rows x 14 columns]\n"
     ]
    }
   ],
   "source": [
    "# DataFrame'de bir sütuna göre sıralama (sort_values)\n",
    "\n",
    "# Örneğin: 2018 yılına göre büyükten küçüğe sırala\n",
    "sirali_df = son_10_yıl.sort_values(by=2024, ascending=False)\n",
    "print(sirali_df)\n",
    "\n",
    "# by # `by` parametresi, sıralama yapılacak sütunu belirtir.\n",
    "# `ascending=False` parametresi, sıralamanın büyükten küçüğe olacağını belirtir.\n",
    "# Sıralama işlemi, yeni bir DataFrame döndürür,\n",
    "# orijinal DataFrame'i değiştirmez. Eğer orijinal DataFrame'i değiştmek istersen,\n",
    "# `inplace=True` parametresini kullanabilirsin:\n",
    "# son_10_yıl.sort_values(by=2024, ascending=False, inplace=True)"
   ]
  },
  {
   "cell_type": "code",
   "execution_count": 19,
   "id": "d54d8adb",
   "metadata": {},
   "outputs": [
    {
     "data": {
      "text/plain": [
       "0      True\n",
       "1      True\n",
       "2      True\n",
       "3      True\n",
       "4     False\n",
       "      ...  \n",
       "76    False\n",
       "77    False\n",
       "78    False\n",
       "79     True\n",
       "80    False\n",
       "Name: 2018, Length: 81, dtype: bool"
      ]
     },
     "execution_count": 19,
     "metadata": {},
     "output_type": "execute_result"
    }
   ],
   "source": [
    "son_10_yıl[2018] > 500000"
   ]
  },
  {
   "cell_type": "code",
   "execution_count": 20,
   "id": "2b3e729e",
   "metadata": {},
   "outputs": [
    {
     "name": "stdout",
     "output_type": "stream",
     "text": [
      "                İL      2014      2015      2016      2017      2018  \\\n",
      "0            Adana   2165595   2183167   2201670   2216475   2220125   \n",
      "1         Adıyaman    597835    602774    610484    615076    624513   \n",
      "2   Afyonkarahisar    706371    709015    714523    715693    725568   \n",
      "3             Ağrı    549435    547210    542255    536285    539657   \n",
      "5           Ankara   5150072   5270575   5346518   5445026   5503985   \n",
      "6          Antalya   2222562   2288456   2328555   2364396   2426356   \n",
      "8            Aydın   1041979   1053506   1068260   1080839   1097746   \n",
      "9        Balıkesir   1189057   1186688   1196176   1204824   1226575   \n",
      "15           Bursa   2787539   2842547   2901396   2936803   2994521   \n",
      "16       Çanakkale    511790    513341    519793    530417    540662   \n",
      "18           Çorum    527220    525180    527863    528422    536483   \n",
      "19         Denizli    978700    993442   1005687   1018735   1027782   \n",
      "20      Diyarbakır   1635048   1654196   1673119   1699901   1732396   \n",
      "22          Elazığ    568753    574304    578789    583671    595638   \n",
      "24         Erzurum    763320    762321    762021    760476    767848   \n",
      "25       Eskişehir    812320    826716    844842    860620    871187   \n",
      "26       Gaziantep   1889466   1931836   1974244   2005515   2028563   \n",
      "30           Hatay   1519836   1533507   1555165   1575226   1609856   \n",
      "32          Mersin   1727255   1745221   1773852   1793931   1814468   \n",
      "33        İstanbul  14377018  14657434  14804116  15029231  15067724   \n",
      "34           İzmir   4113072   4168415   4223545   4279677   4320519   \n",
      "37         Kayseri   1322376   1341056   1358980   1376722   1389680   \n",
      "40         Kocaeli   1722795   1780055   1830772   1883270   1906391   \n",
      "41           Konya   2108808   2130544   2161303   2180149   2205609   \n",
      "42         Kütahya    571554    571463    573642    572256    577941   \n",
      "43         Malatya    769544    772904    781305    786676    797036   \n",
      "44          Manisa   1367905   1380366   1396945   1413041   1429643   \n",
      "45   Kahramanmaraş   1089038   1096610   1112634   1127623   1144851   \n",
      "46          Mardin    788996    796591    796237    809719    829195   \n",
      "47           Muğla    894509    908877    923773    938751    967487   \n",
      "51            Ordu    724268    728949    750588    742341    771932   \n",
      "53         Sakarya    932706    953181    976948    990214   1010700   \n",
      "54          Samsun   1269989   1279884   1295927   1312990   1335716   \n",
      "57           Sivas    623116    618617    621224    621301    646608   \n",
      "58        Tekirdağ    906732    937910    972875   1005463   1029927   \n",
      "59           Tokat    597920    593990    602662    602086    612646   \n",
      "60         Trabzon    766782    768417    779379    786326    807903   \n",
      "62       Şanlıurfa   1845667   1892320   1940627   1985753   2035809   \n",
      "64             Van   1085542   1096397   1100190   1106891   1123784   \n",
      "66       Zonguldak    598796    595907    597524    596892    599698   \n",
      "71          Batman    557593    566633    576899    585252    599103   \n",
      "72          Şırnak    488966    490184    483788    503236    524190   \n",
      "79        Osmaniye    506807    512873    522175    527724    534415   \n",
      "\n",
      "        2019      2020      2021      2022      2023      2024  \\\n",
      "0    2237940   2258718   2263373   2274106   2270298   2280484   \n",
      "1     626465    632459    632148    635169    604978    611037   \n",
      "2     729483    736912    744179    747555    751344    750193   \n",
      "3     536199    535435    524644    510626    511238    499801   \n",
      "5    5639076   5663322   5747325   5782285   5803482   5864049   \n",
      "6    2511700   2548308   2619832   2688004   2696249   2722103   \n",
      "8    1110972   1119084   1134031   1148241   1161702   1165943   \n",
      "9    1228620   1240285   1250610   1257590   1273519   1276096   \n",
      "15   3056120   3101833   3147818   3194720   3214571   3238618   \n",
      "16    542157    541548    557276    559383    570499    568966   \n",
      "18    530864    530126    526282    524130    528351    521335   \n",
      "19   1037208   1040915   1051056   1056332   1059082   1061371   \n",
      "20   1756353   1783431   1791373   1804880   1818133   1833684   \n",
      "22    591098    587960    588088    591497    604411    603941   \n",
      "24    762062    758279    756893    749754    749993    745005   \n",
      "25    887475    888828    898369    906617    915418    921630   \n",
      "26   2069364   2101157   2130432   2154051   2164134   2193363   \n",
      "30   1628894   1659320   1670712   1686043   1544640   1562185   \n",
      "32   1840425   1868757   1891145   1916432   1938389   1954279   \n",
      "33  15519267  15462452  15840900  15907951  15655924  15701602   \n",
      "34   4367251   4394694   4425789   4462056   4479525   4493242   \n",
      "37   1407409   1421455   1434357   1441523   1445683   1452458   \n",
      "40   1953035   1997258   2033441   2079072   2102907   2130006   \n",
      "41   2232374   2250020   2277017   2296347   2320241   2330024   \n",
      "42    579257    576688    578640    580701    575674    571078   \n",
      "43    800165    806156    808692    812580    742725    750491   \n",
      "44   1440611   1450616   1456626   1468279   1475716   1475353   \n",
      "45   1154102   1168163   1171298   1177436   1116618   1134105   \n",
      "46    838778    854716    862757    870374    888874    895911   \n",
      "47    983142   1000773   1021141   1048185   1066736   1081867   \n",
      "51    754198    761400    760872    763190    775800    770711   \n",
      "53   1029650   1042649   1060876   1080080   1098115   1110735   \n",
      "54   1348542   1356079   1371274   1368488   1377546   1382376   \n",
      "57    638956    635889    636121    634924    650401    637007   \n",
      "58   1055412   1081065   1113400   1142451   1167059   1187162   \n",
      "59    612747    597861    602567    596454    606934    612674   \n",
      "60    808974    811901    816684    818023    824352    822270   \n",
      "62   2073614   2115256   2143020   2170110   2213964   2237745   \n",
      "64   1136757   1149342   1141015   1128749   1127612   1118087   \n",
      "66    596053    591204    589684    588510    591492    586802   \n",
      "71    608659    620278    626319    634491    647205    654528   \n",
      "72    529615    537762    546589    557605    570745    570826   \n",
      "79    538759    548556    553012    559405    557666    561061   \n",
      "\n",
      "     Yeni_Sütununu_adı  2016_iki_kat  \n",
      "0   yeni sütun içerigi       4403340  \n",
      "1   yeni sütun içerigi       1220968  \n",
      "2   yeni sütun içerigi       1429046  \n",
      "3   yeni sütun içerigi       1084510  \n",
      "5   yeni sütun içerigi      10693036  \n",
      "6   yeni sütun içerigi       4657110  \n",
      "8   yeni sütun içerigi       2136520  \n",
      "9   yeni sütun içerigi       2392352  \n",
      "15  yeni sütun içerigi       5802792  \n",
      "16  yeni sütun içerigi       1039586  \n",
      "18  yeni sütun içerigi       1055726  \n",
      "19  yeni sütun içerigi       2011374  \n",
      "20  yeni sütun içerigi       3346238  \n",
      "22  yeni sütun içerigi       1157578  \n",
      "24  yeni sütun içerigi       1524042  \n",
      "25  yeni sütun içerigi       1689684  \n",
      "26  yeni sütun içerigi       3948488  \n",
      "30  yeni sütun içerigi       3110330  \n",
      "32  yeni sütun içerigi       3547704  \n",
      "33  yeni sütun içerigi      29608232  \n",
      "34  yeni sütun içerigi       8447090  \n",
      "37  yeni sütun içerigi       2717960  \n",
      "40  yeni sütun içerigi       3661544  \n",
      "41  yeni sütun içerigi       4322606  \n",
      "42  yeni sütun içerigi       1147284  \n",
      "43  yeni sütun içerigi       1562610  \n",
      "44  yeni sütun içerigi       2793890  \n",
      "45  yeni sütun içerigi       2225268  \n",
      "46  yeni sütun içerigi       1592474  \n",
      "47  yeni sütun içerigi       1847546  \n",
      "51  yeni sütun içerigi       1501176  \n",
      "53  yeni sütun içerigi       1953896  \n",
      "54  yeni sütun içerigi       2591854  \n",
      "57  yeni sütun içerigi       1242448  \n",
      "58  yeni sütun içerigi       1945750  \n",
      "59  yeni sütun içerigi       1205324  \n",
      "60  yeni sütun içerigi       1558758  \n",
      "62  yeni sütun içerigi       3881254  \n",
      "64  yeni sütun içerigi       2200380  \n",
      "66  yeni sütun içerigi       1195048  \n",
      "71  yeni sütun içerigi       1153798  \n",
      "72  yeni sütun içerigi        967576  \n",
      "79  yeni sütun içerigi       1044350  \n"
     ]
    }
   ],
   "source": [
    "# DataFrame'de filtreleme (koşullu seçim) nasıl yapılır?\n",
    "\n",
    "# Örneğin: 2018 yılında nüfusu 500000'den büyük olan illeri seçmek için:\n",
    "filtreli_df = son_10_yıl[son_10_yıl[2018] > 500000]\n",
    "\n",
    "# [son_10_yıl[2018] > 500000] ifadesi, 2018 sütunundaki değerlerin 500000'den büyük olduğu satırları seçer.\n",
    "# Bu ifade, True/False değerleri döndürür ve bu değerler DataFrame'de filtreleme için kullanılır.\n",
    "# Sonuç olarak, `filtreli_df` DataFrame'i, 2018 sütununda 500000'den büyük olan illerin verilerini içer\n",
    "print(filtreli_df)\n",
    "\n",
    "# Başka bir örnek: Sadece \"Denizli\" ilini seçmek için:\n",
    "denizli_df = son_10_yıl[son_10_yıl[\"İL\"] == \"Denizli\"]\n",
    "# Bu ifade, \"İL\" sütununda \"Denizli\" olan satırları seçer.\n",
    "# Sonuç olarak, `denizli_df` DataFrame'i sadece \"Denizli\" ilinin verilerini içerir.\n"
   ]
  },
  {
   "cell_type": "code",
   "execution_count": 21,
   "id": "68e2c75d",
   "metadata": {},
   "outputs": [],
   "source": [
    "\n",
    "#DataFrame'i Excel veya CSV'ye Kaydetme\n",
    "\n",
    "son_10_yıl.to_excel(\"yeni_dosya.xlsx\", index=False)\n",
    "#index=False parametresi, DataFrame'in indeks sütununu kaydetmemek için kullanılır.\n",
    "son_10_yıl.to_csv(\"yeni_dosya.csv\", index=False)\n",
    "# DataFrame'i Excel veya CSV dosyasına kaydeder.\n"
   ]
  },
  {
   "cell_type": "code",
   "execution_count": 22,
   "id": "7938db3d",
   "metadata": {},
   "outputs": [
    {
     "name": "stdout",
     "output_type": "stream",
     "text": [
      "                İL     2024 2024_Kategori\n",
      "0            Adana  2280484          Orta\n",
      "1         Adıyaman   611037         Küçük\n",
      "2   Afyonkarahisar   750193         Küçük\n",
      "3             Ağrı   499801         Küçük\n",
      "4           Amasya   342378         Küçük\n",
      "..             ...      ...           ...\n",
      "76          Yalova   307882         Küçük\n",
      "77         Karabük   250478         Küçük\n",
      "78           Kilis   156739         Küçük\n",
      "79        Osmaniye   561061         Küçük\n",
      "80           Düzce   412344         Küçük\n",
      "\n",
      "[81 rows x 3 columns]\n"
     ]
    }
   ],
   "source": [
    "# 2024 yılına göre kategorik sınıflandırma fonksiyonu\n",
    "\n",
    "def nufus_kategori(nufus): \n",
    "    if nufus < 1000000: # Küçük nüfuslu iller için 1M altı\n",
    "        return \"Küçük\"\n",
    "    elif nufus < 5000000:  # 1M ile 5M arasındaki iller için\n",
    "        return \"Orta\"\n",
    "    else:\n",
    "        return \"Büyük\" # değer nüfus 5M üzerindeyse büyük olarak sınıflandırılır\n",
    "    \n",
    "\n",
    "    \n",
    "# 2024 yılına göre kategorik sınıflandırma fonksiyonunu uygula\n",
    "\n",
    "son_10_yıl[\"2024_Kategori\"] = son_10_yıl[2024].apply(nufus_kategori)\n",
    "print(son_10_yıl[[\"İL\",2024, \"2024_Kategori\"]]) # sütunları seçiyorum\n",
    "\n"
   ]
  },
  {
   "cell_type": "code",
   "execution_count": 24,
   "id": "c189d87b",
   "metadata": {},
   "outputs": [
    {
     "name": "stdout",
     "output_type": "stream",
     "text": [
      "Küçük    57\n",
      "Orta     22\n",
      "Büyük     2\n",
      "Name: 2024_Kategori, dtype: int64\n"
     ]
    }
   ],
   "source": [
    "print(son_10_yıl[\"2024_Kategori\"].value_counts())"
   ]
  }
 ],
 "metadata": {
  "kernelspec": {
   "display_name": "base",
   "language": "python",
   "name": "python3"
  },
  "language_info": {
   "codemirror_mode": {
    "name": "ipython",
    "version": 3
   },
   "file_extension": ".py",
   "mimetype": "text/x-python",
   "name": "python",
   "nbconvert_exporter": "python",
   "pygments_lexer": "ipython3",
   "version": "3.12.7"
  }
 },
 "nbformat": 4,
 "nbformat_minor": 5
}
