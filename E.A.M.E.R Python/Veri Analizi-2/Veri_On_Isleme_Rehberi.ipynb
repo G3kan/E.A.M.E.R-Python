{
 "cells": [
  {
   "cell_type": "markdown",
   "metadata": {},
   "source": [
    "# Pandas ile Veri Ön İşleme (Data Preprocessing) Rehberi\n",
    "\n",
    "Bu rehber, bir veri bilimi projesinin en kritik adımlarından biri olan **veri ön işleme** sürecini `pandas` kütüphanesi kullanarak nasıl yapacağınızı anlatır. Ham veriler genellikle eksik, tutarsız veya hatalı olabilir. Modellerin doğru ve güvenilir sonuçlar üretebilmesi için verinin temizlenmesi ve hazırlanması gerekir."
   ]
  },
  {
   "cell_type": "markdown",
   "metadata": {},
   "source": [
    "## Adım 1: Gerekli Kütüphaneler ve Veri Setini Yükleme\n",
    "\n",
    "İlk olarak, gerekli kütüphaneleri içe aktaralım ve örnek veri setimizi yükleyelim. Örnek olarak `Project -1` klasöründeki çalışan verisini kullanacağız."
   ]
  },
  {
   "cell_type": "code",
   "execution_count": 3,
   "metadata": {},
   "outputs": [
    {
     "name": "stdout",
     "output_type": "stream",
     "text": [
      "Veri Setinin İlk 5 Satırı:\n"
     ]
    },
    {
     "data": {
      "text/html": [
       "<div>\n",
       "<style scoped>\n",
       "    .dataframe tbody tr th:only-of-type {\n",
       "        vertical-align: middle;\n",
       "    }\n",
       "\n",
       "    .dataframe tbody tr th {\n",
       "        vertical-align: top;\n",
       "    }\n",
       "\n",
       "    .dataframe thead th {\n",
       "        text-align: right;\n",
       "    }\n",
       "</style>\n",
       "<table border=\"1\" class=\"dataframe\">\n",
       "  <thead>\n",
       "    <tr style=\"text-align: right;\">\n",
       "      <th></th>\n",
       "      <th>Çalışan ID</th>\n",
       "      <th>Ad</th>\n",
       "      <th>Soyad</th>\n",
       "      <th>E-posta</th>\n",
       "      <th>Telefon Numarası</th>\n",
       "      <th>Departman</th>\n",
       "      <th>Pozisyon</th>\n",
       "      <th>Maaş</th>\n",
       "      <th>İşe Başlama Tarihi</th>\n",
       "      <th>Cinsiyet</th>\n",
       "      <th>Doğum Tarihi</th>\n",
       "      <th>Şehir</th>\n",
       "    </tr>\n",
       "  </thead>\n",
       "  <tbody>\n",
       "    <tr>\n",
       "      <th>0</th>\n",
       "      <td>EMP_00001</td>\n",
       "      <td>Aysevim</td>\n",
       "      <td>Duran</td>\n",
       "      <td>aysevim.duran@gul.net</td>\n",
       "      <td>555 123 45 67</td>\n",
       "      <td>Donanım Mühendisliği</td>\n",
       "      <td>Takım Lideri</td>\n",
       "      <td>45681.0</td>\n",
       "      <td>2019-05-13</td>\n",
       "      <td>Kadın</td>\n",
       "      <td>1982-04-13</td>\n",
       "      <td>Arsoymouth</td>\n",
       "    </tr>\n",
       "    <tr>\n",
       "      <th>1</th>\n",
       "      <td>EMP_00002</td>\n",
       "      <td>Semender</td>\n",
       "      <td>Yaman</td>\n",
       "      <td>semender.yaman@eren.net</td>\n",
       "      <td>(555) 987-6543</td>\n",
       "      <td>Üretim</td>\n",
       "      <td>Analist</td>\n",
       "      <td>22067.0</td>\n",
       "      <td>2017-08-10</td>\n",
       "      <td>Erkek</td>\n",
       "      <td>1977-09-04</td>\n",
       "      <td>Çamurcuoğlumouth</td>\n",
       "    </tr>\n",
       "    <tr>\n",
       "      <th>2</th>\n",
       "      <td>EMP_00003</td>\n",
       "      <td>Özel</td>\n",
       "      <td>Dumanlı</td>\n",
       "      <td>DENEME@Sirket.com</td>\n",
       "      <td>234 4 135</td>\n",
       "      <td>Satış</td>\n",
       "      <td>Uzman</td>\n",
       "      <td>22839.0</td>\n",
       "      <td>2022-01-08</td>\n",
       "      <td>Kadın</td>\n",
       "      <td>1973-10-10</td>\n",
       "      <td>New Güllühan</td>\n",
       "    </tr>\n",
       "    <tr>\n",
       "      <th>3</th>\n",
       "      <td>EMP_00004</td>\n",
       "      <td>Eröz</td>\n",
       "      <td>Zorlu</td>\n",
       "      <td>eröz.zorlu@sener.com</td>\n",
       "      <td>+90(925)8404299</td>\n",
       "      <td>Finans</td>\n",
       "      <td>Kıdemli Mühendis</td>\n",
       "      <td>20000 TL</td>\n",
       "      <td>2019-08-12</td>\n",
       "      <td>Erkek</td>\n",
       "      <td>1970-06-16</td>\n",
       "      <td>Adasalshire</td>\n",
       "    </tr>\n",
       "    <tr>\n",
       "      <th>4</th>\n",
       "      <td>EMP_00005</td>\n",
       "      <td>Goncafer</td>\n",
       "      <td>Duran</td>\n",
       "      <td>goncafer.duran@safak.tr</td>\n",
       "      <td>+90(324)9047526</td>\n",
       "      <td>Müşteri Hizmetleri</td>\n",
       "      <td>Direktör</td>\n",
       "      <td>500</td>\n",
       "      <td>2021-06-19</td>\n",
       "      <td>Erkek</td>\n",
       "      <td>1998-07-15</td>\n",
       "      <td>East Süheydamouth</td>\n",
       "    </tr>\n",
       "  </tbody>\n",
       "</table>\n",
       "</div>"
      ],
      "text/plain": [
       "  Çalışan ID        Ad    Soyad                  E-posta Telefon Numarası  \\\n",
       "0  EMP_00001   Aysevim    Duran    aysevim.duran@gul.net    555 123 45 67   \n",
       "1  EMP_00002  Semender    Yaman  semender.yaman@eren.net   (555) 987-6543   \n",
       "2  EMP_00003      Özel  Dumanlı        DENEME@Sirket.com        234 4 135   \n",
       "3  EMP_00004      Eröz    Zorlu     eröz.zorlu@sener.com  +90(925)8404299   \n",
       "4  EMP_00005  Goncafer    Duran  goncafer.duran@safak.tr  +90(324)9047526   \n",
       "\n",
       "              Departman          Pozisyon      Maaş İşe Başlama Tarihi  \\\n",
       "0  Donanım Mühendisliği      Takım Lideri   45681.0         2019-05-13   \n",
       "1                Üretim           Analist   22067.0         2017-08-10   \n",
       "2                 Satış             Uzman   22839.0         2022-01-08   \n",
       "3                Finans  Kıdemli Mühendis  20000 TL         2019-08-12   \n",
       "4    Müşteri Hizmetleri          Direktör       500         2021-06-19   \n",
       "\n",
       "  Cinsiyet Doğum Tarihi              Şehir  \n",
       "0    Kadın   1982-04-13         Arsoymouth  \n",
       "1    Erkek   1977-09-04   Çamurcuoğlumouth  \n",
       "2    Kadın   1973-10-10       New Güllühan  \n",
       "3    Erkek   1970-06-16        Adasalshire  \n",
       "4    Erkek   1998-07-15  East Süheydamouth  "
      ]
     },
     "metadata": {},
     "output_type": "display_data"
    },
    {
     "name": "stdout",
     "output_type": "stream",
     "text": [
      "Veri Seti Bilgileri:\n",
      "<class 'pandas.core.frame.DataFrame'>\n",
      "RangeIndex: 5002 entries, 0 to 5001\n",
      "Data columns (total 12 columns):\n",
      " #   Column              Non-Null Count  Dtype \n",
      "---  ------              --------------  ----- \n",
      " 0   Çalışan ID          5002 non-null   object\n",
      " 1   Ad                  5002 non-null   object\n",
      " 2   Soyad               5002 non-null   object\n",
      " 3   E-posta             5002 non-null   object\n",
      " 4   Telefon Numarası    5002 non-null   object\n",
      " 5   Departman           5002 non-null   object\n",
      " 6   Pozisyon            5002 non-null   object\n",
      " 7   Maaş                4752 non-null   object\n",
      " 8   İşe Başlama Tarihi  5002 non-null   object\n",
      " 9   Cinsiyet            5002 non-null   object\n",
      " 10  Doğum Tarihi        5002 non-null   object\n",
      " 11  Şehir               5002 non-null   object\n",
      "dtypes: object(12)\n",
      "memory usage: 469.1+ KB\n"
     ]
    }
   ],
   "source": [
    "import pandas as pd\n",
    "import numpy as np\n",
    "\n",
    "# Veri setini yükleyelim\n",
    "file_path = '../Project -1/sirket_calisan_verisi_5000.csv'\n",
    "df = pd.read_csv(file_path)\n",
    "\n",
    "# Veriye ilk bakış\n",
    "print(\"Veri Setinin İlk 5 Satırı:\")\n",
    "display(df.head())\n",
    "\n",
    "print(\"Veri Seti Bilgileri:\")\n",
    "df.info()"
   ]
  },
  {
   "cell_type": "markdown",
   "metadata": {},
   "source": [
    "## Adım 2: Eksik Verilerin (Missing Values) Yönetimi\n",
    "\n",
    "Veri setindeki eksik değerleri (`NaN`) tespit etmek ve yönetmek, en önemli adımlardan biridir."
   ]
  },
  {
   "cell_type": "code",
   "execution_count": null,
   "metadata": {},
   "outputs": [],
   "source": [
    "# Her sütundaki eksik veri sayısını bulalım\n",
    "print(\"Sütunlardaki Eksik Veri Sayısı:\")\n",
    "print(df.isnull().sum())"
   ]
  },
  {
   "cell_type": "markdown",
   "metadata": {},
   "source": [
    "### a. Eksik Verileri Doldurma (`fillna`)\n",
    "Eksik verileri silmek yerine, onları belirli bir değerle doldurmak genellikle daha iyi bir yaklaşımdır.\n",
    "\n",
    "- **Sayısal Sütunlar:** Ortalama (`mean`) veya medyan (`median`) ile doldurulabilir.\n",
    "- **Kategorik Sütunlar:** En sık tekrar eden değer (mod, `mode`) ile doldurulabilir."
   ]
  },
  {
   "cell_type": "code",
   "execution_count": null,
   "metadata": {},
   "outputs": [],
   "source": [
    "# Maaş sütunundaki eksik değerleri ortalama maaş ile dolduralım\n",
    "ortalama_maas = df['maas'].mean()\n",
    "df['maas'].fillna(ortalama_maas, inplace=True)\n",
    "\n",
    "# Departman sütunundaki eksik değerleri en sık görülen departman ile dolduralım\n",
    "mod_departman = df['departman'].mode()[0]\n",
    "df['departman'].fillna(mod_departman, inplace=True)\n",
    "\n",
    "print(\"Doldurma işleminden sonra eksik veri sayısı:\")\n",
    "print(df.isnull().sum())"
   ]
  },
  {
   "cell_type": "markdown",
   "metadata": {},
   "source": [
    "### b. Eksik Verileri Silme (`dropna`)\n",
    "Eğer bir satırda çok fazla eksik veri varsa veya veri seti çok büyükse, eksik veri içeren satırlar silinebilir. Ancak bu, veri kaybına neden olacağı için dikkatli kullanılmalıdır."
   ]
  },
  {
   "cell_type": "code",
   "execution_count": null,
   "metadata": {},
   "outputs": [],
   "source": [
    "# Örnek olarak, eğer 'isim' sütununda eksik veri olsaydı o satırları silerdik\n",
    "# df_cleaned = df.dropna(subset=['isim'])\n",
    "# print(f\"Orijinal satır sayısı: {len(df)}, Temizlenmiş satır sayısı: {len(df_cleaned)}\")"
   ]
  },
  {
   "cell_type": "markdown",
   "metadata": {},
   "source": [
    "## Adım 3: Tekrarlayan Verilerin (Duplicates) Yönetimi\n",
    "\n",
    "Veri setinde tamamen aynı olan satırlar modelin yanlı öğrenmesine neden olabilir."
   ]
  },
  {
   "cell_type": "code",
   "execution_count": null,
   "metadata": {},
   "outputs": [],
   "source": [
    "# Tekrarlayan satır sayısını bulma\n",
    "duplicate_count = df.duplicated().sum()\n",
    "print(f\"Tekrarlayan satır sayısı: {duplicate_count}\")\n",
    "\n",
    "# Tekrarlayan satırları kaldırma\n",
    "df.drop_duplicates(inplace=True)\n",
    "print(f\"Tekrarlayanlar kaldırıldıktan sonraki satır sayısı: {len(df)}\")"
   ]
  },
  {
   "cell_type": "markdown",
   "metadata": {},
   "source": [
    "## Adım 4: Veri Tipi Dönüşümleri\n",
    "\n",
    "Bazen sütunlar yanlış veri tipinde olabilir (örneğin, sayı olması gereken bir sütunun metin (`object`) olması). Bunları düzeltmek, analiz ve modelleme için zorunludur."
   ]
  },
  {
   "cell_type": "code",
   "execution_count": null,
   "metadata": {},
   "outputs": [],
   "source": [
    "# 'ise_giris_tarihi' sütununu datetime nesnesine çevirelim\n",
    "df['ise_giris_tarihi'] = pd.to_datetime(df['ise_giris_tarihi'])\n",
    "\n",
    "# 'calisan_id' sütununu object (string) tipine çevirelim, çünkü bu bir kategorik ID'dir\n",
    "df['calisan_id'] = df['calisan_id'].astype(str)\n",
    "\n",
    "print(\"Güncellenmiş Veri Tipleri:\")\n",
    "print(df.dtypes)"
   ]
  },
  {
   "cell_type": "markdown",
   "metadata": {},
   "source": [
    "## Adım 5: Aykırı Değerlerin (Outliers) Tespiti ve Yönetimi\n",
    "\n",
    "Aykırı değerler, genel veri dağılımının çok dışında kalan değerlerdir ve istatistiksel analizleri ve model performansını olumsuz etkileyebilir. Tespit için genellikle IQR (Interquartile Range) metodu kullanılır."
   ]
  },
  {
   "cell_type": "code",
   "execution_count": null,
   "metadata": {},
   "outputs": [],
   "source": [
    "# 'maas' sütunundaki aykırı değerleri bulalım\n",
    "Q1 = df['maas'].quantile(0.25)\n",
    "Q3 = df['maas'].quantile(0.75)\n",
    "IQR = Q3 - Q1\n",
    "\n",
    "alt_sinir = Q1 - 1.5 * IQR\n",
    "ust_sinir = Q3 + 1.5 * IQR\n",
    "\n",
    "print(f'Maaş için Alt Sınır: {alt_sinir:.2f}')\n",
    "print(f'Maaş için Üst Sınır: {ust_sinir:.2f}')\n",
    "\n",
    "# Aykırı değerleri tespit etme\n",
    "aykiri_degerler = df[(df['maas'] < alt_sinir) | (df['maas'] > ust_sinir)]\n",
    "print(f'Tespit edilen aykırı değer sayısı: {len(aykiri_degerler)}')\n",
    "\n",
    "# Aykırı değerleri sınırlama (capping) yöntemi ile yönetme\n",
    "df['maas'] = np.where(df['maas'] > ust_sinir, ust_sinir, df['maas'])\n",
    "df['maas'] = np.where(df['maas'] < alt_sinir, alt_sinir, df['maas'])"
   ]
  },
  {
   "cell_type": "markdown",
   "metadata": {},
   "source": [
    "## Adım 6: Kategorik Verilerin Dönüştürülmesi (Encoding)\n",
    "\n",
    "Makine öğrenmesi modelleri genellikle sayısal veri ile çalışır. Bu nedenle, 'departman' gibi kategorik (metin) sütunları sayısal formata çevirmemiz gerekir.\n",
    "\n",
    "**One-Hot Encoding (`pd.get_dummies`)**: Her bir kategori için yeni bir ikili (0/1) sütun oluşturur. Kategoriler arasında bir sıralama olmadığında kullanılır."
   ]
  },
  {
   "cell_type": "code",
   "execution_count": null,
   "metadata": {},
   "outputs": [],
   "source": [
    "# 'departman' ve 'sehir' sütunlarına one-hot encoding uygulayalım\n",
    "df_encoded = pd.get_dummies(df, columns=['departman', 'sehir'], drop_first=True)\n",
    "\n",
    "print(\"Encoding sonrası veri setinin ilk 5 satırı:\")\n",
    "display(df_encoded.head())"
   ]
  },
  {
   "cell_type": "markdown",
   "metadata": {},
   "source": [
    "## Adım 7: Özellik Ölçeklendirme (Feature Scaling)\n",
    "\n",
    "Farklı ölçeklerdeki sayısal sütunlar (örneğin, yaş ve maaş) bazı modelleri yanıltabilir. Özellik ölçeklendirme, tüm sayısal özellikleri aynı ölçeğe getirir.\n",
    "\n",
    "- **Standardization (`StandardScaler`):** Veriyi ortalaması 0, standart sapması 1 olan bir dağılıma dönüştürür.\n",
    "- **Normalization (`MinMaxScaler`):** Veriyi genellikle 0 ile 1 arasında bir aralığa sıkıştırır."
   ]
  },
  {
   "cell_type": "code",
   "execution_count": null,
   "metadata": {},
   "outputs": [],
   "source": [
    "from sklearn.preprocessing import StandardScaler\n",
    "\n",
    "# Ölçeklendirilecek sütunları seçelim\n",
    "scaler = StandardScaler()\n",
    "scaled_features = scaler.fit_transform(df_encoded[['yas', 'maas', 'deneyim_yili']])\n",
    "\n",
    "# Ölçeklendirilmiş veriyi yeni bir DataFrame yapalım\n",
    "df_scaled_features = pd.DataFrame(scaled_features, columns=['yas_scaled', 'maas_scaled', 'deneyim_yili_scaled'])\n",
    "\n",
    "print(\"Ölçeklendirilmiş özellikler:\")\n",
    "display(df_scaled_features.head())"
   ]
  },
  {
   "cell_type": "markdown",
   "metadata": {},
   "source": [
    "## Sonuç\n",
    "\n",
    "Bu adımlardan sonra, veri setiniz makine öğrenmesi modellerini eğitmek için çok daha temiz, tutarlı ve uygun bir hale gelmiştir. Veri ön işleme, model performansını doğrudan etkileyen ve projenin başarısı için hayati önem taşıyan bir süreçtir."
   ]
  }
 ],
 "metadata": {
  "kernelspec": {
   "display_name": "base",
   "language": "python",
   "name": "python3"
  },
  "language_info": {
   "codemirror_mode": {
    "name": "ipython",
    "version": 3
   },
   "file_extension": ".py",
   "mimetype": "text/x-python",
   "name": "python",
   "nbconvert_exporter": "python",
   "pygments_lexer": "ipython3",
   "version": "3.12.7"
  }
 },
 "nbformat": 4,
 "nbformat_minor": 4
}
