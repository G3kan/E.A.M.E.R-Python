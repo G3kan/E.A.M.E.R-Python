{
 "cells": [
  {
   "cell_type": "markdown",
   "metadata": {},
   "source": [
    "# Kategorik Verileri Sayısala Dönüştürme: One-Hot Encoding Rehberi\n",
    "\n",
    "Bu rehber, makine öğrenmesi modellerinin anlayabilmesi için kategorik (metin tabanlı) verilerin nasıl sayısal formata dönüştürüleceğini, özellikle de en yaygın yöntemlerden biri olan **One-Hot Encoding** tekniğini anlatır."
   ]
  },
  {
   "cell_type": "markdown",
   "metadata": {},
   "source": [
    "## 1. Neden Kategorik Verileri Dönüştürmeliyiz?\n",
    "\n",
    "Makine öğrenmesi algoritmalarının büyük çoğunluğu (Lineer Regresyon, SVM, Sinir Ağları vb.) matematiksel denklemlerle çalışır. Bu algoritmalar, metin tabanlı kategorileri (örneğin, 'Şehir' sütunundaki 'İstanbul', 'Ankara') doğrudan işleyemezler. Modellerin bu bilgileri kullanabilmesi için onları sayısal bir formata çevirmemiz gerekir."
   ]
  },
  {
   "cell_type": "markdown",
   "metadata": {},
   "source": [
    "## 2. One-Hot Encoding Nedir?\n",
    "\n",
    "One-Hot Encoding, kategorik bir değişkendeki her bir benzersiz kategori için yeni bir ikili (binary) sütun oluşturma yöntemidir.\n",
    "\n",
    "**Çalışma Mantığı:**\n",
    "1. Dönüştürülecek sütundaki tüm benzersiz kategorileri belirler.\n",
    "2. Her bir benzersiz kategori için yeni bir sütun oluşturur.\n",
    "3. Bir satır için, o satırın orijinal kategorisine karşılık gelen yeni sütuna **1**, diğer tüm yeni kategori sütunlarına ise **0** yazar.\n",
    "\n",
    "Bu yöntem, kategoriler arasında herhangi bir sıralama veya büyüklük ilişkisi olmadığında (örneğin, şehirler, renkler, departmanlar) idealdir."
   ]
  },
  {
   "cell_type": "code",
   "execution_count": null,
   "metadata": {},
   "outputs": [],
   "source": [
    "import pandas as pd\n",
    "\n",
    "# Örnek bir veri seti oluşturalım\n",
    "data = {'urun_id': [101, 102, 103, 104, 105],\n",
    "        'renk': ['Kırmızı', 'Mavi', 'Yeşil', 'Kırmızı', 'Mavi'],\n",
    "        'fiyat': [10, 15, 12, 8, 14]}\n",
    "\n",
    "df = pd.DataFrame(data)\n",
    "\n",
    "print(\"--- Orjinal Veri Seti ---\")\n",
    "display(df)"
   ]
  },
  {
   "cell_type": "markdown",
   "metadata": {},
   "source": [
    "## 3. Pandas `get_dummies()` ile Uygulama\n",
    "\n",
    "Pandas, One-Hot Encoding işlemini `pd.get_dummies()` fonksiyonu ile son derece kolay bir şekilde yapmamızı sağlar."
   ]
  },
  {
   "cell_type": "code",
   "execution_count": null,
   "metadata": {},
   "outputs": [],
   "source": [
    "# 'renk' sütununa One-Hot Encoding uygulayalım\n",
    "df_one_hot = pd.get_dummies(df, columns=['renk'])\n",
    "\n",
    "print(\"--- One-Hot Encoding Uygulanmış Veri Seti ---\")\n",
    "display(df_one_hot)"
   ]
  },
  {
   "cell_type": "markdown",
   "metadata": {},
   "source": [
    "Gördüğünüz gibi, `renk` sütunu kaldırıldı ve yerine `renk_Kırmızı`, `renk_Mavi`, `renk_Yeşil` adında üç yeni sütun eklendi. Her satırda, ürünün rengine karşılık gelen sütun 1, diğerleri 0 değerini aldı."
   ]
  },
  {
   "cell_type": "markdown",
   "metadata": {},
   "source": [
    "## 4. Dummy Değişken Tuzağı ve `drop_first=True`\n",
    "\n",
    "One-Hot Encoding sonucunda oluşturulan yeni sütunlar arasında **çoklu doğrusallık (multicollinearity)** adı verilen bir durum ortaya çıkar. Yani, sütunlardan biri diğerleri tarafından tahmin edilebilir. Örneğin, bir ürünün `renk_Kırmızı` ve `renk_Mavi` sütunları 0 ise, `renk_Yeşil` sütununun 1 olacağı kesindir. Bu durum, bazı makine öğrenmesi modellerinin (özellikle Lineer Regresyon) performansını olumsuz etkileyebilir.\n",
    "\n",
    "Bunu önlemek için `get_dummies` fonksiyonundaki `drop_first=True` parametresini kullanırız. Bu parametre, oluşturulan dummy değişkenlerden ilkini atarak bu bağımlılığı ortadan kaldırır."
   ]
  },
  {
   "cell_type": "code",
   "execution_count": null,
   "metadata": {},
   "outputs": [],
   "source": [
    "# `drop_first=True` kullanarak dummy değişken tuzağını önleme\n",
    "df_one_hot_dropped = pd.get_dummies(df, columns=['renk'], drop_first=True)\n",
    "\n",
    "print(\"--- `drop_first=True` ile One-Hot Encoding ---\")\n",
    "display(df_one_hot_dropped)"
   ]
  },
  {
   "cell_type": "markdown",
   "metadata": {},
   "source": [
    "Bu sefer, kategorilerden biri (alfabetik olarak ilk olan `Kırmızı`) atıldı. Artık model, bir rengin `Mavi` veya `Yeşil` olmadığını biliyorsa, onun `Kırmızı` olduğunu anlayabilir. Böylece bilgi kaybı olmadan çoklu doğrusallık sorunu çözülmüş olur.\n",
    "\n",
    "## Sonuç\n",
    "\n",
    "One-Hot Encoding, kategorik verileri makine öğrenmesi modelleri için hazırlamanın temel ve etkili bir yoludur. `pd.get_dummies()` fonksiyonu ve `drop_first=True` parametresi, bu işlemi verimli ve doğru bir şekilde yapmak için ihtiyacınız olan araçları sunar."
   ]
  }
 ],
 "metadata": {
  "kernelspec": {
   "display_name": "Python 3",
   "language": "python",
   "name": "python3"
  },
  "language_info": {
   "name": "python",
   "version": "3.9.12"
  }
 },
 "nbformat": 4,
 "nbformat_minor": 4
}
