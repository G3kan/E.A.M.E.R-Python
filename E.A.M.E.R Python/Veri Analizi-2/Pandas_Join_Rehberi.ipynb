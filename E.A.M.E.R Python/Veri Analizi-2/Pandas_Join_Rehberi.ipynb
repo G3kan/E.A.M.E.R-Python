{
 "cells": [
  {
   "cell_type": "markdown",
   "metadata": {},
   "source": [
    "# Pandas'ta Join (Birleştirme) İşlemleri Rehberi"
   ]
  },
  {
   "cell_type": "markdown",
   "metadata": {},
   "source": [
    "Bu rehber, Pandas kütüphanesini kullanarak farklı veri çerçevelerini (DataFrame) birleştirmenin yollarını anlatır. SQL'deki JOIN işlemlerine benzer şekilde, Pandas'ta da `merge` ve `join` fonksiyonları ile tabloları ortak sütunlara veya indekslere göre birleştirebiliriz."
   ]
  },
  {
   "cell_type": "markdown",
   "metadata": {},
   "source": [
    "## `pd.merge()` Fonksiyonu"
   ]
  },
  {
   "cell_type": "markdown",
   "metadata": {},
   "source": [
    "`merge` fonksiyonu, en esnek ve en sık kullanılan birleştirme yöntemidir. Farklı birleştirme türlerini (`inner`, `left`, `right`, `outer`) destekler."
   ]
  },
  {
   "cell_type": "code",
   "execution_count": null,
   "metadata": {},
   "outputs": [],
   "source": [
    "import pandas as pd\n",
    "\n",
    "# Örnek Veri Çerçeveleri Oluşturalım\n",
    "\n",
    "# Çalışanların bilgilerini içeren bir DataFrame\n",
    "calisanlar = pd.DataFrame({\n",
    "    'calisan_id': [1, 2, 3, 4],\n",
    "    'isim': ['Ali', 'Ayşe', 'Veli', 'Fatma'],\n",
    "    'departman_id': [101, 102, 101, 103]\n",
    "})\n",
    "\n",
    "# Departman bilgilerini içeren bir DataFrame\n",
    "departmanlar = pd.DataFrame({\n",
    "    'id': [101, 102, 104],\n",
    "    'departman_adi': ['İnsan Kaynakları', 'Mühendislik', 'Pazarlama']\n",
    "})\n",
    "\n",
    "print(\"--- Çalışanlar Tablosu ---\")\n",
    "print(calisanlar)\n",
    "print(\"\n--- Departmanlar Tablosu ---\")\n",
    "print(departmanlar)"
   ]
  },
  {
   "cell_type": "markdown",
   "metadata": {},
   "source": [
    "### 1. Inner Join (İç Birleştirme)"
   ]
  },
  {
   "cell_type": "markdown",
   "metadata": {},
   "source": [
    "Her iki DataFrame'de de ortak olan anahtarlara (key) göre birleştirme yapar. Eşleşmeyen satırlar sonuçta yer almaz. Bu, `merge` fonksiyonunun varsayılan davranışıdır."
   ]
  },
  {
   "cell_type": "code",
   "execution_count": null,
   "metadata": {},
   "outputs": [],
   "source": [
    "# 'calisan_id' ve 'id' sütunları üzerinden birleştirme yapıyoruz.\n",
    "inner_join_df = pd.merge(calisanlar, departmanlar, left_on='departman_id', right_on='id', how='inner')\n",
    "\n",
    "print(\"--- Inner Join Sonucu ---\")\n",
    "print(inner_join_df)"
   ]
  },
  {
   "cell_type": "markdown",
   "metadata": {},
   "source": [
    "*Görüldüğü gibi, Pazarlama departmanı (id: 104) ve Fatma (departman_id: 103) her iki tabloda ortak bir karşılığa sahip olmadıkları için sonuçta yer almadılar.*"
   ]
  },
  {
   "cell_type": "markdown",
   "metadata": {},
   "source": [
    "### 2. Left Join (Sol Birleştirme)"
   ]
  },
  {
   "cell_type": "markdown",
   "metadata": {},
   "source": [
    "Sol DataFrame'deki (`calisanlar`) tüm satırları ve sağ DataFrame'den (`departmanlar`) sadece eşleşen satırları alır. Sağ tarafta eşleşme bulunamazsa, o satırın sütunları `NaN` (Not a Number) ile doldurulur."
   ]
  },
  {
   "cell_type": "code",
   "execution_count": null,
   "metadata": {},
   "outputs": [],
   "source": [
    "left_join_df = pd.merge(calisanlar, departmanlar, left_on='departman_id', right_on='id', how='left')\n",
    "\n",
    "print(\"--- Left Join Sonucu ---\")\n",
    "print(left_join_df)"
   ]
  },
  {
   "cell_type": "markdown",
   "metadata": {},
   "source": [
    "*Fatma'nın departman ID'si (103) departmanlar tablosunda olmadığı için, departman bilgileri `NaN` olarak geldi ama Fatma'nın kendi bilgileri korundu.*"
   ]
  },
  {
   "cell_type": "markdown",
   "metadata": {},
   "source": [
    "### 3. Right Join (Sağ Birleştirme)"
   ]
  },
  {
   "cell_type": "markdown",
   "metadata": {},
   "source": [
    "Sağ DataFrame'deki (`departmanlar`) tüm satırları ve sol DataFrame'den (`calisanlar`) sadece eşleşen satırları alır. Sol tarafta eşleşme bulunamazsa, o satırın sütunları `NaN` ile doldurulur."
   ]
  },
  {
   "cell_type": "code",
   "execution_count": null,
   "metadata": {},
   "outputs": [],
   "source": [
    "right_join_df = pd.merge(calisanlar, departmanlar, left_on='departman_id', right_on='id', how='right')\n",
    "\n",
    "print(\"--- Right Join Sonucu ---\")\n",
    "print(right_join_df)"
   ]
  },
  {
   "cell_type": "markdown",
   "metadata": {},
   "source": [
    "*Pazarlama departmanına (id: 104) atanmış bir çalışan olmadığı için, çalışan bilgileri `NaN` olarak geldi ama departman bilgisi korundu.*"
   ]
  },
  {
   "cell_type": "markdown",
   "metadata": {},
   "source": [
    "### 4. Outer Join (Dış Birleştirme)"
   ]
  },
  {
   "cell_type": "markdown",
   "metadata": {},
   "source": [
    "Her iki DataFrame'deki tüm satırları birleştirir. Eşleşme olmayan yerleri `NaN` ile doldurur. Left ve Right Join'in birleşimi gibidir."
   ]
  },
  {
   "cell_type": "code",
   "execution_count": null,
   "metadata": {},
   "outputs": [],
   "source": [
    "outer_join_df = pd.merge(calisanlar, departmanlar, left_on='departman_id', right_on='id', how='outer')\n",
    "\n",
    "print(\"--- Outer Join Sonucu ---\")\n",
    "print(outer_join_df)"
   ]
  },
  {
   "cell_type": "markdown",
   "metadata": {},
   "source": [
    "*Hem departmanı olmayan çalışan (Fatma) hem de çalışanı olmayan departman (Pazarlama) sonuç tablosunda yer aldı.*"
   ]
  },
  {
   "cell_type": "markdown",
   "metadata": {},
   "source": [
    "## `df.join()` Metodu"
   ]
  },
  {
   "cell_type": "markdown",
   "metadata": {},
   "source": [
    "`join` metodu, DataFrame'leri indekslerine veya belirtilen bir sütuna göre birleştirmek için daha basit bir arayüz sunar. `pd.merge()`'e göre daha az esnek olsa da, özellikle indeks tabanlı birleştirmeler için oldukça kullanışlıdır. Varsayılan olarak sol birleştirme (`how='left'`) yapar."
   ]
  },
  {
   "cell_type": "code",
   "execution_count": null,
   "metadata": {},
   "outputs": [],
   "source": [
    "# join metodu için indeksleri ayarlayalım\n",
    "calisanlar_indexed = calisanlar.set_index('departman_id')\n",
    "departmanlar_indexed = departmanlar.set_index('id')\n",
    "\n",
    "print(\"--- İndekslenmiş Çalışanlar ---\")\n",
    "print(calisanlar_indexed)\n",
    "print(\"\n--- İndekslenmiş Departmanlar ---\")\n",
    "print(departmanlar_indexed)\n",
    "\n",
    "# İndeks üzerinden join işlemi (varsayılan 'left' join)\n",
    "join_df = calisanlar_indexed.join(departmanlar_indexed)\n",
    "\n",
    "print(\"\n--- df.join() Sonucu ---\")\n",
    "print(join_df)"
   ]
  },
  {
   "cell_type": "markdown",
   "metadata": {},
   "source": [
    "*Görüldüğü gibi, `calisanlar_indexed` DataFrame'inin indeksi (`departman_id`) ile `departmanlar_indexed` DataFrame'inin indeksi (`id`) üzerinden bir birleştirme yapıldı. `merge`'deki `left join` ile aynı sonucu verdi ve Fatma'nın departman bilgisi `NaN` olarak geldi.*"
   ]
  },
  {
   "cell_type": "markdown",
   "metadata": {},
   "source": [
    "## `merge` vs. `join`: Ne Zaman Hangisini Kullanmalı?"
   ]
  },
  {
   "cell_type": "markdown",
   "metadata": {},
   "source": [
    "Her iki fonksiyon da benzer amaçlara hizmet etse de aralarında bazı temel farklar vardır:\n",
    "\n",
    "- **Kullanım Şekli:** `merge` bir Pandas fonksiyonudur (`pd.merge(df1, df2)`), `join` ise bir DataFrame metodudur (`df1.join(df2)`).\n",
    "- **Birleştirme Anahtarı:** `merge` varsayılan olarak ortak sütun adlarına göre birleştirme yapar, ancak `left_on` ve `right_on` ile farklı sütun adları belirtebilirsiniz. `join` ise varsayılan olarak DataFrame'lerin indekslerine göre birleştirme yapar.\n",
    "- **Esneklik:** `merge`, SQL'deki JOIN mantığına çok benzer ve çok daha fazla esneklik sunar. Farklı türde birleştirmeler (`inner`, `left`, `right`, `outer`) ve karmaşık senaryolar için daha uygundur.\n",
    "\n",
    "**Özetle:**\n",
    "- Eğer SQL'e benzer şekilde, sütunlar üzerinden esnek birleştirme yapmak istiyorsanız `pd.merge()`'ü tercih edin.\n",
    "- Eğer iki DataFrame'i hızlıca indeksleri üzerinden birleştirmek istiyorsanız `df.join()` daha pratik bir seçenektir."
   ]
  }
 ],
 "metadata": {
  "kernelspec": {
   "display_name": "Python 3",
   "language": "python",
   "name": "python3"
  },
  "language_info": {
   "codemirror_mode": {
    "name": "ipython",
    "version": 3
   },
   "file_extension": ".py",
   "mimetype": "text/x-python",
   "name": "python",
   "nbconvert_exporter": "python",
   "pygments_lexer": "ipython3",
   "version": "3.10.12"
  }
 },
 "nbformat": 4,
 "nbformat_minor": 4
}