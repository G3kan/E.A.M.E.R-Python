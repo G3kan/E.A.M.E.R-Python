{
 "cells": [
  {
   "cell_type": "markdown",
   "metadata": {},
   "source": [
    "# Scikit-learn Kütüphanesi Rehberi"
   ]
  },
  {
   "cell_type": "markdown",
   "metadata": {},
   "source": [
    "## Scikit-learn Nedir\n",
    "\n",
    "Scikit-learn, Python için en popüler ve güçlü makine öğrenmesi kütüphanelerinden biridir. Veri madenciliği ve veri analizi için basit ve verimli araçlar sunar. NumPy, SciPy ve Matplotlib üzerine inşa edilmiştir ve ticari kullanıma da uygun olan açık kaynaklı bir projedir."
   ]
  },
  {
   "cell_type": "markdown",
   "metadata": {},
   "source": [
    "## Neden Scikit-learn Kullanmalıyız\n",
    "\n",
    "- **Geniş Algoritma Yelpazesi:** Sınıflandırma, regresyon, kümeleme, boyut azaltma gibi birçok denetimli ve denetimsiz öğrenme algoritmasını içerir.\n",
    "- **Tutarlı Arayüz:** Tüm modeller (estimator'lar) `fit()`, `predict()`, `transform()` gibi tutarlı metotlara sahiptir. Bu da öğrenmeyi ve kullanmayı kolaylaştırır.\n",
    "- **Veri Ön İşleme ve Model Seçimi:** Veriyi hazırlamak, modelleri karşılaştırmak ve parametreleri optimize etmek için zengin araçlar sunar.\n",
    "- **Entegrasyon:** NumPy dizileri ve Pandas DataFrame'leri ile sorunsuz çalışır.\n",
    "- **Harika Dökümantasyon:** Anlaşılır ve bol örnekli bir dökümantasyona sahiptir."
   ]
  },
  {
   "cell_type": "markdown",
   "metadata": {},
   "source": [
    "https://scikit-learn.org/stable/ adresinden detaylı bilgi alabilirsiniz."
   ]
  },
  {
   "cell_type": "markdown",
   "metadata": {},
   "source": [
    "## Kurulum"
   ]
  },
  {
   "cell_type": "code",
   "execution_count": null,
   "metadata": {},
   "outputs": [],
   "source": [
    "!pip install scikit-learn"
   ]
  },
  {
   "cell_type": "markdown",
   "metadata": {},
   "source": [
    "## Temel Makine Öğrenmesi Akışı ve Örnekler"
   ]
  },
  {
   "cell_type": "markdown",
   "metadata": {},
   "source": [
    "### 1. Veri Setini Yükleme ve Ayırma"
   ]
  },
  {
   "cell_type": "code",
   "execution_count": null,
   "metadata": {},
   "outputs": [],
   "source": [
    "from sklearn.model_selection import train_test_split\n",
    "from sklearn.datasets import load_iris\n",
    "\n",
    "# Scikit-learn'ün kendi içerisindeki örnek iris veri setini yükleyelim\n",
    "iris = load_iris()\n",
    "X, y = iris.data, iris.target\n",
    "\n",
    "# Veri setini eğitim ve test setleri olarak ikiye ayıralım\n",
    "# %80 eğitim, %20 test\n",
    "X_train, X_test, y_train, y_test = train_test_split(X, y, test_size=0.2, random_state=42)\n",
    "\n",
    "print(f\"Eğitim seti boyutu: {X_train.shape}\")\n",
    "print(f\"Test seti boyutu: {X_test.shape}\")"
   ]
  },
  {
   "cell_type": "markdown",
   "metadata": {},
   "source": [
    "### 2. Denetimli Öğrenme: Sınıflandırma (Classification)"
   ]
  },
  {
   "cell_type": "code",
   "execution_count": null,
   "metadata": {},
   "outputs": [],
   "source": [
    "from sklearn.neighbors import KNeighborsClassifier\n",
    "from sklearn.metrics import accuracy_score\n",
    "\n",
    "# Modelimizi oluşturalım (K-En Yakın Komşu algoritması)\n",
    "model = KNeighborsClassifier(n_neighbors=3)\n",
    "\n",
    "# Modeli eğitim verisiyle eğitelim\n",
    "model.fit(X_train, y_train)\n",
    "\n",
    "# Test verisiyle tahmin yapalım\n",
    "y_pred = model.predict(X_test)\n",
    "\n",
    "# Modelin doğruluğunu ölçelim\n",
    "accuracy = accuracy_score(y_test, y_pred)\n",
    "\n",
    "print(f\"Tahmin edilen ilk 5 değer: {y_pred[:5]}\")\n",
    "print(f\"Gerçek ilk 5 değer:     {y_test[:5]}\")\n",
    "print(f\"Model Doğruluğu: {accuracy:.2f}\")"
   ]
  },
  {
   "cell_type": "markdown",
   "metadata": {},
   "source": [
    "### 3. Denetimli Öğrenme: Regresyon (Regression)"
   ]
  },
  {
   "cell_type": "code",
   "execution_count": null,
   "metadata": {},
   "outputs": [],
   "source": [
    "from sklearn.linear_model import LinearRegression\n",
    "from sklearn.metrics import mean_squared_error\n",
    "import numpy as np\n",
    "\n",
    "# Basit bir regresyon verisi oluşturalım\n",
    "X_reg = np.array([[1], [2], [3], [4], [5]])\n",
    "y_reg = np.array([2, 4, 5, 4, 5])\n",
    "\n",
    "# Lineer Regresyon modelini oluşturalım ve eğitelim\n",
    "reg_model = LinearRegression()\n",
    "reg_model.fit(X_reg, y_reg)\n",
    "\n",
    "# Yeni bir veri için tahmin yapalım\n",
    "yeni_veri = np.array([[6]])\n",
    "tahmin = reg_model.predict(yeni_veri)\n",
    "\n",
    "print(f\"6 değeri için tahmin: {tahmin[0]:.2f}\")"
   ]
  },
  {
   "cell_type": "markdown",
   "metadata": {},
   "source": [
    "### 4. Denetimsiz Öğrenme: Kümeleme (Clustering)"
   ]
  },
  {
   "cell_type": "code",
   "execution_count": null,
   "metadata": {},
   "outputs": [],
   "source": [
    "from sklearn.cluster import KMeans\n",
    "\n",
    "# Iris veri setini (X) kullanarak kümeleme yapalım\n",
    "# Verinin 3 farklı türden oluştuğunu bildiğimiz için 3 küme belirtelim\n",
    "kmeans_model = KMeans(n_clusters=3, random_state=42, n_init=10)\n",
    "\n",
    "# Modeli eğitelim ve her bir verinin hangi kümeye ait olduğunu bulalım\n",
    "kumeler = kmeans_model.fit_predict(X)\n",
    "\n",
    "print(f\"İlk 10 verinin küme etiketleri: {kumeler[:10]}\")"
   ]
  },
  {
   "cell_type": "markdown",
   "metadata": {},
   "source": [
    "### 5. Veri Ön İşleme (Preprocessing)\n",
    "\n",
    "Modellerin daha iyi performans göstermesi için veriyi ölçeklendirmek genellikle iyi bir adımdır."
   ]
  },
  {
   "cell_type": "code",
   "execution_count": null,
   "metadata": {},
   "outputs": [],
   "source": [
    "from sklearn.preprocessing import StandardScaler\n",
    "\n",
    "# Ölçekleyiciyi oluşturalım\n",
    "scaler = StandardScaler()\n",
    "\n",
    "# Eğitim verisine göre ölçekleyiciyi eğitelim ve veriyi dönüştürelim\n",
    "X_train_scaled = scaler.fit_transform(X_train)\n",
    "\n",
    "# Test verisini de aynı ölçekleyici ile dönüştürelim\n",
    "X_test_scaled = scaler.transform(X_test)\n",
    "\n",
    "print(\"--- Orjinal Veriden İlk Satır ---\")\n",
    "print(X_train[0])\n",
    "print(\"\n",
    "--- Ölçeklendirilmiş Veriden İlk Satır ---\")\n",
    "print(X_train_scaled[0])"
   ]
  }
 ],
 "metadata": {
  "kernelspec": {
   "display_name": "Python 3",
   "language": "python",
   "name": "python3"
  },
  "language_info": {
   "codemirror_mode": {
    "name": "ipython",
    "version": 3
   },
   "file_extension": ".py",
   "mimetype": "text/x-python",
   "name": "python",
   "nbconvert_exporter": "python",
   "pygments_lexer": "ipython3",
   "version": "3.10.12"
  }
 },
 "nbformat": 4,
 "nbformat_minor": 4
}
