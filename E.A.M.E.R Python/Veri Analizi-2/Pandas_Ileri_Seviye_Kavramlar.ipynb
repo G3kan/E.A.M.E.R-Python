{
  "cells": [
    {
      "cell_type": "markdown",
      "metadata": {},
      "source": [
        "# Pandas İleri Seviye Kavramlar\n",
        "\n",
        "Bu notebook'ta **Pandas'ın ileri seviye konuları** olan:\n",
        "- Category veri tipi\n",
        "- Çok seviyeli indeksleme (MultiIndex)\n",
        "- Çok seviyeli sütunlar\n",
        "- Veri yeniden şekillendirme (`melt`, `stack`, `unstack`)\n",
        "\n",
        "konularını örneklerle işleyeceğiz."
      ]
    },
    {
      "cell_type": "markdown",
      "metadata": {},
      "source": [
        "## 1. Category Veri Tipi"
      ]
    },
    {
      "cell_type": "code",
      "metadata": {},
      "execution_count": null,
      "outputs": [],
      "source": [
        "import pandas as pd\n",
        "\n",
        "df = pd.DataFrame({\n",
        "    \"ürün\": [\"elma\", \"armut\", \"elma\", \"muz\", \"armut\", \"elma\"],\n",
        "    \"fiyat\": [3, 5, 2, 4, 5, 3]\n",
        "})\n",
        "\n",
        "print(\"Bellek kullanımı (önce):\")\n",
        "print(df.info(memory_usage=\"deep\"))\n",
        "\n",
        "# Kategorik tipine dönüştürme\n",
        "df[\"ürün\"] = df[\"ürün\"].astype(\"category\")\n",
        "\n",
        "print(\"\\nBellek kullanımı (sonra):\")\n",
        "print(df.info(memory_usage=\"deep\"))\n",
        "print(\"\\nKategori kodları:\", df[\"ürün\"].cat.codes.tolist())\n",
        "print(\"Kategoriler:\", df[\"ürün\"].cat.categories.tolist())"
      ]
    },
    {
      "cell_type": "markdown",
      "metadata": {},
      "source": [
        "## 2. Çok Seviyeli İndeksleme (MultiIndex)"
      ]
    },
    {
      "cell_type": "code",
      "metadata": {},
      "execution_count": null,
      "outputs": [],
      "source": [
        "sales = pd.DataFrame({\n",
        "    \"şehir\": [\"İstanbul\", \"İstanbul\", \"Ankara\", \"Ankara\", \"İzmir\"],\n",
        "    \"ürün\": [\"Elma\", \"Armut\", \"Elma\", \"Muz\", \"Armut\"],\n",
        "    \"satış\": [100, 150, 80, 120, 90]\n",
        "})\n",
        "\n",
        "multi_df = sales.set_index([\"şehir\", \"ürün\"])\n",
        "display(multi_df)\n",
        "\n",
        "# Belirli şehir ve ürüne erişim\n",
        "print(\"\\nİstanbul - Armut satışları:\")\n",
        "print(multi_df.loc[(\"İstanbul\", \"Armut\")])"
      ]
    },
    {
      "cell_type": "markdown",
      "metadata": {},
      "source": [
        "## 3. Çok Seviyeli Sütunlar"
      ]
    },
    {
      "cell_type": "code",
      "metadata": {},
      "execution_count": null,
      "outputs": [],
      "source": [
        "data = {\n",
        "    \"şehir\": [\"İstanbul\", \"İstanbul\", \"Ankara\", \"Ankara\", \"İzmir\"],\n",
        "    \"ürün\": [\"Elma\", \"Armut\", \"Elma\", \"Muz\", \"Armut\"],\n",
        "    \"satış\": [100, 150, 80, 120, 90],\n",
        "    \"fiyat\": [5, 6, 4, 7, 5]\n",
        "}\n",
        "\n",
        "df2 = pd.DataFrame(data)\n",
        "grouped = df2.groupby(\"şehir\").agg({\"satış\": [\"sum\", \"mean\"], \"fiyat\": [\"mean\"]})\n",
        "display(grouped)\n",
        "\n",
        "# Çok seviyeli sütunlardan seçim\n",
        "print(\"\\nSadece satış ortalamaları:\")\n",
        "print(grouped[\"satış\"][\"mean\"])"
      ]
    },
    {
      "cell_type": "markdown",
      "metadata": {},
      "source": [
        "## 4. Veri Yeniden Şekillendirme (Melt, Stack, Unstack)"
      ]
    },
    {
      "cell_type": "code",
      "metadata": {},
      "execution_count": null,
      "outputs": [],
      "source": [
        "notlar = pd.DataFrame({\n",
        "    \"Öğrenci\": [\"Ali\", \"Ayşe\", \"Mehmet\"],\n",
        "    \"Matematik\": [80, 95, 70],\n",
        "    \"Fizik\": [85, 90, 65],\n",
        "    \"Kimya\": [78, 88, 72]\n",
        "})\n",
        "\n",
        "print(\"Orijinal veri:\")\n",
        "display(notlar)\n",
        "\n",
        "# Melt: geniş -> uzun format\n",
        "uzun = pd.melt(notlar, id_vars=\"Öğrenci\", var_name=\"Ders\", value_name=\"Not\")\n",
        "print(\"\\nUzun format (melt):\")\n",
        "display(uzun)\n",
        "\n",
        "# Stack ve Unstack\n",
        "stacked = uzun.set_index([\"Öğrenci\", \"Ders\"]).stack()\n",
        "print(\"\\nStack edilmiş veri:\")\n",
        "display(stacked)\n",
        "\n",
        "unstacked = stacked.unstack()\n",
        "print(\"\\nUnstack edilmiş veri:\")\n",
        "display(unstacked)"
      ]
    }
  ],
  "metadata": {
    "kernelspec": {
      "display_name": "Python 3",
      "language": "python",
      "name": "python3"
    },
    "language_info": {
      "codemirror_mode": {
        "name": "ipython",
        "version": 3
      },
      "file_extension": ".py",
      "mimetype": "text/x-python",
      "name": "python",
      "nbconvert_exporter": "python",
      "pygments_lexer": "ipython3",
      "version": "3.12"
    }
  },
  "nbformat": 4,
  "nbformat_minor": 5
}