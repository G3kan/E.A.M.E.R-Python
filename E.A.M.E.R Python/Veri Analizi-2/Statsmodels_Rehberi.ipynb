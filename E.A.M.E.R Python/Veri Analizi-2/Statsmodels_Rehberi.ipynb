{
 "cells": [
  {
   "cell_type": "markdown",
   "metadata": {},
   "source": [
    "# Statsmodels Kütüphanesi Rehberi"
   ]
  },
  {
   "cell_type": "markdown",
   "metadata": {},
   "source": [
    "## Statsmodels Nedir?\n",
    "\n",
    "`statsmodels`, Python'da istatistiksel modellerin tahmin edilmesi, test edilmesi ve analiz edilmesi için kullanılan güçlü bir kütüphanedir. Özellikle ekonometri ve istatistiksel modelleme alanlarında derinlemesine analizler yapmak için tasarlanmıştır. Pandas ve NumPy ile sorunsuz bir şekilde entegre çalışır."
   ]
  },
  {
   "cell_type": "markdown",
   "metadata": {},
   "source": [
    "## Neden Statsmodels Kullanmalıyız?\n",
    "\n",
    "- **Kapsamlı İstatistiksel Modeller:** Lineer modeller, genelleştirilmiş lineer modeller (GLM), zaman serisi analizleri (ARIMA, VAR), lojistik regresyon ve daha birçok modeli içerir.\n",
    "- **Detaylı Sonuç Raporları:** Model sonuçlarını (katsayılar, standart hatalar, p-değerleri, R-kare vb.) içeren ayrıntılı özet tablolar sunar.\n",
    "- **Formül Tabanlı Modelleme:** R dilindekine benzer şekilde, formüller kullanarak model tanımlamayı destekler (Patsy kütüphanesi aracılığıyla).\n",
    "- **Güvenilirlik ve Doğruluk:** İstatistiksel hesaplamalar konusunda test edilmiş ve güvenilir bir kütüphanedir."
   ]
  },
  {
   "cell_type": "markdown",
   "metadata": {},
   "source": [
    "https://www.statsmodels.org/stable/user-guide.html adresinden yardım alabilirsiniz"
   ]
  },
  {
   "cell_type": "markdown",
   "metadata": {},
   "source": [
    "## Kurulum"
   ]
  },
  {
   "cell_type": "code",
   "execution_count": 2,
   "metadata": {},
   "outputs": [
    {
     "name": "stdout",
     "output_type": "stream",
     "text": [
      "Requirement already satisfied: statsmodels in /home/g3kan/anaconda3/lib/python3.12/site-packages (0.14.2)\n",
      "Requirement already satisfied: numpy>=1.22.3 in /home/g3kan/anaconda3/lib/python3.12/site-packages (from statsmodels) (1.26.4)\n",
      "Requirement already satisfied: scipy!=1.9.2,>=1.8 in /home/g3kan/anaconda3/lib/python3.12/site-packages (from statsmodels) (1.13.1)\n",
      "Requirement already satisfied: pandas!=2.1.0,>=1.4 in /home/g3kan/anaconda3/lib/python3.12/site-packages (from statsmodels) (1.5.3)\n",
      "Requirement already satisfied: patsy>=0.5.6 in /home/g3kan/anaconda3/lib/python3.12/site-packages (from statsmodels) (0.5.6)\n",
      "Requirement already satisfied: packaging>=21.3 in /home/g3kan/anaconda3/lib/python3.12/site-packages (from statsmodels) (25.0)\n",
      "Requirement already satisfied: python-dateutil>=2.8.1 in /home/g3kan/anaconda3/lib/python3.12/site-packages (from pandas!=2.1.0,>=1.4->statsmodels) (2.9.0.post0)\n",
      "Requirement already satisfied: pytz>=2020.1 in /home/g3kan/anaconda3/lib/python3.12/site-packages (from pandas!=2.1.0,>=1.4->statsmodels) (2024.1)\n",
      "Requirement already satisfied: six in /home/g3kan/anaconda3/lib/python3.12/site-packages (from patsy>=0.5.6->statsmodels) (1.16.0)\n"
     ]
    }
   ],
   "source": [
    "!pip install statsmodels"
   ]
  },
  {
   "cell_type": "markdown",
   "metadata": {},
   "source": [
    "## Temel Kullanım Örnekleri"
   ]
  },
  {
   "cell_type": "markdown",
   "metadata": {},
   "source": [
    "### 1. Lineer Regresyon (Ordinary Least Squares - OLS)"
   ]
  },
  {
   "cell_type": "code",
   "execution_count": 3,
   "metadata": {},
   "outputs": [
    {
     "name": "stdout",
     "output_type": "stream",
     "text": [
      "                            OLS Regression Results                            \n",
      "==============================================================================\n",
      "Dep. Variable:                      y   R-squared:                       0.216\n",
      "Model:                            OLS   Adj. R-squared:                  0.208\n",
      "Method:                 Least Squares   F-statistic:                     27.04\n",
      "Date:                Sat, 16 Aug 2025   Prob (F-statistic):           1.09e-06\n",
      "Time:                        21:39:10   Log-Likelihood:                -141.93\n",
      "No. Observations:                 100   AIC:                             287.9\n",
      "Df Residuals:                      98   BIC:                             293.1\n",
      "Df Model:                           1                                         \n",
      "Covariance Type:            nonrobust                                         \n",
      "==============================================================================\n",
      "                 coef    std err          t      P>|t|      [0.025      0.975]\n",
      "------------------------------------------------------------------------------\n",
      "const          0.9755      0.192      5.076      0.000       0.594       1.357\n",
      "x1             1.8251      0.351      5.200      0.000       1.129       2.522\n",
      "==============================================================================\n",
      "Omnibus:                       16.319   Durbin-Watson:                   1.896\n",
      "Prob(Omnibus):                  0.000   Jarque-Bera (JB):               20.806\n",
      "Skew:                           0.831   Prob(JB):                     3.03e-05\n",
      "Kurtosis:                       4.493   Cond. No.                         4.28\n",
      "==============================================================================\n",
      "\n",
      "Notes:\n",
      "[1] Standard Errors assume that the covariance matrix of the errors is correctly specified.\n"
     ]
    }
   ],
   "source": [
    "import statsmodels.api as sm\n",
    "import numpy as np\n",
    "\n",
    "# Örnek veri oluşturalım\n",
    "X = np.random.rand(100, 1) # Bağımsız değişken\n",
    "X = sm.add_constant(X)      # Modele sabit terim (intercept) ekliyoruz\n",
    "y = 2 * X[:, 1] + 1 + np.random.randn(100) # Bağımlı değişken (y = 2x + 1 + gürültü)\n",
    "\n",
    "# OLS modelini kuralım ve eğitelim\n",
    "model = sm.OLS(y, X)\n",
    "results = model.fit()\n",
    "\n",
    "# Model sonuçlarını yazdıralım\n",
    "print(results.summary())"
   ]
  },
  {
   "cell_type": "markdown",
   "metadata": {},
   "source": [
    "### 2. Lojistik Regresyon"
   ]
  },
  {
   "cell_type": "code",
   "execution_count": 4,
   "metadata": {},
   "outputs": [
    {
     "name": "stdout",
     "output_type": "stream",
     "text": [
      "Optimization terminated successfully.\n",
      "         Current function value: 0.152437\n",
      "         Iterations 9\n",
      "                           Logit Regression Results                           \n",
      "==============================================================================\n",
      "Dep. Variable:                      y   No. Observations:                  100\n",
      "Model:                          Logit   Df Residuals:                       98\n",
      "Method:                           MLE   Df Model:                            1\n",
      "Date:                Sat, 16 Aug 2025   Pseudo R-squ.:                  0.7795\n",
      "Time:                        21:39:19   Log-Likelihood:                -15.244\n",
      "converged:                       True   LL-Null:                       -69.135\n",
      "Covariance Type:            nonrobust   LLR p-value:                 3.000e-25\n",
      "==============================================================================\n",
      "                 coef    std err          z      P>|z|      [0.025      0.975]\n",
      "------------------------------------------------------------------------------\n",
      "const          0.6373      0.520      1.226      0.220      -0.381       1.656\n",
      "x1             1.9789      0.478      4.141      0.000       1.042       2.916\n",
      "==============================================================================\n"
     ]
    }
   ],
   "source": [
    "import statsmodels.api as sm\n",
    "import numpy as np\n",
    "\n",
    "# Örnek veri oluşturalım\n",
    "X = np.random.rand(100, 1) * 10 - 5 # Bağımsız değişken\n",
    "X = sm.add_constant(X)\n",
    "beta = np.array([0.5, 1.5]) # Gerçek katsayılar\n",
    "p = 1 / (1 + np.exp(-X @ beta)) # Olasılıkları hesapla\n",
    "y = np.random.binomial(1, p) # 0 veya 1 olarak sınıf etiketleri oluştur\n",
    "\n",
    "# Lojistik regresyon modelini kuralım (Logit)\n",
    "model = sm.Logit(y, X)\n",
    "results = model.fit()\n",
    "\n",
    "# Model sonuçlarını yazdıralım\n",
    "print(results.summary())"
   ]
  },
  {
   "cell_type": "markdown",
   "metadata": {},
   "source": [
    "### 3. Zaman Serisi Analizi (ARIMA)"
   ]
  },
  {
   "cell_type": "code",
   "execution_count": 1,
   "metadata": {},
   "outputs": [
    {
     "name": "stdout",
     "output_type": "stream",
     "text": [
      "                               SARIMAX Results                                \n",
      "==============================================================================\n",
      "Dep. Variable:                      y   No. Observations:                  100\n",
      "Model:                 ARIMA(1, 1, 0)   Log Likelihood                -395.416\n",
      "Date:                Sat, 16 Aug 2025   AIC                            794.832\n",
      "Time:                        21:42:51   BIC                            800.022\n",
      "Sample:                             0   HQIC                           796.932\n",
      "                                - 100                                         \n",
      "Covariance Type:                  opg                                         \n",
      "==============================================================================\n",
      "                 coef    std err          z      P>|z|      [0.025      0.975]\n",
      "------------------------------------------------------------------------------\n",
      "ar.L1         -0.3992      0.100     -3.993      0.000      -0.595      -0.203\n",
      "sigma2       172.1846     20.075      8.577      0.000     132.839     211.531\n",
      "===================================================================================\n",
      "Ljung-Box (L1) (Q):                   3.62   Jarque-Bera (JB):                 4.05\n",
      "Prob(Q):                              0.06   Prob(JB):                         0.13\n",
      "Heteroskedasticity (H):               1.33   Skew:                             0.26\n",
      "Prob(H) (two-sided):                  0.42   Kurtosis:                         3.85\n",
      "===================================================================================\n",
      "\n",
      "Warnings:\n",
      "[1] Covariance matrix calculated using the outer product of gradients (complex-step).\n",
      "Gelecek 5 adım için tahminler:\n",
      "[198.11989674 200.67439296 199.65463887 200.06172438 199.89921597]\n"
     ]
    }
   ],
   "source": [
    "import statsmodels.api as sm\n",
    "import numpy as np\n",
    "\n",
    "# Örnek zaman serisi verisi oluşturalım\n",
    "n_sample = 100\n",
    "x = np.arange(n_sample)\n",
    "y = 2 * x + np.random.randn(n_sample) * 10\n",
    "\n",
    "# ARIMA(p,d,q) modelini kuralım. Örnek olarak ARIMA(1,1,0) kullanalım.\n",
    "model = sm.tsa.ARIMA(y, order=(1, 1, 0))\n",
    "results = model.fit()\n",
    "\n",
    "# Model sonuçlarını yazdıralım\n",
    "print(results.summary())\n",
    "\n",
    "# Gelecek 5 adım için tahmin yapalım\n",
    "forecast = results.forecast(steps=5)\n",
    "print(\"Gelecek 5 adım için tahminler:\")\n",
    "print(forecast)"
   ]
  }
 ],
 "metadata": {
  "kernelspec": {
   "display_name": "base",
   "language": "python",
   "name": "python3"
  },
  "language_info": {
   "codemirror_mode": {
    "name": "ipython",
    "version": 3
   },
   "file_extension": ".py",
   "mimetype": "text/x-python",
   "name": "python",
   "nbconvert_exporter": "python",
   "pygments_lexer": "ipython3",
   "version": "3.12.7"
  }
 },
 "nbformat": 4,
 "nbformat_minor": 4
}
