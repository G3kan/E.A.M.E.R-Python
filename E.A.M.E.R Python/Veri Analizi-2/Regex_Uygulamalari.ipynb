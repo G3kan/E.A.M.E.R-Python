{
 "cells": [
  {
   "cell_type": "markdown",
   "metadata": {},
   "source": [
    "# Python ile Regex (Regular Expressions) Uygulamaları\n",
    "\n",
    "Bu rehber, Python'daki `re` modülünü kullanarak metin verileri üzerinde karmaşık desen (pattern) arama, eşleştirme ve manipülasyon işlemlerinin nasıl yapılacağını anlatır. Regex, özellikle veri temizleme, veri doğrulama ve metin madenciliği gibi alanlarda vazgeçilmez bir araçtır."
   ]
  },
  {
   "cell_type": "markdown",
   "metadata": {},
   "source": [
    "## 1. `re` Modülünün Temel Fonksiyonları\n",
    "\n",
    "Python'da regex işlemleri için `re` modülünü içe aktarmamız gerekir."
   ]
  },
  {
   "cell_type": "code",
   "execution_count": 2,
   "metadata": {},
   "outputs": [],
   "source": [
    "import re"
   ]
  },
  {
   "cell_type": "markdown",
   "metadata": {},
   "source": [
    "### `re.search(pattern, string)`\n",
    "Bir metin içinde desene uyan **ilk konumu** bulur ve bir eşleşme nesnesi (`Match Object`) döndürür. Eşleşme bulamazsa `None` döndürür."
   ]
  },
  {
   "cell_type": "code",
   "execution_count": null,
   "metadata": {},
   "outputs": [],
   "source": [
    "metin = \"Bu bir deneme metnidir. Python programlama dili çok güçlüdür.\"\n",
    "desen = \"Python\"\n",
    "\n",
    "sonuc = re.search(desen, metin)\n",
    "\n",
    "if sonuc:\n",
    "    print(f\"'Python' kelimesi bulundu.\")\n",
    "    print(f'Başlangıç indeksi: {sonuc.start()}')\n",
    "    print(f'Bitiş indeksi: {sonuc.end()}')\n",
    "    print(f'Bulunan metin: {sonuc.group()}')"
   ]
  },
  {
   "cell_type": "markdown",
   "metadata": {},
   "source": [
    "### `re.findall(pattern, string)`\n",
    "Bir metin içinde desene uyan **tüm eşleşmeleri** bir liste olarak döndürür."
   ]
  },
  {
   "cell_type": "code",
   "execution_count": 3,
   "metadata": {},
   "outputs": [
    {
     "name": "stdout",
     "output_type": "stream",
     "text": [
      "Bulunan yaşlar: ['25', '30', '25']\n"
     ]
    }
   ],
   "source": [
    "metin = \"Ali'nin yaşı 25, Ayşe'nin yaşı 30, Veli'nin yaşı ise 25.\"\n",
    "desen = r'\\d+'  # r'' -> raw string, \\d -> rakam, + -> bir veya daha fazla\n",
    "\n",
    "yaslar = re.findall(desen, metin)\n",
    "print(f\"Bulunan yaşlar: {yaslar}\")"
   ]
  },
  {
   "cell_type": "markdown",
   "metadata": {},
   "source": [
    "### `re.sub(pattern, replacement, string)`\n",
    "Metin içindeki bir deseni, belirtilen başka bir metinle değiştirir."
   ]
  },
  {
   "cell_type": "code",
   "execution_count": 4,
   "metadata": {},
   "outputs": [
    {
     "name": "stdout",
     "output_type": "stream",
     "text": [
      "T\n"
     ]
    }
   ],
   "source": [
    "metin = \"Telefon numaram: 123-456-7890\"\n",
    "desen = r'\\d{3}-\\d{3}-\\d{4}' # xxx-xxx-xxxx formatındaki numaralar\n",
    "yeni_metin = re.sub(desen, \"[SANSORED]\", metin[0])\n",
    "\n",
    "print(yeni_metin)"
   ]
  },
  {
   "cell_type": "markdown",
   "metadata": {},
   "source": [
    "### `re.split(pattern, string)`\n",
    "Metni, desene uyan yerlerden bölerek bir liste oluşturur."
   ]
  },
  {
   "cell_type": "code",
   "execution_count": null,
   "metadata": {},
   "outputs": [],
   "source": [
    "metin = \"elma,armut;karpuz.çilek\n",
    "desen = r'[,;.]' # Virgül, noktalı virgül veya noktaya göre böl\n",
    "parcalar = re.split(desen, metin[0])\n",
    "print(parcalar)"
   ]
  },
  {
   "cell_type": "markdown",
   "metadata": {},
   "source": [
    "## 2. Temel Regex Metakarakterleri ve Anlamları\n",
    "\n",
    "- `.` : Herhangi bir tek karakter (yeni satır hariç).\n",
    "- `\\d` : Herhangi bir rakam ([0-9]).\n",
    "- `\\D` : Rakam olmayan herhangi bir karakter.\n",
    "- `\\w` : Alfanümerik karakter (harf, rakam veya alt çizgi `_`).\n",
    "- `\\W` : Alfanümerik olmayan karakter.\n",
    "- `\\s` : Boşluk karakteri (boşluk, tab, yeni satır).\n",
    "- `\\S` : Boşluk olmayan karakter.\n",
    "- `^` : Metnin başlangıcı.\n",
    "- `$` : Metnin sonu.\n",
    "- `[]` : Köşeli parantez içindeki karakterlerden herhangi biri. Örn: `[abc]` -> a, b veya c.\n",
    "- `[^]` : Köşeli parantez içinde olmayan herhangi bir karakter. Örn: `[^5]` -> 5 dışındaki her şey.\n",
    "- `|` : Veya operatörü. Örn: `elma|armut` -> 'elma' veya 'armut' ile eşleşir.\n",
    "- `()` : Gruplama. Desenleri bir arada tutar ve yakalanacak grupları belirtir."
   ]
  },
  {
   "cell_type": "markdown",
   "metadata": {},
   "source": [
    "## 3. Nicelik Belirteçleri (Quantifiers)\n",
    "\n",
    "- `*` : Kendisinden önceki karakterden 0 veya daha fazla sayıda.\n",
    "- `+` : Kendisinden önceki karakterden 1 veya daha fazla sayıda.\n",
    "- `?` : Kendisinden önceki karakterden 0 veya 1 tane.\n",
    "- `{n}` : Kendisinden önceki karakterden tam olarak `n` tane.\n",
    "- `{n,}` : Kendisinden önceki karakterden en az `n` tane.\n",
    "- `{n,m}` : Kendisinden önceki karakterden en az `n`, en fazla `m` tane."
   ]
  },
  {
   "cell_type": "markdown",
   "metadata": {},
   "source": [
    "## 4. Pandas ile Regex Uygulamaları\n",
    "\n",
    "Regex'in gücü, `pandas` DataFrame'leri üzerindeki metin verilerini işlerken ortaya çıkar."
   ]
  },
  {
   "cell_type": "code",
   "execution_count": null,
   "metadata": {},
   "outputs": [],
   "source": [
    "import pandas as pd\n",
    "\n",
    "data = {'kullanici_adi': ['ahmet123', 'ayse_k', 'veli-can', 'fatma45', 'mehmet'],\n",
    "        'email': ['ahmet@example.com', 'ayse.k@test.co', 'veli-can@ornek.net', 'fatma45@gmail.com', 'invalid-email'],\n",
    "        'aciklama': ['Ürün kodu: ABC-1234-XYZ', 'Sipariş no: 5678', 'REF: DEF-5678-KLM', 'Not: Geri arayın', 'Hatalı giriş']}\n",
    "\n",
    "df = pd.DataFrame(data)\n",
    "df"
   ]
  },
  {
   "cell_type": "markdown",
   "metadata": {},
   "source": [
    "### a. Veri Filtreleme: `str.contains()`\n",
    "\n",
    "Belirli bir deseni içeren satırları filtrelemek için kullanılır."
   ]
  },
  {
   "cell_type": "code",
   "execution_count": null,
   "metadata": {},
   "outputs": [],
   "source": [
    "# Geçerli bir email formatına sahip satırları bulalım\n",
    "# Desen: [alfanumerik karakterler]@[alfanumerik karakterler].[alfanumerik karakterler]\n",
    "gecerli_email_deseni = r'\\w+@\\w+\\.\\w+'\n",
    "\n",
    "gecerli_mailler_df = df[df['email'].str.contains(gecerli_email_deseni, na=False)]\n",
    "print(\"--- Geçerli Email Adresleri ---\")\n",
    "print(gecerli_mailler_df)"
   ]
  },
  {
   "cell_type": "markdown",
   "metadata": {},
   "source": [
    "### b. Veri Çıkarma: `str.findall()` ve `str.extract()`\n",
    "\n",
    "Bir sütundaki metinden belirli desenleri çıkarıp yeni bir sütun oluşturmak için kullanılır."
   ]
  },
  {
   "cell_type": "code",
   "execution_count": null,
   "metadata": {},
   "outputs": [],
   "source": [
    "# 'aciklama' sütunundan ürün kodlarını (XXX-XXXX-XXX formatında) çıkaralım\n",
    "urun_kodu_deseni = r'([A-Z]{3}-\\d{4}-[A-Z]{3})' # Gruplama () ile yakalanacak deseni belirtiyoruz\n",
    "\n",
    "# str.extract() -> Eşleşen ilk grubu yeni bir sütun olarak döndürür\n",
    "df['urun_kodu'] = df['aciklama'].str.extract(urun_kodu_deseni)\n",
    "\n",
    "print(df)"
   ]
  },
  {
   "cell_type": "markdown",
   "metadata": {},
   "source": [
    "### c. Veri Değiştirme: `str.replace()`\n",
    "\n",
    "Bir sütundaki desenleri başka bir metinle değiştirmek için kullanılır."
   ]
  },
  {
   "cell_type": "code",
   "execution_count": null,
   "metadata": {},
   "outputs": [],
   "source": [
    "# 'kullanici_adi' sütununda harf ve rakam dışındaki karakterleri (örn: '-') temizleyelim\n",
    "temizlenmis_kullanici_adi = df['kullanici_adi'].str.replace(r'[^\\w]', '', regex=True) # ^\\w -> alfanümerik olmayanlar\n",
    "df['temiz_kullanici_adi'] = temizlenmis_kullanici_adi\n",
    "\n",
    "print(df)"
   ]
  }
 ],
 "metadata": {
  "kernelspec": {
   "display_name": "base",
   "language": "python",
   "name": "python3"
  },
  "language_info": {
   "codemirror_mode": {
    "name": "ipython",
    "version": 3
   },
   "file_extension": ".py",
   "mimetype": "text/x-python",
   "name": "python",
   "nbconvert_exporter": "python",
   "pygments_lexer": "ipython3",
   "version": "3.12.7"
  }
 },
 "nbformat": 4,
 "nbformat_minor": 4
}
