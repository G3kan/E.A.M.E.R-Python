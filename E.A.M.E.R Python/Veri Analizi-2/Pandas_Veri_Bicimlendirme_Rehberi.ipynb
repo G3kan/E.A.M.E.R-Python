{
 "cells": [
  {
   "cell_type": "markdown",
   "metadata": {},
   "source": [
    "# Pandas ile Veri Biçimlendirme (Data Formatting) Rehberi\n",
    "\n",
    "Bu rehber, Pandas kullanarak verilerinizi analiz veya sunum için nasıl biçimlendireceğinizi ve dönüştüreceğinizi anlatır. Veri biçimlendirme; metinleri temizlemek, sayısal formatları ayarlamak, verileri gruplamak ve tabloları görsel olarak daha anlaşılır hale getirmek gibi çeşitli işlemleri kapsar."
   ]
  },
  {
   "cell_type": "markdown",
   "metadata": {},
   "source": [
    "## 1. Kurulum ve Örnek Veri Seti\n",
    "\n",
    "Biçimlendirme ihtiyacı olan, çeşitli ve \"kirli\" veri türleri içeren bir örnek DataFrame oluşturalım."
   ]
  },
  {
   "cell_type": "code",
   "execution_count": null,
   "metadata": {},
   "outputs": [],
   "source": [
    "import pandas as pd\n",
    "import numpy as np\n",
    "\n",
    "data = {\n",
    "    'urun_adi': ['  Elma  ', 'ARMUT', 'çilek', 'muzlu kek', ' Siyah Üzüm '],\n",
    "    'fiyat': ['$1.99', '€2,50', '3.00 TL', '$0.99', '€4,20'],\n",
    "    'stok_miktari': [150, 200, 120, 80, 100],\n",
    "    'kategori': ['Meyve', 'Meyve', 'Meyve', 'İşlenmiş Gıda', 'Meyve'],\n",
    "    'son_satis_tarihi': ['15-08-2023', '16.08.2023', '2023/08/17', '18-08-2023', '19.08.2023'],\n",
    "    'musteri_notu': ['Çok taze', 'Biraz ezik geldi', 'Tadı güzeldi', 'Çocuklar sevdi', 'Rengi harika']\n",
    "}\n",
    "\n",
    "df = pd.DataFrame(data)\n",
    "\n",
    "print(\"Orjinal, Biçimlendirilmemiş Veri Seti:\")\n",
    "display(df)"
   ]
  },
  {
   "cell_type": "markdown",
   "metadata": {},
   "source": [
    "## 2. Metin (String) Verilerini Biçimlendirme\n",
    "\n",
    "Metin verileri genellikle tutarsızdır. `.str` erişimcisi (accessor) ile metinler üzerinde güçlü işlemler yapabiliriz."
   ]
  },
  {
   "cell_type": "code",
   "execution_count": null,
   "metadata": {},
   "outputs": [],
   "source": [
    "# Harf Büyüklüğünü Standartlaştırma\n",
    "df['urun_adi_temiz'] = df['urun_adi'].str.title() # Her Kelimenin İlk Harfi Büyük\n",
    "\n",
    "# Baştaki ve Sondaki Boşlukları Temizleme\n",
    "df['urun_adi_temiz'] = df['urun_adi_temiz'].str.strip()\n",
    "\n",
    "# Metin İçeriğini Değiştirme\n",
    "df['fiyat_temiz'] = df['fiyat'].str.replace(',', '.').str.replace(' TL', '')\n",
    "\n",
    "print(\"Metin temizliği sonrası ilk sonuçlar:\")\n",
    "display(df[['urun_adi_temiz', 'fiyat_temiz']])"
   ]
  },
  {
   "cell_type": "markdown",
   "metadata": {},
   "source": [
    "## 3. Sayısal Verileri Biçimlendirme ve Dönüştürme\n",
    "\n",
    "Metin olarak saklanan sayıları doğru veri tipine çevirmek, matematiksel işlemler yapabilmek için zorunludur."
   ]
  },
  {
   "cell_type": "code",
   "execution_count": null,
   "metadata": {},
   "outputs": [],
   "source": [
    "# Para birimi simgelerini kaldırıp sayısal tipe çevirme\n",
    "df['fiyat_sayisal'] = df['fiyat_temiz'].str.extract(r'(\\d+\\.\\d+)').astype(float)\n",
    "\n",
    "print(\"Temizlenmiş ve sayısal tipe dönüştürülmüş fiyatlar:\")\n",
    "display(df[['urun_adi_temiz', 'fiyat_sayisal', 'fiyat_sayisal']])\n",
    "print(\"\\nYeni sütunun veri tipi:\", df['fiyat_sayisal'].dtype)\n"
   ]
  },
  {
   "cell_type": "markdown",
   "metadata": {},
   "source": [
    "### Sürekli Değişkenleri Kategorik Hale Getirme (Binning)\n",
    "\n",
    "Bazen `stok_miktari` gibi sürekli bir değişkeni, 'Az', 'Orta', 'Çok' gibi kategorilere ayırmak analizleri kolaylaştırır. `pd.cut` bu iş için idealdir."
   ]
  },
  {
   "cell_type": "code",
   "execution_count": null,
   "metadata": {},
   "outputs": [],
   "source": [
    "# Stok miktarını kategorilere ayıralım\n",
    "bins = [0, 100, 180, np.inf] # Sınır değerleri\n",
    "labels = ['Az', 'Orta', 'Çok']   # Kategorilerin etiketleri\n",
    "\n",
    "df['stok_kategorisi'] = pd.cut(df['stok_miktari'], bins=bins, labels=labels, right=False)\n",
    "\n",
    "print(\"Stok miktarına göre oluşturulan kategoriler:\")\n",
    "display(df[['stok_miktari', 'stok_kategorisi']])"
   ]
  },
  {
   "cell_type": "markdown",
   "metadata": {},
   "source": [
    "## 4. Tarih/Zaman Verilerini Biçimlendirme\n",
    "\n",
    "Farklı formatlardaki tarihleri standart bir `datetime` nesnesine çevirmek, tarih bazlı analizler için kritiktir."
   ]
  },
  {
   "cell_type": "code",
   "execution_count": null,
   "metadata": {},
   "outputs": [],
   "source": [
    "# Tarih sütununu standart datetime formatına çevirme\n",
    "df['son_satis_tarihi_dt'] = pd.to_datetime(df['son_satis_tarihi'], format='mixed', dayfirst=True)\n",
    "\n",
    "# Tarih bileşenlerini yeni sütunlara çıkarma\n",
    "df['satis_ayi'] = df['son_satis_tarihi_dt'].dt.month_name(locale='tr_TR.utf8')\n",
    "df['satis_gunu'] = df['son_satis_tarihi_dt'].dt.day_name(locale='tr_TR.utf8')\n",
    "\n",
    "print(\"Biçimlendirilmiş tarih verileri:\")\n",
    "display(df[['son_satis_tarihi_dt', 'satis_ayi', 'satis_gunu']])"
   ]
  },
  {
   "cell_type": "markdown",
   "metadata": {},
   "source": [
    "## 5. Görüntüleme (Display) Biçimlendirmesi - `Styler` Sınıfı\n",
    "\n",
    "Bu yöntemler, altta yatan veriyi **değiştirmez**, sadece Jupyter Notebook gibi ortamlarda tablonun **görünümünü** iyileştirir. Raporlama ve sunum için harikadır."
   ]
  },
  {
   "cell_type": "code",
   "execution_count": 1,
   "metadata": {},
   "outputs": [
    {
     "ename": "IndentationError",
     "evalue": "unexpected indent (1634180578.py, line 8)",
     "output_type": "error",
     "traceback": [
      "\u001b[0;36m  Cell \u001b[0;32mIn[1], line 8\u001b[0;36m\u001b[0m\n\u001b[0;31m    .format({\u001b[0m\n\u001b[0m    ^\u001b[0m\n\u001b[0;31mIndentationError\u001b[0m\u001b[0;31m:\u001b[0m unexpected indent\n"
     ]
    }
   ],
   "source": [
    "# Sunum için basit bir DataFrame oluşturalım\n",
    "df_sunum = df[['urun_adi_temiz', 'fiyat_sayisal', 'stok_miktari']].copy()\n",
    "df_sunum.rename(columns={'urun_adi_temiz': 'Ürün Adı', 'fiyat_sayisal': 'Fiyat', 'stok_miktari': 'Stok'}, inplace=True)\n",
    "df_sunum['karlilik_orani'] = np.random.rand(len(df_sunum)) - 0.3 # Rastgele karlılık oranı\n",
    "\n",
    "# Styler nesnesi ile biçimlendirme\n",
    "df_sunum.style\n",
    " .format({\n",
    "     'Fiyat': '₺{:.2f}', # Para birimi formatı\n",
    "     'karlilik_orani': '{:.2%}' # Yüzde formatı\n",
    " })\n",
    " .background_gradient(cmap='viridis', subset=['Stok']) # Stok için ısı haritası\n",
    " .bar(subset=['Fiyat'], color='#5fba7d') # Fiyat için veri çubukları\n",
    " .applymap(lambda x: 'color: red' if x < 0 else 'color: black', subset=['karlilik_orani']) # Negatif karlılığı kırmızı yap\n",
    " .set_caption('Ürün Satış Raporu') # Tablo başlığı\n"
   ]
  },
  {
   "cell_type": "markdown",
   "metadata": {},
   "source": [
    "## Sonuç\n",
    "\n",
    "Veri biçimlendirme, ham veriyi anlamlı ve işlenebilir bir hale getirmenin temel adımıdır. Pandas, bu süreç için metin manipülasyonundan (`.str`), sayısal dönüşümlere (`.astype`, `pd.cut`) ve sunum kalitesinde görsel biçimlendirmeye (`.style`) kadar geniş bir araç yelpazesi sunar."
   ]
  }
 ],
 "metadata": {
  "kernelspec": {
   "display_name": "base",
   "language": "python",
   "name": "python3"
  },
  "language_info": {
   "codemirror_mode": {
    "name": "ipython",
    "version": 3
   },
   "file_extension": ".py",
   "mimetype": "text/x-python",
   "name": "python",
   "nbconvert_exporter": "python",
   "pygments_lexer": "ipython3",
   "version": "3.12.7"
  }
 },
 "nbformat": 4,
 "nbformat_minor": 4
}
