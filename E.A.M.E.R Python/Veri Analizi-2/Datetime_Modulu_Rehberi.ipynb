{
 "cells": [
  {
   "cell_type": "markdown",
   "metadata": {},
   "source": [
    "# Python `datetime` Modülü: Zaman ve Tarih İşlemleri Rehberi\n",
    "\n",
    "Bu rehber, Python'ın standart kütüphanelerinden biri olan `datetime` modülünün kullanımını ve veri analizi süreçlerindeki pratik uygulamalarını anlatır. Tarih ve saat verileriyle çalışmak, veri analizinin temel adımlarından biridir."
   ]
  },
  {
   "cell_type": "markdown",
   "metadata": {},
   "source": [
    "## 1. `datetime` Modülünün Temel Nesneleri\n",
    "\n",
    "Modül, tarih ve saatleri temsil etmek için birkaç temel nesne sunar."
   ]
  },
  {
   "cell_type": "code",
   "execution_count": null,
   "metadata": {},
   "outputs": [],
   "source": [
    "import datetime as dt"
   ]
  },
  {
   "cell_type": "markdown",
   "metadata": {},
   "source": [
    "### a. `datetime.date` - Tarih Nesnesi\n",
    "Sadece yıl, ay ve gün bilgilerini tutar."
   ]
  },
  {
   "cell_type": "code",
   "execution_count": null,
   "metadata": {},
   "outputs": [],
   "source": [
    "# Belirli bir tarih oluşturma\n",
    "tarih = dt.date(2024, 8, 17)\n",
    "print(f\"Oluşturulan Tarih: {tarih}\")\n",
    "\n",
    "# Bugünün tarihini alma\n",
    "bugun = dt.date.today()\n",
    "print(f\"Bugünün Tarihi: {bugun}\")\n",
    "\n",
    "# Tarih nesnesinin özelliklerine erişim\n",
    "print(f\"Yıl: {bugun.year}, Ay: {bugun.month}, Gün: {bugun.day}\")\n",
    "\n",
    "# Haftanın hangi günü olduğunu bulma (Pazartesi=0, Pazar=6)\n",
    "print(f\"Haftanın Günü (index): {bugun.weekday()}\")"
   ]
  },
  {
   "cell_type": "markdown",
   "metadata": {},
   "source": [
    "### b. `datetime.time` - Zaman Nesnesi\n",
    "Saat, dakika, saniye ve mikrosaniye bilgilerini tutar."
   ]
  },
  {
   "cell_type": "code",
   "execution_count": null,
   "metadata": {},
   "outputs": [],
   "source": [
    "# Belirli bir zaman oluşturma\n",
    "zaman = dt.time(14, 30, 55)\n",
    "print(f\"Oluşturulan Zaman: {zaman}\")\n",
    "\n",
    "# Zaman nesnesinin özelliklerine erişim\n",
    "print(f\"Saat: {zaman.hour}, Dakika: {zaman.minute}, Saniye: {zaman.second}\")"
   ]
  },
  {
   "cell_type": "markdown",
   "metadata": {},
   "source": [
    "### c. `datetime.datetime` - Tarih ve Zaman Nesnesi\n",
    "En sık kullanılan nesnedir; hem tarih hem de zaman bilgilerini bir arada tutar."
   ]
  },
  {
   "cell_type": "code",
   "execution_count": null,
   "metadata": {},
   "outputs": [],
   "source": [
    "# Belirli bir tarih ve zaman oluşturma\n",
    "tarih_zaman = dt.datetime(2025, 1, 1, 10, 0, 0)\n",
    "print(f\"Oluşturulan Tarih ve Zaman: {tarih_zaman}\")\n",
    "\n",
    "# Şimdiki anın tarih ve zamanını alma\n",
    "simdi = dt.datetime.now()\n",
    "print(f\"Şu An: {simdi}\")"
   ]
  },
  {
   "cell_type": "markdown",
   "metadata": {},
   "source": [
    "### d. `datetime.timedelta` - Zaman Farkı Nesnesi\n",
    "İki tarih veya zaman arasındaki farkı temsil eder. Tarihler üzerinde aritmetik işlemler yapmak için kullanılır."
   ]
  },
  {
   "cell_type": "code",
   "execution_count": null,
   "metadata": {},
   "outputs": [],
   "source": [
    "simdi = dt.datetime.now()\n",
    "\n",
    "# 10 gün ve 5 saatlik bir zaman farkı oluşturalım\n",
    "zaman_farki = dt.timedelta(days=10, hours=5)\n",
    "\n",
    "on_gun_sonra = simdi + zaman_farki\n",
    "print(f\"Şu an: {simdi}\")\n",
    "print(f\"10 gün 5 saat sonra: {on_gun_sonra}\")\n",
    "\n",
    "# İki tarih arasındaki farkı hesaplama\n",
    "tarih1 = dt.datetime(2024, 1, 1)\n",
    "tarih2 = dt.datetime(2025, 1, 1)\n",
    "fark = tarih2 - tarih1\n",
    "print(f\"İki tarih arasındaki fark: {fark.days} gün\" )"
   ]
  },
  {
   "cell_type": "markdown",
   "metadata": {},
   "source": [
    "## 2. Tarih ve Zamanı Formatlama: `strftime` ve `strptime`\n",
    "\n",
    "- `strftime`: Tarih/zaman nesnesini, belirtilen formata göre bir **string**'e çevirir.\n",
    "- `strptime`: Belirli bir formattaki **string**'i, bir tarih/zaman nesnesine çevirir."
   ]
  },
  {
   "cell_type": "code",
   "execution_count": null,
   "metadata": {},
   "outputs": [],
   "source": [
    "# strftime: Nesneden string'e\n",
    "simdi = dt.datetime.now()\n",
    "\n",
    "# Örnek formatlar\n",
    "print(simdi.strftime(\"%Y-%m-%d\")) # 2024-08-17\n",
    "print(simdi.strftime(\"%d/%m/%Y %H:%M:%S\")) # 17/08/2024 14:35:50\n",
    "print(simdi.strftime(\"%A, %B %d, %Y\")) # Saturday, August 17, 2024\n",
    "\n",
    "# strptime: String'den nesneye\n",
    "tarih_string = \"30-01-2025 19:45:00\"\n",
    "format_str = \"%d-%m-%Y %H:%M:%S\"\n",
    "tarih_nesnesi = dt.datetime.strptime(tarih_string, format_str)\n",
    "print(f\"String'den oluşturulan nesne: {tarih_nesnesi}\")\n",
    "print(f\"Nesnenin yılı: {tarih_nesnesi.year}\")"
   ]
  },
  {
   "cell_type": "markdown",
   "metadata": {},
   "source": [
    "## 3. Pandas ile `datetime` Uygulamaları\n",
    "\n",
    "Veri analizinde tarihler genellikle metin (string) olarak gelir. `pandas`, bu metinleri kolayca `datetime` nesnelerine çevirmek ve üzerinde güçlü işlemler yapmak için araçlar sunar."
   ]
  },
  {
   "cell_type": "code",
   "execution_count": null,
   "metadata": {},
   "outputs": [],
   "source": [
    "import pandas as pd\n",
    "\n",
    "data = {'tarih_str': ['2023-01-15', '2023-02-20', '2023-03-10', '2023-04-05'],\n",
    "        'satis_miktari': [100, 150, 120, 200]}\n",
    "\n",
    "df = pd.DataFrame(data)\n",
    "print(\"--- Orjinal DataFrame ---\")\n",
    "print(df.info())\n",
    "\n",
    "# `pd.to_datetime` ile string sütunu datetime nesnesine çevirme\n",
    "df['tarih'] = pd.to_datetime(df['tarih_str'])\n",
    "\n",
    "print(\"\n",
    "--- Dönüştürülmüş DataFrame ---\")\n",
    "print(df.info())\n",
    "print(df)"
   ]
  },
  {
   "cell_type": "markdown",
   "metadata": {},
   "source": [
    "### `.dt` Erişimcisi (Accessor)\n",
    "\n",
    "Bir DataFrame sütunu `datetime` tipine dönüştürüldüğünde, `.dt` erişimcisi ile birçok tarih ve zaman özelliğine kolayca erişilebilir."
   ]
  },
  {
   "cell_type": "code",
   "execution_count": null,
   "metadata": {},
   "outputs": [],
   "source": [
    "# .dt ile yeni sütunlar oluşturma\n",
    "df['yil'] = df['tarih'].dt.year\n",
    "df['ay'] = df['tarih'].dt.month\n",
    "df['gun'] = df['tarih'].dt.day\n",
    "df['haftanin_gunu'] = df['tarih'].dt.day_name(locale='tr_TR.utf8') # Türkçe gün isimleri için\n",
    "df['yilin_kacinci_gunu'] = df['tarih'].dt.dayofyear\n",
    "\n",
    "print(df)"
   ]
  },
  {
   "cell_type": "markdown",
   "metadata": {},
   "source": [
    "### Tarihe Göre Filtreleme\n",
    "\n",
    "Sütun `datetime` tipinde olduğunda, tarih bazlı filtreleme ve seçim işlemleri çok kolaylaşır."
   ]
  },
  {
   "cell_type": "code",
   "execution_count": null,
   "metadata": {},
   "outputs": [],
   "source": [
    "# DataFrame'in indeksini tarih sütunu yapalım\n",
    "df.set_index('tarih', inplace=True)\n",
    "\n",
    "# Belirli bir aydaki verileri seçme\n",
    "subat_verileri = df['2023-02']\n",
    "print(\"--- Şubat 2023 Verileri ---\")\n",
    "print(subat_verileri)\n",
    "\n",
    "# Belirli bir tarih aralığındaki verileri seçme\n",
    "baslangic = '2023-01-01'\n",
    "bitis = '2023-02-28'\n",
    "aralik_verileri = df[baslangic:bitis]\n",
    "print(f\"\n",
    "--- {baslangic} ve {bitis} Arası Veriler ---\")\n",
    "print(aralik_verileri)"
   ]
  }
 ],
 "metadata": {
  "kernelspec": {
   "display_name": "Python 3",
   "language": "python",
   "name": "python3"
  },
  "language_info": {
   "name": "python",
   "version": "3.9.12"
  }
 },
 "nbformat": 4,
 "nbformat_minor": 4
}
