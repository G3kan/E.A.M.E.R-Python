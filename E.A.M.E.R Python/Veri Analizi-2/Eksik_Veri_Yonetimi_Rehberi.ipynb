{
 "cells": [
  {
   "cell_type": "markdown",
   "metadata": {},
   "source": [
    "# Pandas ile Eksik Verilerle Başa Çıkma (Kapsamlı Rehber)\n",
    "\n",
    "Bu rehber, veri analizinin en yaygın ve önemli sorunlarından biri olan **eksik verilerle (Missing Data)** nasıl başa çıkılacağını kapsamlı bir şekilde ele almaktadır. Eksik verilerin doğru bir şekilde yönetilmesi, analizlerinizin ve makine öğrenmesi modellerinizin güvenilirliği için hayati önem taşır."
   ]
  },
  {
   "cell_type": "markdown",
   "metadata": {},
   "source": [
    "## 1. Eksik Veri Türleri ve Neden Önemlidir?\n",
    "\n",
    "Eksik veriler genellikle 3 kategoriye ayrılır:\n",
    "1.  **Tamamen Rastlantısal Kayıp (MCAR - Missing Completely at Random):** Verinin eksik olmasının diğer verilerle hiçbir ilişkisi yoktur. (Örn: Bir anket sorusunun rastgele atlanması).\n",
    "2.  **Rastlantısal Kayıp (MAR - Missing at Random):** Verinin eksik olması, veri setindeki diğer gözlemlenen değişkenlerle ilişkilidir. (Örn: Erkeklerin depresyon skorlarını kadınlara göre daha sık boş bırakması. Eksiklik 'cinsiyet' değişkenine bağlıdır).\n",
    "3.  **Rastlantısal Olmayan Kayıp (MNAR - Missing Not at Random):** Verinin eksik olması, o değişkenin kendisiyle ilişkilidir. (Örn: Yüksek maaş alan kişilerin maaş bilgisini girmek istememesi. Eksiklik 'maaş' değişkeninin kendisine bağlıdır).\n",
    "\n",
    "Bu türleri anlamak, doğru başa çıkma stratejisini seçmemize yardımcı olur."
   ]
  },
  {
   "cell_type": "markdown",
   "metadata": {},
   "source": [
    "## 2. Kurulum ve Örnek Veri Seti Oluşturma\n",
    "\n",
    "Konuyu daha iyi anlamak için çeşitli eksik veri türleri içeren sentetik bir veri seti oluşturalım."
   ]
  },
  {
   "cell_type": "code",
   "execution_count": null,
   "metadata": {},
   "outputs": [],
   "source": [
    "import pandas as pd\n",
    "import numpy as np\n",
    "import seaborn as sns\n",
    "import matplotlib.pyplot as plt\n",
    "\n",
    "data = {\n",
    "    'yas': [25, 30, np.nan, 45, 50, 60, 22, np.nan, 35],\n",
    "    'cinsiyet': ['Erkek', 'Kadın', 'Erkek', np.nan, 'Kadın', 'Erkek', 'Kadın', 'Erkek', 'Kadın'],\n",
    "    'maas': [50000, 60000, 45000, 80000, np.nan, 120000, 30000, 40000, 70000],\n",
    "    'departman': ['IT', 'İK', 'Pazarlama', 'IT', 'İK', np.nan, 'Pazarlama', 'IT', 'İK'],\n",
    "    'deneyim_yili': [2, 7, 4, 20, 25, 35, 1, 3, 10],\n",
    "    'son_performans_notu': [85, 90, 88, 95, np.nan, np.nan, 82, 84, 91]\n",
    "}\n",
    "\n",
    "df = pd.DataFrame(data)\n",
    "\n",
    "print(\"Örnek Veri Seti:\")\n",
    "display(df)"
   ]
  },
  {
   "cell_type": "markdown",
   "metadata": {},
   "source": [
    "## 3. Eksik Verileri Tespit Etme\n",
    "\n",
    "İlk adım, veri setimizde nerede ve ne kadar eksik veri olduğunu anlamaktır."
   ]
  },
  {
   "cell_type": "code",
   "execution_count": null,
   "metadata": {},
   "outputs": [],
   "source": [
    "# Her sütundaki eksik değerlerin toplam sayısı\n",
    "print(\"Sütunlardaki Eksik Veri Sayısı:\")\n",
    "print(df.isnull().sum())\n",
    "\n",
    "# Her sütundaki eksik değerlerin yüzdesi\n",
    "print(\"\nSütunlardaki Eksik Veri Yüzdesi (%):\")\n",
    "print(df.isnull().mean() * 100)"
   ]
  },
  {
   "cell_type": "markdown",
   "metadata": {},
   "source": [
    "### Görselleştirme ile Tespit\n",
    "\n",
    "`seaborn.heatmap` kullanarak eksik verilerin bir haritasını çıkarabiliriz. Bu, özellikle büyük veri setlerinde eksikliklerin dağılımını anlamak için çok etkilidir."
   ]
  },
  {
   "cell_type": "code",
   "execution_count": null,
   "metadata": {},
   "outputs": [],
   "source": [
    "plt.figure(figsize=(10, 6))\n",
    "sns.heatmap(df.isnull(), cbar=False, cmap='viridis', yticklabels=False)\n",
    "plt.title('Eksik Veri Haritası')\n",
    "plt.show()\n",
    "\n",
    "# Not: Daha gelişmiş görselleştirmeler için `missingno` kütüphanesi de harika bir seçenektir. (pip install missingno)"
   ]
  },
  {
   "cell_type": "markdown",
   "metadata": {},
   "source": [
    "## 4. Strateji 1: Eksik Verileri Silme (Deletion)\n",
    "\n",
    "En basit yöntemdir ancak veri kaybına neden olduğu için dikkatli kullanılmalıdır."
   ]
  },
  {
   "cell_type": "code",
   "execution_count": null,
   "metadata": {},
   "outputs": [],
   "source": [
    "# Herhangi bir eksik değer içeren satırları silme\n",
    "df_dropped_rows = df.dropna()\n",
    "print(\"Herhangi bir NaN içeren satırlar silindikten sonraki veri:\")\n",
    "display(df_dropped_rows)\n",
    "\n",
    "# Belirli bir sütundaki eksik değere göre satır silme\n",
    "df_dropped_subset = df.dropna(subset=['maas', 'cinsiyet'])\n",
    "print(\"\n'maas' veya 'cinsiyet' sütununda NaN olan satırlar silindikten sonra:\")\n",
    "display(df_dropped_subset)"
   ]
  },
  {
   "cell_type": "markdown",
   "metadata": {},
   "source": [
    "## 5. Strateji 2: Eksik Verileri Doldurma (Imputation)\n",
    "\n",
    "Daha sık tercih edilen yöntem, eksik verileri belirli bir stratejiye göre doldurmaktır."
   ]
  },
  {
   "cell_type": "markdown",
   "metadata": {},
   "source": [
    "### a. Basit Doldurma Yöntemleri"
   ]
  },
  {
   "cell_type": "code",
   "execution_count": null,
   "metadata": {},
   "outputs": [],
   "source": [
    "# Sabit bir değerle doldurma\n",
    "df_filled_constant = df.copy()\n",
    "df_filled_constant['departman'].fillna('Bilinmiyor', inplace=True)\n",
    "print(\"'departman' sabit değerle dolduruldu:\")\n",
    "display(df_filled_constant.head())\n",
    "\n",
    "# Önceki değerle doldurma (Forward Fill) - Zaman serileri için kullanışlıdır\n",
    "df_ffill = df.copy()\n",
    "df_ffill['son_performans_notu'].fillna(method='ffill', inplace=True)\n",
    "print(\"\\n'son_performans_notu' ffill ile dolduruldu:\")\n",
    "display(df_ffill)\n",
    "\n",
    "# Sonraki değerle doldurma (Backward Fill)\n",
    "df_bfill = df.copy()\n",
    "df_bfill['son_performans_notu'].fillna(method='bfill', inplace=True)\n",
    "print(\"\\n'son_performans_notu' bfill ile dolduruldu:\")\n",
    "display(df_bfill)"
   ]
  },
  {
   "cell_type": "markdown",
   "metadata": {},
   "source": [
    "### b. İstatistiksel Doldurma Yöntemleri"
   ]
  },
  {
   "cell_type": "code",
   "execution_count": null,
   "metadata": {},
   "outputs": [],
   "source": [
    "df_imputed = df.copy()\n",
    "\n",
    "# Sayısal sütunları ortalama veya medyan ile doldurma\n",
    "# Medyan, aykırı değerlere karşı daha dayanıklıdır.\n",
    "yas_medyan = df_imputed['yas'].median()\n",
    "df_imputed['yas'].fillna(yas_medyan, inplace=True)\n",
    "\n",
    "maas_ortalama = df_imputed['maas'].mean()\n",
    "df_imputed['maas'].fillna(maas_ortalama, inplace=True)\n",
    "\n",
    "# Kategorik sütunları en sık tekrar eden değer (mod) ile doldurma\n",
    "cinsiyet_mod = df_imputed['cinsiyet'].mode()[0]\n",
    "df_imputed['cinsiyet'].fillna(cinsiyet_mod, inplace=True)\n",
    "\n",
    "print('İstatistiksel doldurma sonrası veri:')\n",
    "display(df_imputed)"
   ]
  },
  {
   "cell_type": "markdown",
   "metadata": {},
   "source": [
    "### c. Gelişmiş Doldurma: Gruplara Özel Doldurma\n",
    "\n",
    "Bu çok daha güçlü bir yöntemdir. Eksik bir değeri, ait olduğu grubun istatistiklerine göre doldururuz. Örneğin, eksik maaş bilgisini, kişinin bulunduğu **departmanın ortalama maaşına** göre doldurabiliriz."
   ]
  },
  {
   "cell_type": "code",
   "execution_count": null,
   "metadata": {},
   "outputs": [],
   "source": [
    "df_group_imputed = df.copy()\n",
    "\n",
    "# Departmanlara göre ortalama maaşı hesapla ve eksik maaşları doldur\n",
    "df_group_imputed['maas'] = df_group_imputed.groupby('departman')['maas'].transform(\n",
    "    lambda x: x.fillna(x.mean())\n",
    ")\n",
    "\n",
    "print('Departman ortalamasına göre doldurulmuş maaşlar:')\n",
    "display(df_group_imputed)"
   ]
  },
  {
   "cell_type": "markdown",
   "metadata": {},
   "source": [
    "### d. İnterpolasyon ile Doldurma\n",
    "\n",
    "`interpolate()` metodu, özellikle sıralı veya zaman serisi verilerinde eksik değerleri, komşu değerlere dayalı olarak tahmin eder."
   ]
  },
  {
   "cell_type": "code",
   "execution_count": null,
   "metadata": {},
   "outputs": [],
   "source": [
    "df_interpolated = df.copy()\n",
    "\n",
    "# Lineer interpolasyon uygula\n",
    "df_interpolated['son_performans_notu'].interpolate(method='linear', inplace=True)\n",
    "\n",
    "print('İnterpolasyon ile doldurulmuş performans notları:')\n",
    "display(df_interpolated)"
   ]
  },
  {
   "cell_type": "markdown",
   "metadata": {},
   "source": [
    "## 6. Strateji 3: Gelişmiş Doldurma (Scikit-learn)\n",
    "\n",
    "Daha karmaşık senaryolar için `scikit-learn` kütüphanesi, diğer özelliklerin ilişkilerini de dikkate alarak doldurma yapabilen güçlü araçlar sunar.\n",
    "\n",
    "- **`KNNImputer`**: Eksik bir değeri, ona en yakın 'k' komşusunun değerlerinin ortalamasıyla doldurur.\n",
    "- **`IterativeImputer`**: Her bir eksik özellik için bir regresyon modeli oluşturur ve diğer özellikleri kullanarak eksik değerleri tahmin eder. Genellikle en güçlü yöntemlerden biridir.\n",
    "\n",
    "Bu yöntemler, `Scikit-Learn_Rehberi.ipynb` dosyasında daha detaylı incelenebilir."
   ]
  },
  {
   "cell_type": "code",
   "execution_count": null,
   "metadata": {},
   "outputs": [],
   "source": [
    "from sklearn.impute import KNNImputer\n",
    "\n",
    "df_knn = df[['yas', 'maas', 'deneyim_yili', 'son_performans_notu']].copy()\n",
    "\n",
    "imputer = KNNImputer(n_neighbors=2)\n",
    "df_knn_imputed = imputer.fit_transform(df_knn)\n",
    "\n",
    "# Sonucu DataFrame'e çevirelim\n",
    "df_knn_imputed = pd.DataFrame(df_knn_imputed, columns=df_knn.columns)\n",
    "\n",
    "print('KNNImputer ile Doldurulmuş Veri:')\n",
    "display(df_knn_imputed)"
   ]
  },
  {
   "cell_type": "markdown",
   "metadata": {},
   "source": [
    "## Sonuç ve Hangi Yöntemi Seçmeli?\n",
    "\n",
    "En iyi yöntemi seçmek, probleme ve veriye bağlıdır:\n",
    "\n",
    "- **Hızlı ve basit bir çözüm için:** `mean`/`median`/`mode` ile doldurma genellikle yeterlidir.\n",
    "- **Veri kaybını göze alabiliyorsanız ve eksiklik azsa:** `dropna()` kullanılabilir.\n",
    "- **Zaman serisi veya sıralı verilerle çalışıyorsanız:** `ffill`, `bfill` veya `interpolate` iyi seçeneklerdir.\n",
    "- **Değişkenler arasında ilişki olduğunu düşünüyorsanız ve daha doğru tahminler istiyorsanız:** Gruplara özel doldurma veya `scikit-learn`'ün `KNNImputer` / `IterativeImputer`'ı gibi gelişmiş yöntemler en iyi sonuçları verecektir."
   ]
  }
 ],
 "metadata": {
  "kernelspec": {
   "display_name": "Python 3",
   "language": "python",
   "name": "python3"
  },
  "language_info": {
   "codemirror_mode": {
    "name": "ipython",
    "version": 3
   },
   "file_extension": ".py",
   "mimetype": "text/x-python",
   "name": "python",
   "nbconvert_exporter": "python",
   "pygments_lexer": "ipython3",
   "version": "3.12.7"
  }
 },
 "nbformat": 4,
 "nbformat_minor": 4
}
