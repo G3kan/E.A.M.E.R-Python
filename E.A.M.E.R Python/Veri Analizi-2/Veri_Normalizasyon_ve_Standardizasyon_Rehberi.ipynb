{
 "cells": [
  {
   "cell_type": "markdown",
   "metadata": {},
   "source": [
    "# Veri Ölçeklendirme: Normalizasyon ve Standardizasyon Rehberi\n",
    "\n",
    "Bu rehber, makine öğrenmesi ön işleme adımlarının en önemlilerinden olan **veri ölçeklendirme (feature scaling)** konusunu ele alır. `Scikit-learn` kütüphanesi kullanarak en yaygın iki yöntem olan **Normalizasyon (Min-Max Scaling)** ve **Standardizasyon (Z-score Scaling)** arasındaki farkları, nasıl uygulandıklarını ve ne zaman hangisini tercih etmeniz gerektiğini öğreneceksiniz."
   ]
  },
  {
   "cell_type": "markdown",
   "metadata": {},
   "source": [
    "## 1. Veri Ölçeklendirme Neden Gereklidir?\n",
    "\n",
    "Makine öğrenmesi algoritmalarının birçoğu, özelliklerin (features) farklı ölçeklerde olmasından olumsuz etkilenir. Örneğin, bir veri setinde **yaş** (18-65 arası) ve **maaş** (30.000-250.000 arası) gibi iki özellik olduğunu düşünelim.\n",
    "\n",
    "- **Mesafe Bazlı Algoritmalar (KNN, K-Means, SVM):** Bu algoritmalar, noktalar arasındaki mesafeyi hesaplarken, daha büyük ölçekli olan `maaş` özelliği, `yaş` özelliğini domine eder ve modelin yanlı sonuçlar üretmesine neden olur.\n",
    "- **Gradyan İnişi (Gradient Descent) Kullanan Algoritmalar (Lineer/Lojistik Regresyon, Sinir Ağları):** Ölçeklendirme, gradyan inişinin daha hızlı ve kararlı bir şekilde optimum noktaya ulaşmasına yardımcı olur.\n",
    "\n",
    "**Amaç:** Tüm sayısal özellikleri benzer bir ölçeğe getirerek modelin tüm özellikleri adil bir şekilde değerlendirmesini sağlamaktır."
   ]
  },
  {
   "cell_type": "markdown",
   "metadata": {},
   "source": [
    "## 2. Kurulum ve Örnek Veri Seti\n",
    "\n",
    "Farklı ölçek ve dağılımlara sahip sentetik bir veri seti oluşturalım ve bu veri üzerinde ölçeklendirmenin etkilerini görselleştirelim."
   ]
  },
  {
   "cell_type": "code",
   "execution_count": null,
   "metadata": {},
   "outputs": [],
   "source": [
    "import pandas as pd\n",
    "import numpy as np\n",
    "import matplotlib.pyplot as plt\n",
    "import seaborn as sns\n",
    "from sklearn.preprocessing import MinMaxScaler, StandardScaler, RobustScaler\n",
    "\n",
    "# Sentetik veri oluşturalım\n",
    "np.random.seed(42)\n",
    "data = {\n",
    "    'yas': np.random.randint(20, 61, 100),\n",
    "    'deneyim_yili': np.random.randint(0, 40, 100),\n",
    "    'maas': np.random.randint(30000, 150001, 100),\n",
    "    # Aykırı değerler içeren bir özellik\n",
    "    'bonus': np.concatenate([np.random.randint(1000, 5000, 95), np.array([15000, 20000, 22000, 25000, 30000])])\n",
    "}\n",
    "df = pd.DataFrame(data)\n",
    "\n",
    "# Orijinal verinin dağılımlarını görselleştirelim\n",
    "sns.kdeplot(data=df, palette='viridis')\n",
    "plt.title('Ölçeklendirme Öncesi Orijinal Dağılımlar')\n",
    "plt.show()\n",
    "\n",
    "display(df.describe().round(2))"
   ]
  },
  {
   "cell_type": "markdown",
   "metadata": {},
   "source": [
    "## 3. Yöntem 1: Normalizasyon (Min-Max Scaling)\n",
    "\n",
    "Bu yöntem, veriyi belirli bir aralığa, genellikle **[0, 1]** aralığına, sıkıştırır.\n",
    "\n",
    "**Formül:** `X_normalized = (X - X_min) / (X_max - X_min)`\n",
    "\n",
    "- **Avantajları:** Verinin belirli sınırlar içinde olmasını garanti eder. Görüntü işleme veya sinir ağlarında belirli aktivasyon fonksiyonları için kullanışlıdır.\n",
    "- **Dezavantajları:** Aykırı değerlere (outliers) karşı çok hassastır. Tek bir aykırı değer, verinin geri kalanının çok dar bir aralığa sıkışmasına neden olabilir."
   ]
  },
  {
   "cell_type": "code",
   "execution_count": null,
   "metadata": {},
   "outputs": [],
   "source": [
    "scaler_minmax = MinMaxScaler()\n",
    "df_minmax_scaled = pd.DataFrame(scaler_minmax.fit_transform(df), columns=df.columns)\n",
    "\n",
    "# Min-Max ölçeklendirme sonrası dağılımlar\n",
    "sns.kdeplot(data=df_minmax_scaled, palette='viridis')\n",
    "plt.title('Min-Max Normalizasyon Sonrası Dağılımlar')\n",
    "plt.show()\n",
    "\n",
    "print(\"Min-Max Normalizasyon Sonrası İstatistikler:\")\n",
    "display(df_minmax_scaled.describe().round(2))"
   ]
  },
  {
   "cell_type": "markdown",
   "metadata": {},
   "source": [
    "## 4. Yöntem 2: Standardizasyon (Z-score Scaling)\n",
    "\n",
    "Bu yöntem, veriyi ortalaması **0** ve standart sapması **1** olan bir dağılıma dönüştürür.\n",
    "\n",
    "**Formül:** `X_standardized = (X - μ) / σ` (μ: ortalama, σ: standart sapma)\n",
    "\n",
    "- **Avantajları:** Aykırı değerlerden Normalizasyon kadar etkilenmez. Verinin orijinal dağılımının şeklini korur. Çoğu makine öğrenmesi algoritması için **genellikle varsayılan ve en güvenli tercihtir**.\n",
    "- **Dezavantajları:** Veriyi belirli bir aralığa sıkıştırmaz."
   ]
  },
  {
   "cell_type": "code",
   "execution_count": null,
   "metadata": {},
   "outputs": [],
   "source": [
    "scaler_standard = StandardScaler()\n",
    "df_standard_scaled = pd.DataFrame(scaler_standard.fit_transform(df), columns=df.columns)\n",
    "\n",
    "# Standardizasyon sonrası dağılımlar\n",
    "sns.kdeplot(data=df_standard_scaled, palette='viridis')\n",
    "plt.title('Standardizasyon Sonrası Dağılımlar')\n",
    "plt.show()\n",
    "\n",
    "print(\"Standardizasyon Sonrası İstatistikler:\")\n",
    "display(df_standard_scaled.describe().round(2))"
   ]
  },
  {
   "cell_type": "markdown",
   "metadata": {},
   "source": [
    "## 5. Yöntem 3: Dayanıklı Ölçeklendirme (Robust Scaling)\n",
    "\n",
    "Veri setinizde **önemli aykırı değerler** varsa, `RobustScaler` en iyi seçenek olabilir. Ortalama ve standart sapma yerine, **medyan** ve **çeyrekler arası aralığı (IQR)** kullandığı için aykırı değerlerden etkilenmez.\n",
    "\n",
    "**Formül:** `X_robust = (X - Q1) / (Q3 - Q1)`"
   ]
  },
  {
   "cell_type": "code",
   "execution_count": null,
   "metadata": {},
   "outputs": [],
   "source": [
    "scaler_robust = RobustScaler()\n",
    "df_robust_scaled = pd.DataFrame(scaler_robust.fit_transform(df), columns=df.columns)\n",
    "\n",
    "# Robust ölçeklendirme sonrası dağılımlar\n",
    "sns.kdeplot(data=df_robust_scaled, palette='viridis')\n",
    "plt.title('Robust Ölçeklendirme Sonrası Dağılımlar')\n",
    "plt.show()\n",
    "\n",
    "print(\"Robust Ölçeklendirme Sonrası İstatistikler:\")\n",
    "display(df_robust_scaled.describe().round(2))"
   ]
  },
  {
   "cell_type": "markdown",
   "metadata": {},
   "source": [
    "## 6. Pratik Uygulama: Train-Test Ayrımında Doğru Kullanım\n",
    "\n",
    "**ÇOK ÖNEMLİ NOT:** Ölçekleyici (scaler), sadece **eğitim (train) verisi** üzerinde `fit` edilmelidir. Test verisinden herhangi bir bilginin (min, max, ortalama gibi) eğitim sürecine sızmasını (`data leakage`) önlemek için, test verisi sadece daha önce eğitilmiş olan bu scaler ile `transform` edilir."
   ]
  },
  {
   "cell_type": "code",
   "execution_count": null,
   "metadata": {},
   "outputs": [],
   "source": [
    "from sklearn.model_selection import train_test_split\n",
    "\n",
    "X = df.drop('maas', axis=1)\n",
    "y = df['maas']\n",
    "\n",
    "X_train, X_test, y_train, y_test = train_test_split(X, y, test_size=0.2, random_state=42)\n",
    "\n",
    "scaler = StandardScaler()\n",
    "\n",
    "# 1. Scaler'ı SADECE eğitim verisine göre eğit (fit)\n",
    "scaler.fit(X_train)\n",
    "\n",
    "# 2. Hem eğitim hem de test verisini bu scaler ile dönüştür (transform)\n",
    "X_train_scaled = scaler.transform(X_train)\n",
    "X_test_scaled = scaler.transform(X_test)\n",
    "\n",
    "print(\"Eğitim verisinin şekli:\", X_train_scaled.shape)\n",
    "print(\"Test verisinin şekli:\", X_test_scaled.shape)\n"
   ]
  },
  {
   "cell_type": "markdown",
   "metadata": {},
   "source": [
    "## Sonuç: Hangi Yöntemi Ne Zaman Kullanmalı?\n",
    "\n",
    "| Yöntem | Ne Zaman Kullanılır? | Avantajları | Dezavantajları |\n",
    "|---|---|---|---|\n",
    "| **StandardScaler** | **Genel amaçlı, varsayılan tercih.** Özellikle lineer modeller, SVM gibi algoritmalarda. | Aykırı değerlerden daha az etkilenir, dağılımın şeklini korur. | Veriyi belirli bir aralığa sıkıştırmaz. |\n",
    "| **MinMaxScaler** | Verinin belirli bir aralıkta [0, 1] olması gerektiğinde. **Sinir ağları, görüntü işleme.** | Veriyi sınırlı bir aralığa getirir. | Aykırı değerlere karşı çok hassastır. |\n",
    "| **RobustScaler** | Veri setinde **önemli sayıda aykırı değer** olduğunda. | Aykırı değerlere karşı dayanıklıdır. | Diğer yöntemler kadar yaygın kullanılmaz. |\n"
   ]
  }
 ],
 "metadata": {
  "kernelspec": {
   "display_name": "Python 3",
   "language": "python",
   "name": "python3"
  },
  "language_info": {
   "codemirror_mode": {
    "name": "ipython",
    "version": 3
   },
   "file_extension": ".py",
   "mimetype": "text/x-python",
   "name": "python",
   "nbconvert_exporter": "python",
   "pygments_lexer": "ipython3",
   "version": "3.12.7"
  }
 },
 "nbformat": 4,
 "nbformat_minor": 4
}
