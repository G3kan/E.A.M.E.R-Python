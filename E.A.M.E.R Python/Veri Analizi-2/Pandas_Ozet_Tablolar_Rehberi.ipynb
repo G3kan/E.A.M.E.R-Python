{
 "cells": [
  {
   "cell_type": "markdown",
   "metadata": {},
   "source": [
    "# Pandas ile Özet Tablolar: `groupby()` ve `pivot_table()` Rehberi\n",
    "\n",
    "Bu rehber, Pandas kütüphanesinin en güçlü veri özetleme araçlarından olan `groupby()` ve `pivot_table()`'ı kullanarak nasıl özet tablolar oluşturulacağını anlatır. Bu fonksiyonlar, büyük veri setlerinden hızlı ve etkili bir şekilde anlamlı bilgiler çıkarmak için vazgeçilmezdir."
   ]
  },
  {
   "cell_type": "markdown",
   "metadata": {},
   "source": [
    "## 1. Kurulum ve Örnek Veri Seti\n",
    "\n",
    "Analizlerimizi yapmak için `Project -1` klasöründeki tanıdık çalışan veri setini kullanacağız."
   ]
  },
  {
   "cell_type": "code",
   "execution_count": null,
   "metadata": {},
   "outputs": [],
   "source": [
    "import pandas as pd\n",
    "import numpy as np\n",
    "\n",
    "# Veri setini yükleyelim\n",
    "file_path = '../Project -1/sirket_calisan_verisi_5000.csv'\n",
    "df = pd.read_csv(file_path)\n",
    "\n",
    "# Analiz kolaylığı için eksik verileri basitçe dolduralım\n",
    "df['maas'].fillna(df['maas'].median(), inplace=True)\n",
    "df['departman'].fillna(df['departman'].mode()[0], inplace=True)\n",
    "\n",
    "print(\"Veri Setinin İlk 5 Satırı:\")\n",
    "display(df.head())"
   ]
  },
  {
   "cell_type": "markdown",
   "metadata": {},
   "source": [
    "## 2. `groupby()` ile Veri Gruplama ve Özetleme\n",
    "\n",
    "`groupby()` metodu, **Böl-Uygula-Birleştir (Split-Apply-Combine)** mantığıyla çalışır. Veriyi belirli kategorilere böler, her bir gruba bir fonksiyon uygular ve sonuçları birleştirir.\n",
    "\n",
    "- **Böl (Split):** Veriyi, gruplamak istediğiniz sütun(lar)a göre alt kümelere ayırır.\n",
    "- **Uygula (Apply):** Her bir gruba bir veya daha fazla agregasyon (toplama, ortalama, sayma vb.) fonksiyonu uygular.\n",
    "- **Birleştir (Combine):** Sonuçları yeni bir DataFrame veya Series olarak bir araya getirir."
   ]
  },
  {
   "cell_type": "markdown",
   "metadata": {},
   "source": [
    "### a. Tek Sütuna Göre Gruplama"
   ]
  },
  {
   "cell_type": "code",
   "execution_count": null,
   "metadata": {},
   "outputs": [],
   "source": [
    "# Departmanlara göre ortalama maaşı hesaplayalım\n",
    "ortalama_maas_departman = df.groupby('departman')['maas'].mean()\n",
    "print(\"Departmanlara Göre Ortalama Maaş:\")\n",
    "display(ortalama_maas_departman.round(2))"
   ]
  },
  {
   "cell_type": "markdown",
   "metadata": {},
   "source": [
    "### b. Birden Fazla Sütuna Göre Gruplama"
   ]
  },
  {
   "cell_type": "code",
   "execution_count": null,
   "metadata": {},
   "outputs": [],
   "source": [
    "# Departman ve şehir kırılımında ortalama maaş ve deneyim yılını bulalım\n",
    "grup_coklu = df.groupby(['departman', 'sehir'])[['maas', 'deneyim_yili']].mean()\n",
    "print(\"Departman ve Şehir Kırılımında Ortalama Maaş ve Deneyim:\")\n",
    "display(grup_coklu.round(2))"
   ]
  },
  {
   "cell_type": "markdown",
   "metadata": {},
   "source": [
    "### c. `.agg()` ile Çoklu Agregasyon Fonksiyonları Uygulama\n",
    "\n",
    "`.agg()` metodu, her grup için birden fazla özet istatistiği aynı anda hesaplamamızı sağlar."
   ]
  },
  {
   "cell_type": "code",
   "execution_count": null,
   "metadata": {},
   "outputs": [],
   "source": [
    "# Departmanlara göre maaşın ortalamasını, toplamını ve çalışan sayısını bulalım\n",
    "agg_sonuc = df.groupby('departman')['maas'].agg(['mean', 'sum', 'count'])\n",
    "print(\"Departmanlara Göre Maaş İstatistikleri:\")\n",
    "display(agg_sonuc.round(2))"
   ]
  },
  {
   "cell_type": "markdown",
   "metadata": {},
   "source": [
    "## 3. `pivot_table()` ile Esnek Özet Tablolar\n",
    "\n",
    "`pivot_table()`, `groupby()`'a benzer bir işlev görse de, veriyi Excel'deki pivot tablolara çok benzer bir formatta yeniden şekillendirmek için daha esnek bir arayüz sunar.\n",
    "\n",
    "Temel parametreleri:\n",
    "- `values`: Özetlenecek (hesaplanacak) değerleri içeren sütun.\n",
    "- `index`: Sonuç tablosunun satırları olacak sütun.\n",
    "- `columns`: Sonuç tablosunun sütunları olacak sütun.\n",
    "- `aggfunc`: Uygulanacak agregasyon fonksiyonu (varsayılan: `mean`)."
   ]
  },
  {
   "cell_type": "markdown",
   "metadata": {},
   "source": [
    "### a. Temel Pivot Tablo"
   ]
  },
  {
   "cell_type": "code",
   "execution_count": null,
   "metadata": {},
   "outputs": [],
   "source": [
    "# Departmanların (index) ortalama maaşını (values) gösteren bir pivot tablo\n",
    "pivot_basic = pd.pivot_table(df, values='maas', index='departman', aggfunc='mean')\n",
    "print(\"Departmanlara Göre Ortalama Maaş (Pivot Table):\")\n",
    "display(pivot_basic.round(2))"
   ]
  },
  {
   "cell_type": "markdown",
   "metadata": {},
   "source": [
    "### b. `index` ve `columns` Kullanarak Pivot Tablo"
   ]
  },
  {
   "cell_type": "code",
   "execution_count": null,
   "metadata": {},
   "outputs": [],
   "source": [
    "# Satırlarda departman, sütunlarda cinsiyet olacak şekilde ortalama maaşları gösterelim\n",
    "pivot_complex = pd.pivot_table(df, values='maas', index='departman', columns='cinsiyet', aggfunc='mean')\n",
    "print(\"Departman ve Cinsiyet Kırılımında Ortalama Maaşlar:\")\n",
    "display(pivot_complex.round(2))"
   ]
  },
  {
   "cell_type": "markdown",
   "metadata": {},
   "source": [
    "### c. Çoklu Agregasyon ve `margins` Parametresi\n",
    "\n",
    "Birden fazla istatistik hesaplayabilir ve `margins=True` ile ara toplamları (All) ekleyebiliriz."
   ]
  },
  {
   "cell_type": "code",
   "execution_count": null,
   "metadata": {},
   "outputs": [],
   "source": [
    "# Departman ve cinsiyet kırılımında ortalama ve maksimum maaşı, ara toplamlarla birlikte gösterelim\n",
    "pivot_advanced = pd.pivot_table(\n",
    "    df, \n",
    "    values='maas', \n",
    "    index='departman', \n",
    "    columns='cinsiyet', \n",
    "    aggfunc=['mean', 'max'],\n",
    "    margins=True, # Ara toplamları (All) ekler\n",
    "    fill_value=0    # NaN değerleri 0 ile doldurur\n",
    ")\n",
    "\n",
    "print(\"Gelişmiş Pivot Tablo (Ortalama ve Maksimum Maaş):\")\n",
    "display(pivot_advanced.round(2))"
   ]
  },
  {
   "cell_type": "markdown",
   "metadata": {},
   "source": [
    "## 4. `crosstab()` ile Frekans Tabloları\n",
    "\n",
    "`pd.crosstab()`, iki veya daha fazla faktörün frekans tablosunu (çapraz tablo) oluşturmak için özel olarak tasarlanmış bir fonksiyondur. Özellikle kategorik değişkenler arasındaki ilişkiyi görmek için kullanışlıdır."
   ]
  },
  {
   "cell_type": "code",
   "execution_count": null,
   "metadata": {},
   "outputs": [],
   "source": [
    "# Departman ve şehirdeki çalışan sayılarının frekans tablosu\n",
    "cross_table = pd.crosstab(df['departman'], df['sehir'])\n",
    "print(\"Departman ve Şehir Kırılımında Çalışan Sayısı:\")\n",
    "display(cross_table)\n",
    "\n",
    "# Yüzdesel dağılımı görmek için normalize=True kullanılabilir\n",
    "cross_table_percent = pd.crosstab(df['departman'], df['sehir'], normalize='index')\n",
    "print(\"\n",
    "Departman ve Şehir Kırılımında Çalışan Yüzdesi (Satırlara Göre):\")\n",
    "display((cross_table_percent * 100).round(2))"
   ]
  },
  {
   "cell_type": "markdown",
   "metadata": {},
   "source": [
    "## Sonuç: `groupby` vs. `pivot_table`\n",
    "\n",
    "- **`groupby()`**: Veriyi gruplara ayırıp üzerinde esnek hesaplamalar yapmak için temel ve güçlü bir araçtır. Sonucu genellikle çok seviyeli bir Series veya DataFrame'dir.\n",
    "- **`pivot_table()`**: `groupby()` üzerine kurulmuş, özellikle veriyi satır ve sütunlara göre yeniden şekillendirerek (reshaping) 2 boyutlu, okunması kolay özet tablolar oluşturmak için tasarlanmış bir fonksiyondur.\n",
    "\n",
    "Genellikle, eğer istediğiniz çıktı Excel'deki bir pivot tabloya benziyorsa, `pivot_table()` daha doğrudan bir çözüm sunar. Daha karmaşık, çok adımlı agregasyonlar için `groupby()` daha fazla esneklik sağlar."
   ]
  }
 ],
 "metadata": {
  "kernelspec": {
   "display_name": "Python 3",
   "language": "python",
   "name": "python3"
  },
  "language_info": {
   "codemirror_mode": {
    "name": "ipython",
    "version": 3
   },
   "file_extension": ".py",
   "mimetype": "text/x-python",
   "name": "python",
   "nbconvert_exporter": "python",
   "pygments_lexer": "ipython3",
   "version": "3.12.7"
  }
 },
 "nbformat": 4,
 "nbformat_minor": 4
}
