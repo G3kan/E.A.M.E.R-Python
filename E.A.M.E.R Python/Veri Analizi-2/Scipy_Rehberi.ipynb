{
 "cells": [
  {
   "cell_type": "markdown",
   "metadata": {},
   "source": [
    "# Scipy Kütüphanesi Rehberi"
   ]
  },
  {
   "cell_type": "markdown",
   "metadata": {},
   "source": [
    "## Scipy Nedir?\n",
    "SciPy (Scientific Python), bilimsel ve teknik hesaplamalar için kullanılan açık kaynaklı bir Python kütüphanesidir. NumPy kütüphanesi üzerine inşa edilmiştir ve optimizasyon, lineer cebir, entegrasyon, interpolasyon, özel fonksiyonlar, FFT, sinyal ve görüntü işleme, ODE çözücüleri ve diğer bilimsel ve mühendislik alanlarında yaygın olarak kullanılan modüller içerir."
   ]
  },
  {
   "cell_type": "markdown",
   "metadata": {},
   "source": [
    "## Neden Scipy Kullanmalıyız?\n",
    "\n",
    "- **Geniş Fonksiyon Yelpazesi:** Bilimsel hesaplamalar için ihtiyaç duyabileceğiniz birçok aracı tek bir kütüphanede buluşturur.\n",
    "- **Yüksek Performans:** Arka planda C ve Fortran gibi dillerle yazılmış optimize edilmiş kodlar çalıştırır.\n",
    "- **NumPy ile Entegrasyon:** NumPy dizileri ile sorunsuz bir şekilde çalışır.\n",
    "- **Aktif Geliştirme ve Geniş Topluluk:** Sürekli olarak güncellenir ve geniş bir kullanıcı topluluğu tarafından desteklenir."
   ]
  },
  {
   "cell_type": "markdown",
   "metadata": {},
   "source": [
    "https://docs.scipy.org/doc/scipy/ adresinden yardım alabilirsiniz."
   ]
  },
  {
   "cell_type": "markdown",
   "metadata": {},
   "source": [
    "## Kurulum"
   ]
  },
  {
   "cell_type": "code",
   "execution_count": 1,
   "metadata": {},
   "outputs": [
    {
     "name": "stdout",
     "output_type": "stream",
     "text": [
      "Requirement already satisfied: scipy in /home/g3kan/anaconda3/lib/python3.12/site-packages (1.13.1)\n",
      "Requirement already satisfied: numpy<2.3,>=1.22.4 in /home/g3kan/anaconda3/lib/python3.12/site-packages (from scipy) (1.26.4)\n"
     ]
    }
   ],
   "source": [
    "!pip install scipy"
   ]
  },
  {
   "cell_type": "markdown",
   "metadata": {},
   "source": [
    "## Temel Scipy Modülleri ve Kullanım Örnekleri"
   ]
  },
  {
   "cell_type": "markdown",
   "metadata": {},
   "source": [
    "### 1. Lineer Cebir (`scipy.linalg`)"
   ]
  },
  {
   "cell_type": "code",
   "execution_count": null,
   "metadata": {},
   "outputs": [],
   "source": [
    "import numpy as np\n",
    "from scipy import linalg\n",
    "\n",
    "# 2x2'lik bir matris oluşturalım\n",
    "A = np.array([[1, 2], [3, 4]])\n",
    "\n",
    "# Matrisin determinantını bulma\n",
    "det_A = linalg.det(A)\n",
    "print(f\"Matrisin Determinantı: {det_A}\")\n",
    "\n",
    "# Matrisin tersini bulma\n",
    "inv_A = linalg.inv(A)\n",
    "print(f\"Matrisin Tersi:\n",
    "{inv_A}\")"
   ]
  },
  {
   "cell_type": "markdown",
   "metadata": {},
   "source": [
    "### 2. Optimizasyon (`scipy.optimize`)"
   ]
  },
  {
   "cell_type": "code",
   "execution_count": null,
   "metadata": {},
   "outputs": [],
   "source": [
    "from scipy.optimize import minimize\n",
    "\n",
    "# Minimumunu bulmak istediğimiz fonksiyon\n",
    "def f(x):\n",
    "    return x**2 + 10*np.sin(x)\n",
    "\n",
    "# Fonksiyonun minimumunu bulma\n",
    "result = minimize(f, x0=0) # x0: başlangıç noktası\n",
    "\n",
    "print(f\"Minimum Değer: {result.fun}\")\n",
    "print(f\"Minimum Nokta: {result.x}\")"
   ]
  },
  {
   "cell_type": "markdown",
   "metadata": {},
   "source": [
    "### 3. İstatistik (`scipy.stats`)"
   ]
  },
  {
   "cell_type": "code",
   "execution_count": null,
   "metadata": {},
   "outputs": [],
   "source": [
    "from scipy import stats\n",
    "\n",
    "# Normal dağılıma sahip rastgele sayılar üretme\n",
    "rvs = stats.norm.rvs(loc=0, scale=1, size=100) # loc: ortalama, scale: standart sapma\n",
    "\n",
    "# Üretilen verinin temel istatistikleri\n",
    "mean, var, skew, kurt = stats.norm.stats(moments='mvsk')\n",
    "print(f\"Ortalama: {rvs.mean()}\")\n",
    "print(f\"Varyans: {rvs.var()}\")"
   ]
  },
  {
   "cell_type": "markdown",
   "metadata": {},
   "source": [
    "### 4. Entegrasyon (`scipy.integrate`)"
   ]
  },
  {
   "cell_type": "code",
   "execution_count": 1,
   "metadata": {},
   "outputs": [
    {
     "name": "stdout",
     "output_type": "stream",
     "text": [
      "İntegral Sonucu: 0.33333333333333337\n",
      "Tahmini Hata: 3.700743415417189e-15\n"
     ]
    }
   ],
   "source": [
    "from scipy.integrate import quad\n",
    "\n",
    "# Entegralini almak istediğimiz fonksiyon\n",
    "def f(x):\n",
    "    return x**2\n",
    "\n",
    "# Fonksiyonun 0'dan 1'e kadar belirli integralini hesaplama\n",
    "result, error = quad(f, 0, 1)\n",
    "\n",
    "print(f\"İntegral Sonucu: {result}\")\n",
    "print(f\"Tahmini Hata: {error}\")"
   ]
  }
 ],
 "metadata": {
  "kernelspec": {
   "display_name": "base",
   "language": "python",
   "name": "python3"
  },
  "language_info": {
   "codemirror_mode": {
    "name": "ipython",
    "version": 3
   },
   "file_extension": ".py",
   "mimetype": "text/x-python",
   "name": "python",
   "nbconvert_exporter": "python",
   "pygments_lexer": "ipython3",
   "version": "3.12.7"
  }
 },
 "nbformat": 4,
 "nbformat_minor": 4
}
