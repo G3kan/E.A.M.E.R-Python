{
 "cells": [
  {
   "cell_type": "markdown",
   "metadata": {},
   "source": [
    "# `pandas.cut` ile Veri Aralıklama (Binning)\n",
    "\n",
    "Bu notebook, `pd.cut` fonksiyonunun kullanımını detaylı bir şekilde açıklamaktadır."
   ]
  },
  {
   "cell_type": "code",
   "execution_count": null,
   "metadata": {},
   "outputs": [],
   "source": [
    "import pandas as pd\n",
    "import numpy as np\n",
    "\n",
    "# Örnek veri seti\n",
    "np.random.seed(42)\n",
    "data = {\n",
    "    'ogrenci_id': range(1, 101),\n",
    "    'puan': np.random.randint(45, 101, 100)\n",
    "}\n",
    "df = pd.DataFrame(data)\n",
    "display(df.head())"
   ]
  },
  {
   "cell_type": "markdown",
   "metadata": {},
   "source": [
    "### Senaryo 1: Eşit Genişlikli 4 Aralık Oluşturma\n",
    "\n",
    "Pandas'ın aralıkları otomatik olarak hesaplamasına izin verelim."
   ]
  },
  {
   "cell_type": "code",
   "execution_count": null,
   "metadata": {},
   "outputs": [],
   "source": [
    "df['puan_araligi_auto'] = pd.cut(df['puan'], bins=4)\n",
    "print(\"Otomatik Belirlenen 4 Eşit Genişlikli Aralık:\")\n",
    "display(df.head())\n",
    "print(\"\n",
    "Oluşturulan Kategoriler ve Frekansları:\")\n",
    "display(df['puan_araligi_auto'].value_counts().sort_index())"
   ]
  },
  {
   "cell_type": "markdown",
   "metadata": {},
   "source": [
    "### Senaryo 2: Özel Aralık Sınırları ve Etiketler Belirleme\n",
    "\n",
    "En yaygın kullanım şekli, aralık sınırlarını ve bu aralıklara verilecek etiketleri manuel olarak tanımlamaktır."
   ]
  },
  {
   "cell_type": "code",
   "execution_count": null,
   "metadata": {},
   "outputs": [],
   "source": [
    "# Puanları harf notlarına çevirelim\n",
    "# Sınırları tanımlayalım: 0-49 (F), 50-69 (D), 70-84 (C), 85-100 (A)\n",
    "bin_edges = [0, 49, 69, 84, 100]\n",
    "bin_labels = ['F - Zayıf', 'D - Geçer', 'C - Orta', 'A - İyi']\n",
    "\n",
    "df['harf_notu'] = pd.cut(\n",
    "    df['puan'], \n",
    "    bins=bin_edges, \n",
    "    labels=bin_labels, \n",
    "    include_lowest=True, # En düşük değeri (0) dahil et\n",
    "    right=True # Sağdaki sınırı dahil et (örn: (69, 84])\n",
    ")\n",
    "\n",
    "print(\"Puanlara göre özel olarak belirlenmiş harf notları:\")\n",
    "display(df.head(10))\n",
    "\n",
    "print(\"\n",
    "Harf Notu Dağılımı:\")\n",
    "display(df['harf_notu'].value_counts().sort_index())"
   ]
  }
 ],
 "metadata": {
  "kernelspec": {
   "display_name": "Python 3",
   "language": "python",
   "name": "python3"
  },
  "language_info": {
   "name": "python"
  }
 },
 "nbformat": 4,
 "nbformat_minor": 2
}
