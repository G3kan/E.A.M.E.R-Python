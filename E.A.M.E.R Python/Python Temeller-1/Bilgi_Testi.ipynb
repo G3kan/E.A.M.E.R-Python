{
 "cells": [
  {
   "cell_type": "markdown",
   "metadata": {},
   "source": [
    "# Python Temelleri - Bilgi Testi\n",
    "\n",
    "Bu test, `Python Temeller-1` klasöründeki notlarda öğrenilen konuları pekiştirmek için hazırlanmıştır. Her sorunun altındaki kod hücresine cevabınızı yazarak kendinizi test edebilirsiniz."
   ]
  },
  {
   "cell_type": "markdown",
   "metadata": {},
   "source": [
    "---"
   ]
  },
  {
   "cell_type": "markdown",
   "metadata": {},
   "source": [
    "### Bölüm 1: Değişkenler ve Veri Tipleri"
   ]
  },
  {
   "cell_type": "markdown",
   "metadata": {},
   "source": [
    "**Soru 1:** Adınızı bir `ad` değişkenine, yaşınızı ise bir `yas` değişkenine atayın. Sonra bu iki değişkenin tiplerini `type()` fonksiyonu ile ekrana yazdırın."
   ]
  },
  {
   "cell_type": "code",
   "execution_count": null,
   "metadata": {},
   "outputs": [],
   "source": [
    "# Cevabınızı buraya yazın"
   ]
  },
  {
   "cell_type": "markdown",
   "metadata": {},
   "source": [
    "**Soru 2:** `sayi_str = \"125\"` değişkenini integer (tam sayı) tipine dönüştürün ve `sayi_int` adlı yeni bir değişkene atayın. Sonucun tipini yazdırın."
   ]
  },
  {
   "cell_type": "code",
   "execution_count": null,
   "metadata": {},
   "outputs": [],
   "source": [
    "# Cevabınızı buraya yazın"
   ]
  },
  {
   "cell_type": "markdown",
   "metadata": {},
   "source": [
    "---"
   ]
  },
  {
   "cell_type": "markdown",
   "metadata": {},
   "source": [
    "### Bölüm 2: String Methodları"
   ]
  },
  {
   "cell_type": "markdown",
   "metadata": {},
   "source": [
    "**Soru 3:** `metin = \"  python öğreniyorum  \"` değişkenindeki baş ve sondaki boşlukları temizleyin ve tüm harfleri büyük yapın. Sonucu ekrana yazdırın."
   ]
  },
  {
   "cell_type": "code",
   "execution_count": null,
   "metadata": {},
   "outputs": [],
   "source": [
    "# Cevabınızı buraya yazın"
   ]
  },
  {
   "cell_type": "markdown",
   "metadata": {},
   "source": [
    "**Soru 4:** `cumle = \"Bugün hava çok güzel\"` cümlesini boşluk karakterine göre ayırarak bir kelime listesi oluşturun."
   ]
  },
  {
   "cell_type": "code",
   "execution_count": null,
   "metadata": {},
   "outputs": [],
   "source": [
    "# Cevabınızı buraya yazın"
   ]
  },
  {
   "cell_type": "markdown",
   "metadata": {},
   "source": [
    "---"
   ]
  },
  {
   "cell_type": "markdown",
   "metadata": {},
   "source": [
    "### Bölüm 3: Veri Yapıları"
   ]
  },
  {
   "cell_type": "markdown",
   "metadata": {},
   "source": [
    "**Soru 5 (Liste):** `sayilar = [10, 20, 30, 40, 50]` listesinin sonuna `60` sayısını ekleyin ve 1. indekse `15` sayısını yerleştirin. Listenin son halini yazdırın."
   ]
  },
  {
   "cell_type": "code",
   "execution_count": null,
   "metadata": {},
   "outputs": [],
   "source": [
    "# Cevabınızı buraya yazın"
   ]
  },
  {
   "cell_type": "markdown",
   "metadata": {},
   "source": [
    "**Soru 6 (Liste):** Yukarıdaki `sayilar` listesinin son elemanını `pop()` metodu ile listeden çıkarın ve listenin son halini yazdırın."
   ]
  },
  {
   "cell_type": "code",
   "execution_count": null,
   "metadata": {},
   "outputs": [],
   "source": [
    "# Cevabınızı buraya yazın"
   ]
  },
  {
   "cell_type": "markdown",
   "metadata": {},
   "source": [
    "**Soru 7 (Tuple):** Bir tuple'ın bir listeden temel farkı nedir? Kısaca açıklayın."
   ]
  },
  {
   "cell_type": "markdown",
   "metadata": {},
   "source": [
    "Cevap: ..."
   ]
  },
  {
   "cell_type": "markdown",
   "metadata": {},
   "source": [
    "**Soru 8 (Set):** `liste_tekrarli = [1, 2, 2, 3, 4, 4, 4, 5]` listesindeki tekrar eden elemanları temizlemek için `set` yapısını nasıl kullanırsınız? Sonucu bir liste olarak tekrar yazdırın."
   ]
  },
  {
   "cell_type": "code",
   "execution_count": null,
   "metadata": {},
   "outputs": [],
   "source": [
    "# Cevabınızı buraya yazın"
   ]
  },
  {
   "cell_type": "markdown",
   "metadata": {},
   "source": [
    "**Soru 9 (Set):** `A = {1, 2, 3, 4}` ve `B = {3, 4, 5, 6}` kümelerinin kesişimini (`intersection`) ve birleşimini (`union`) bulun."
   ]
  },
  {
   "cell_type": "code",
   "execution_count": null,
   "metadata": {},
   "outputs": [],
   "source": [
    "# Cevabınızı buraya yazın"
   ]
  },
  {
   "cell_type": "markdown",
   "metadata": {},
   "source": [
    "**Soru 10 (Sözlük):** Bir öğrencinin adını ve numarasını saklamak için `ogrenci` adında bir sözlük oluşturun. `ad` anahtarına 'Ayşe', `numara` anahtarına `123` değerini atayın. Sonra bu sözlüğe `sinif` anahtarı ile `10A` değerini ekleyin."
   ]
  },
  {
   "cell_type": "code",
   "execution_count": null,
   "metadata": {},
   "outputs": [],
   "source": [
    "# Cevabınızı buraya yazın"
   ]
  },
  {
   "cell_type": "markdown",
   "metadata": {},
   "source": [
    "**Soru 11 (Sözlük):** Yukarıdaki `ogrenci` sözlüğünün sadece anahtarlarını (`keys`) ve sadece değerlerini (`values`) ekrana yazdırın."
   ]
  },
  {
   "cell_type": "code",
   "execution_count": null,
   "metadata": {},
   "outputs": [],
   "source": [
    "# Cevabınızı buraya yazın"
   ]
  },
  {
   "cell_type": "markdown",
   "metadata": {},
   "source": [
    "---"
   ]
  },
  {
   "cell_type": "markdown",
   "metadata": {},
   "source": [
    "### Bölüm 4: Kontrol Yapıları ve Döngüler"
   ]
  },
  {
   "cell_type": "markdown",
   "metadata": {},
   "source": [
    "**Soru 12 (if-else):** Bir `sayi` değişkeni tanımlayın. Bu sayının pozitif, negatif veya sıfır olduğunu kontrol eden bir `if-elif-else` bloğu yazın."
   ]
  },
  {
   "cell_type": "code",
   "execution_count": null,
   "metadata": {},
   "outputs": [],
   "source": [
    "sayi = -5\n",
    "# Cevabınızı buraya yazın"
   ]
  },
  {
   "cell_type": "markdown",
   "metadata": {},
   "source": [
    "**Soru 13 (for):** `rakamlar = [1, 2, 3, 4, 5]` listesindeki her bir elemanın karesini alan ve ekrana yazdıran bir `for` döngüsü yazın."
   ]
  },
  {
   "cell_type": "code",
   "execution_count": null,
   "metadata": {},
   "outputs": [],
   "source": [
    "# Cevabınızı buraya yazın"
   ]
  },
  {
   "cell_type": "markdown",
   "metadata": {},
   "source": [
    "**Soru 14 (while):** 1'den 5'e kadar olan sayıları ekrana yazdıran bir `while` döngüsü yazın."
   ]
  },
  {
   "cell_type": "code",
   "execution_count": null,
   "metadata": {},
   "outputs": [],
   "source": [
    "# Cevabınızı buraya yazın"
   ]
  },
  {
   "cell_type": "markdown",
   "metadata": {},
   "source": [
    "---"
   ]
  },
  {
   "cell_type": "markdown",
   "metadata": {},
   "source": [
    "### Bölüm 5: Fonksiyonlar"
   ]
  },
  {
   "cell_type": "markdown",
   "metadata": {},
   "source": [
    "**Soru 15 (def):** Aldığı sayının karesini döndüren `karesini_al` adında bir fonksiyon yazın."
   ]
  },
  {
   "cell_type": "code",
   "execution_count": null,
   "metadata": {},
   "outputs": [],
   "source": [
    "# Cevabınızı buraya yazın"
   ]
  },
  {
   "cell_type": "markdown",
   "metadata": {},
   "source": [
    "**Soru 16 (lambda):** Aldığı iki sayıyı çarpan bir `lambda` fonksiyonu yazın ve `carpma` adlı bir değişkene atayın. `carpma(5, 6)` işleminin sonucunu yazdırın."
   ]
  },
  {
   "cell_type": "code",
   "execution_count": null,
   "metadata": {},
   "outputs": [],
   "source": [
    "# Cevabınızı buraya yazın"
   ]
  }
 ],
 "metadata": {
  "kernelspec": {
   "display_name": "Python 3",
   "language": "python",
   "name": "python3"
  },
  "language_info": {
   "codemirror_mode": {
    "name": "ipython",
    "version": 3
   },
   "file_extension": ".py",
   "mimetype": "text/x-python",
   "name": "python",
   "nbconvert_exporter": "python",
   "pygments_lexer": "ipython3",
   "version": "3.10.12"
  }
 },
 "nbformat": 4,
 "nbformat_minor": 4
}