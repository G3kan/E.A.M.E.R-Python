{
 "cells": [
  {
   "cell_type": "markdown",
   "id": "2220131b",
   "metadata": {},
   "source": [
    "4-Sözlükler (Dictionary)\n",
    "\n",
    "Anahtar (key) ve Değer (value) çiftlerinden oluşan yapılardır.\n",
    "\n",
    "Sırasız ve değiştirilebilirler.\n",
    "\n",
    "Süslü parantez { } kullanılır.\n",
    "\n",
    "Her anahtar benzersiz (unique) olmalıdır."
   ]
  },
  {
   "cell_type": "code",
   "execution_count": 2,
   "id": "e9719a07",
   "metadata": {},
   "outputs": [
    {
     "name": "stdout",
     "output_type": "stream",
     "text": [
      "{'ad': 'Ali', 'yas': 25, 'sehir': 'Ankara'}\n"
     ]
    }
   ],
   "source": [
    "#Bir sözlük tanımlama\n",
    "kisiler = {\n",
    "\"ad\": \"Ali\",\n",
    "\"yas\": 25,\n",
    "\"sehir\": \"Ankara\"\n",
    "}\n",
    "\n",
    "print(kisiler)"
   ]
  },
  {
   "cell_type": "code",
   "execution_count": 4,
   "id": "c4a1605f",
   "metadata": {},
   "outputs": [
    {
     "data": {
      "text/plain": [
       "dict"
      ]
     },
     "execution_count": 4,
     "metadata": {},
     "output_type": "execute_result"
    }
   ],
   "source": [
    "type(kisiler)"
   ]
  },
  {
   "cell_type": "code",
   "execution_count": null,
   "id": "1f625d52",
   "metadata": {},
   "outputs": [],
   "source": [
    "\n",
    "#Sözlük Elemanlarına Erişim\n",
    "#Anahtarlar üzerinden erişim sağlanır.\n",
    "\n",
    "print(kisiler[\"ad\"]) # 'Ali'\n",
    "print(kisiler.get(\"yas\")) # 25"
   ]
  },
  {
   "cell_type": "code",
   "execution_count": 3,
   "id": "1ca14102",
   "metadata": {},
   "outputs": [
    {
     "name": "stdout",
     "output_type": "stream",
     "text": [
      "None\n"
     ]
    }
   ],
   "source": [
    "#Anahtar yoksa get() None döndürür, [] hata verir\n",
    "print(kisiler.get(\"meslek\")) # None"
   ]
  },
  {
   "cell_type": "code",
   "execution_count": null,
   "id": "6a10c445",
   "metadata": {},
   "outputs": [],
   "source": [
    "#Eleman Ekleme ve Değiştirme\n",
    "#Anahtar varsa değeri değiştirir, yoksa yeni anahtar-değer ekler.\n",
    "\n",
    "kisiler[\"meslek\"] = \"Mühendis\" # Yeni anahtar-değer ekleme\n",
    "kisiler[\"yas\"] = 26 # Var olan değeri değiştirme\n",
    "print(kisiler)"
   ]
  },
  {
   "cell_type": "markdown",
   "id": "c080ef22",
   "metadata": {},
   "source": [
    "Sözlükte Sık Kullanılan Methodlar\n",
    "- keys() : Tüm anahtarları döndürür.\n",
    "- values() : Tüm değerleri döndürür.\n",
    "- items() : Tüm anahtar-değer çiftlerini döndürür.\n",
    "- update() : Başka bir sözlükle günceller.\n",
    "- pop(key) : Belirtilen anahtarı siler ve değerini döndürür.\n",
    "- clear() : Tüm elemanları siler.\n",
    "- copy() : Kopyasını oluşturur."
   ]
  },
  {
   "cell_type": "code",
   "execution_count": null,
   "id": "e8ca25f5",
   "metadata": {},
   "outputs": [],
   "source": [
    "print(kisiler.keys()) # dict_keys(['ad', 'yas', 'sehir', 'meslek'])\n",
    "print(kisiler.values()) # dict_values(['Ali', 26, 'Ankara', 'Mühendis'])\n",
    "print(kisiler.items()) # dict_items([('ad', 'Ali'), ('yas', 26), ('sehir', 'Ankara'), ('meslek', 'Mühendis')])\n",
    "\n",
    "\n",
    "#pop kullanımı\n",
    "yas = kisiler.pop(\"yas\")\n",
    "print(yas) # 26\n",
    "print(kisiler) # 'yas' anahtarı silinmiş hali\n"
   ]
  },
  {
   "cell_type": "markdown",
   "id": "8b67f599",
   "metadata": {},
   "source": [
    "Aşağıdaki görevi yapınız:"
   ]
  },
  {
   "cell_type": "markdown",
   "id": "8c557648",
   "metadata": {},
   "source": [
    "Boş bir sözlük oluştur\n",
    "'ad' anahtarına 'Zeynep' değerini ekle\n",
    "'sehir' anahtarına 'İzmir' değerini ekle\n",
    "keys() ve values() ile yazdır\n"
   ]
  },
  {
   "cell_type": "code",
   "execution_count": null,
   "id": "8e1c6834",
   "metadata": {},
   "outputs": [],
   "source": [
    "#Yukarıdaki görev için kodunuzu buraya yazabilirsiniz."
   ]
  }
 ],
 "metadata": {
  "kernelspec": {
   "display_name": "base",
   "language": "python",
   "name": "python3"
  },
  "language_info": {
   "codemirror_mode": {
    "name": "ipython",
    "version": 3
   },
   "file_extension": ".py",
   "mimetype": "text/x-python",
   "name": "python",
   "nbconvert_exporter": "python",
   "pygments_lexer": "ipython3",
   "version": "3.12.7"
  }
 },
 "nbformat": 4,
 "nbformat_minor": 5
}
