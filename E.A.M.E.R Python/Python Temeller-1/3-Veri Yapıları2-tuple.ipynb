{
 "cells": [
  {
   "cell_type": "markdown",
   "id": "7fcba06a",
   "metadata": {},
   "source": [
    "Demetler (Tuple)\n",
    "Sıralıdır.\n",
    "\n",
    "Değiştirilemez (immutable) — Sonradan eleman eklenemez, çıkarılamaz.\n",
    "\n",
    "Parantez ( ) kullanılır.\n",
    "\n",
    "Farklı veri tipleri içerebilir.\n",
    "\n",
    "İndekslenebilir ve dilimlenebilir."
   ]
  },
  {
   "cell_type": "code",
   "execution_count": null,
   "id": "baf72e01",
   "metadata": {},
   "outputs": [],
   "source": [
    "# Tuple oluşturma\n",
    "meyveler = (\"elma\", \"armut\", \"kiraz\")\n",
    "print(meyveler)"
   ]
  },
  {
   "cell_type": "code",
   "execution_count": null,
   "id": "d7880cf2",
   "metadata": {},
   "outputs": [],
   "source": [
    "#Tek elemanlı tuple tanımlarken virgül kullanılır!\n",
    "tekli = (\"muz\",)\n",
    "print(tekli)\n",
    "print(type(tekli))  # <class 'tuple'>"
   ]
  },
  {
   "cell_type": "code",
   "execution_count": null,
   "id": "6b5fba48",
   "metadata": {},
   "outputs": [],
   "source": [
    "print(meyveler[0])    # 'elma'\n",
    "print(meyveler[-1])   # 'kiraz'\n",
    "print(meyveler[0:2])  # ('elma', 'armut')"
   ]
  },
  {
   "cell_type": "markdown",
   "id": "bc3ebbd1",
   "metadata": {},
   "source": [
    "Tuple’da Sık Kullanılan Methodlar\n",
    "count(x) : Verilen elemandan kaç tane var\n",
    "\n",
    "index(x) : Elemanın indeksini verir"
   ]
  },
  {
   "cell_type": "code",
   "execution_count": null,
   "id": "84ce8884",
   "metadata": {},
   "outputs": [],
   "source": [
    "sayilar = (1, 2, 3, 2, 4, 2)\n",
    "\n",
    "print(sayilar.count(2))  # 3 kez var\n",
    "print(sayilar.index(3))  # 3 sayısının indeksi = 2\n"
   ]
  },
  {
   "cell_type": "markdown",
   "id": "f027be77",
   "metadata": {},
   "source": [
    "Demetlerde Kullanım Alanları:\n",
    "Sabit veri koleksiyonları\n",
    "\n",
    "Fonksiyonlardan birden fazla değer döndürme\n",
    "\n",
    "İmmutable olduğu için veri bütünlüğü sağlama"
   ]
  }
 ],
 "metadata": {
  "kernelspec": {
   "display_name": "base",
   "language": "python",
   "name": "python3"
  },
  "language_info": {
   "codemirror_mode": {
    "name": "ipython",
    "version": 3
   },
   "file_extension": ".py",
   "mimetype": "text/x-python",
   "name": "python",
   "nbconvert_exporter": "python",
   "pygments_lexer": "ipython3",
   "version": "3.12.7"
  }
 },
 "nbformat": 4,
 "nbformat_minor": 5
}
