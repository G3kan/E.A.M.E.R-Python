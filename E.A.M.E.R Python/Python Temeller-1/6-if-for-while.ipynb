{
 "cells": [
  {
   "cell_type": "markdown",
   "id": "bec8f3a7",
   "metadata": {},
   "source": [
    "Python'da temel kontrol ve döngü yapıları olarak genellikle if, for ve while kullanılır."
   ]
  },
  {
   "cell_type": "markdown",
   "id": "c7bd8f88",
   "metadata": {},
   "source": [
    "ilk if kontrolü yapılır.\n",
    "\n",
    "Eğer koşul sağlanmazsa sıradaki elif kontrol edilir.\n",
    "\n",
    "Hiçbiri sağlanmazsa else bloğu çalışır."
   ]
  },
  {
   "cell_type": "code",
   "execution_count": 3,
   "id": "accf5514",
   "metadata": {},
   "outputs": [
    {
     "name": "stdout",
     "output_type": "stream",
     "text": [
      "Sayı 10 veya daha büyüktür.\n"
     ]
    }
   ],
   "source": [
    "sayi = 10\n",
    "\n",
    "if sayi < 0:   # Negatif sayılar için kontrol\n",
    "    print(\"Sayı negatiftir.\")\n",
    "elif sayi == 0: # Sıfır için kontrol\n",
    "    print(\"Sayı sıfıra eşittir.\")\n",
    "elif sayi < 10: # 0 ile 10 arasındaki sayılar için kontrol\n",
    "    print(\"Sayı 0 ile 10 arasında.\")\n",
    "else: # 10 ve üzerindeki sayılar için kontrol\n",
    "    print(\"Sayı 10 veya daha büyüktür.\")\n"
   ]
  },
  {
   "cell_type": "markdown",
   "id": "fff5185e",
   "metadata": {},
   "source": [
    "for Döngüsü\n",
    "\n",
    "Amaç:\n",
    "\n",
    "Bir liste, dizi veya herhangi yinelenebilir (iterable) veri yapısı üzerinde elemanları tek tek gezmek için \n",
    "\n",
    "kullanılır.\n",
    "\n"
   ]
  },
  {
   "cell_type": "code",
   "execution_count": 2,
   "id": "d35a053d",
   "metadata": {},
   "outputs": [
    {
     "name": "stdout",
     "output_type": "stream",
     "text": [
      "elma\n",
      "armut\n",
      "muz\n"
     ]
    }
   ],
   "source": [
    "meyveler = [\"elma\", \"armut\", \"muz\"]\n",
    "\n",
    "for meyve in meyveler:\n",
    "    print(meyve)"
   ]
  },
  {
   "cell_type": "code",
   "execution_count": null,
   "id": "dc26f0e7",
   "metadata": {},
   "outputs": [],
   "source": [
    "#meyveler listesindeki her bir eleman sırasıyla meyve değişkenine atanır.\n",
    "#Döngü bloğu (print) her eleman için çalışır."
   ]
  },
  {
   "cell_type": "markdown",
   "id": "32f4bb67",
   "metadata": {},
   "source": [
    "while Döngüsü\n",
    "\n",
    "Amaç:\n",
    "\n",
    "Koşul doğru olduğu sürece tekrar eden döngü oluşturmak için kullanılır.\n",
    "\n",
    "Kullanımı:"
   ]
  },
  {
   "cell_type": "code",
   "execution_count": 1,
   "id": "fa77b94d",
   "metadata": {},
   "outputs": [
    {
     "name": "stdout",
     "output_type": "stream",
     "text": [
      "0\n",
      "1\n",
      "2\n",
      "3\n",
      "4\n"
     ]
    }
   ],
   "source": [
    "sayac = 0\n",
    "\n",
    "while sayac < 5:\n",
    "    print(sayac)\n",
    "    sayac = sayac+1  # sayacı her adımda 1 arttır\n"
   ]
  }
 ],
 "metadata": {
  "kernelspec": {
   "display_name": "base",
   "language": "python",
   "name": "python3"
  },
  "language_info": {
   "codemirror_mode": {
    "name": "ipython",
    "version": 3
   },
   "file_extension": ".py",
   "mimetype": "text/x-python",
   "name": "python",
   "nbconvert_exporter": "python",
   "pygments_lexer": "ipython3",
   "version": "3.12.7"
  }
 },
 "nbformat": 4,
 "nbformat_minor": 5
}
