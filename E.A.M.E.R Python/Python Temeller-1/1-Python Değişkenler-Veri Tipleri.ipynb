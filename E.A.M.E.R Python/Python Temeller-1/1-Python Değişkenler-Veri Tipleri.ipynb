{
 "cells": [
  {
   "cell_type": "markdown",
   "id": "fdd77045",
   "metadata": {},
   "source": [
    "Jupyter Notebook, interaktif bir şekilde kod yazmayi, \n",
    "çaliştirmayi ve sonuçlari aninda görmeyi sağlayan bir uygulamadir. \n",
    "Kullanicilar, hücreler halinde kod, metin (Markdown), görsel ve grafik ekleyebilirler. \n",
    "Özellikle veri bilimi, makine öğrenmesi ve analiz çalişmalarinda yaygin olarak kullanilir. \n",
    "Kod hücreleri Python gibi dilleri desteklerken, \n",
    "Markdown hücreleriyle açiklamalar ve dökümantasyon eklemek mümkündür."
   ]
  },
  {
   "cell_type": "code",
   "execution_count": 4,
   "id": "f5c5c1e2",
   "metadata": {},
   "outputs": [
    {
     "name": "stdout",
     "output_type": "stream",
     "text": [
      "Merhaba Dünya\n"
     ]
    }
   ],
   "source": [
    "print(\"Merhaba Dünya\")"
   ]
  },
  {
   "cell_type": "markdown",
   "id": "f87252ca",
   "metadata": {},
   "source": [
    "Python Temelleri: Değişkenler ve Veri Tipleri\n",
    "\n",
    "1️⃣ Değişkenler Nedir?\n",
    "\n",
    "Bir değişken, veriyi saklamak için kullanılan isimlendirilmiş bir alandır.\n",
    "\n",
    "Örnek:\n"
   ]
  },
  {
   "cell_type": "code",
   "execution_count": 3,
   "id": "11861311",
   "metadata": {},
   "outputs": [],
   "source": [
    "x = 5\n",
    "isim = \"Ahmet\" # string"
   ]
  },
  {
   "cell_type": "markdown",
   "id": "f3c2ee70",
   "metadata": {},
   "source": [
    "Temel Veri Tipleri\n",
    "🔹 Sayılar (int, float, complex)"
   ]
  },
  {
   "cell_type": "code",
   "execution_count": null,
   "id": "81f52535",
   "metadata": {},
   "outputs": [],
   "source": [
    "sayi1 = 10       # int (tam sayı)\n",
    "sayi2 = 3.14     # float (ondalıklı sayı)\n",
    "sayi3 = 2 + 3j   # complex (karmaşık sayı)"
   ]
  },
  {
   "cell_type": "markdown",
   "id": "ee2fd420",
   "metadata": {},
   "source": [
    " Metinler (str)"
   ]
  },
  {
   "cell_type": "code",
   "execution_count": 2,
   "id": "d59f5a8b",
   "metadata": {},
   "outputs": [],
   "source": [
    "isim = \"Zeynep\"\n",
    "mesaj = 'Merhaba, Dünya!'"
   ]
  },
  {
   "cell_type": "markdown",
   "id": "eeaa2f84",
   "metadata": {},
   "source": [
    "Boolean (bool)"
   ]
  },
  {
   "cell_type": "code",
   "execution_count": null,
   "id": "ae4ad872",
   "metadata": {},
   "outputs": [],
   "source": [
    "dogru = True\n",
    "yanlis = False"
   ]
  },
  {
   "cell_type": "code",
   "execution_count": null,
   "id": "089093c7",
   "metadata": {},
   "outputs": [],
   "source": [
    "x=True\n",
    "z=x+1\n",
    "print(z)  # 2\n",
    "k=100\n",
    "l=False\n",
    "print(k*l) # 0"
   ]
  },
  {
   "cell_type": "markdown",
   "id": "db18deb3",
   "metadata": {},
   "source": [
    "Sayısal Veri Tipleri:\n",
    "\n",
    "int (tam sayı) ve float (ondalıklı sayı) tanıtımı.\n",
    "\n",
    "Temel aritmetik işlemler: +, -, *, /, ** (üssü), % (mod alma).\n",
    "\n",
    "type() fonksiyonu ile veri tipini kontrol etme."
   ]
  },
  {
   "cell_type": "code",
   "execution_count": 5,
   "id": "a0254cc2",
   "metadata": {},
   "outputs": [
    {
     "name": "stdout",
     "output_type": "stream",
     "text": [
      "13.5\n",
      "<class 'float'>\n"
     ]
    }
   ],
   "source": [
    "sayi1 = 10\n",
    "sayi2 = 3.5\n",
    "toplam = sayi1 + sayi2\n",
    "print(toplam)\n",
    "print(type(toplam))"
   ]
  },
  {
   "cell_type": "markdown",
   "id": "976706f0",
   "metadata": {},
   "source": [
    "Metin Veri Tipi (String):\n",
    "\n",
    "Tek tırnak (' ') veya çift tırnak (\" \") ile string tanımlama.\n",
    "\n",
    "String birleştirme (concatenation).\n",
    "\n",
    "String uzunluğunu bulma (len()).\n"
   ]
  },
  {
   "cell_type": "code",
   "execution_count": 6,
   "id": "08138c38",
   "metadata": {},
   "outputs": [
    {
     "name": "stdout",
     "output_type": "stream",
     "text": [
      "Python öğrenmek çok eğlenceli! Hadi başlayalım!\n",
      "30\n"
     ]
    }
   ],
   "source": [
    "mesaj = \"Python öğrenmek çok eğlenceli!\"\n",
    "print(mesaj + \" Hadi başlayalım!\")\n",
    "print(len(mesaj))"
   ]
  },
  {
   "cell_type": "markdown",
   "id": "3371196c",
   "metadata": {},
   "source": [
    "Boole Veri Tipi:\n",
    "\n",
    "True ve False değerleri.\n",
    "\n",
    "eşit değildir operatörü: !=\n",
    "\n",
    "eşittir operatörü      : ==\n",
    "\n",
    "Karşılaştırma operatörleri: >, <, >=, <="
   ]
  },
  {
   "cell_type": "code",
   "execution_count": null,
   "id": "5cd32198",
   "metadata": {},
   "outputs": [
    {
     "name": "stdout",
     "output_type": "stream",
     "text": [
      "True\n",
      "False\n",
      "True\n"
     ]
    }
   ],
   "source": [
    "x = 5\n",
    "y = 10\n",
    "print(x < y)\n",
    "print(x == y)\n",
    "print(x != y)"
   ]
  },
  {
   "cell_type": "markdown",
   "id": "32925e6a",
   "metadata": {},
   "source": [
    "Veri yapılarını Dönüştüre bilirsiniz"
   ]
  },
  {
   "cell_type": "code",
   "execution_count": null,
   "id": "67f0de5e",
   "metadata": {},
   "outputs": [
    {
     "data": {
      "text/plain": [
       "3.14"
      ]
     },
     "execution_count": 9,
     "metadata": {},
     "output_type": "execute_result"
    }
   ],
   "source": [
    "str(123)      # '123'\n",
    "int(\"456\")   # 456\n",
    "list(\"abc\")  # ['a', 'b', 'c']\n",
    "float(\"3.14\")  # 3.14"
   ]
  },
  {
   "cell_type": "markdown",
   "id": "e843c45b",
   "metadata": {},
   "source": [
    "Method nedir?\n",
    "\n",
    "Method, bir nesne üzerinde işlem yapmamızı sağlayan fonksiyonlardır.\n",
    "\n",
    "Fonsiyon nedir?\n",
    "\n",
    "Fonksiyon, belirli bir görevi yerine getiren kod bloklarıdır.\n",
    "\n",
    "Methodlar, nesneye özgü işlemler yapar.\n",
    "\n",
    "x.aa() → Method çağrısı (obje üzerinden)\n",
    "\n",
    "aa(x) → Fonksiyon çağrısı (obje parametre olarak gider)\n"
   ]
  },
  {
   "cell_type": "markdown",
   "id": "a5c00f18",
   "metadata": {},
   "source": [
    "String (Metin) Methodları\n",
    "\n",
    "Python'da string (str) veri tipine ait birçok kullanışlı method vardır. Bunlar, metinler üzerinde işlem yapmamızı sağlar.\n",
    "\n",
    "Bazı yaygın string methodları:\n",
    "\n",
    "- `upper()` : Tüm harfleri büyük yapar.\n",
    "- `lower()` : Tüm harfleri küçük yapar.\n",
    "- `title()` : Her kelimenin ilk harfini büyük yapar.\n",
    "- `capitalize()` : Sadece ilk harfi büyük yapar.\n",
    "- `strip()` : Başındaki ve sonundaki boşlukları siler.\n",
    "- `replace(eski, yeni)` : Belirtilen karakteri/değeri yenisiyle değiştirir.\n",
    "- `split(ayraç)` : Ayraç karakterine göre metni böler, liste döner.\n",
    "- `find(alt_metin)` : Alt metnin ilk bulunduğu indeksi döner, yoksa -1 döner.\n",
    "- `count(alt_metin)` : Alt metnin kaç kez geçtiğini döner.\n",
    "\n",
    "Örnekler:\n",
    "````python\n"
   ]
  },
  {
   "cell_type": "code",
   "execution_count": null,
   "id": "90730eba",
   "metadata": {},
   "outputs": [],
   "source": [
    "metin = \"  Python Programlama  \"\n",
    "print(metin.upper())      # '  PYTHON PROGRAMLAMA  ' hepsini büyük yapar\n",
    "print(metin.lower())      # '  python programlama  ' hepsini küçük yapar\n",
    "print(metin.title())      # '  Python Programlama  ' ilk harfleri büyük yapar\n",
    "print(metin.strip())      # 'Python Programlama'   # baştaki ve sondaki boşlukları siler\n",
    "print(metin.replace(\"Python\", \"Java\"))  # '  Java Programlama  ' # 'Python' kelimesini 'Java' ile değiştirir\n",
    "print(metin.split())      # ['Python', 'Programlama'] # boşluklara göre böler\n",
    "\n",
    "print(metin.find(\"Pro\"))  # 9 # 'Pro' kelimesinin başlangıç indeksini döner \n",
    "print(metin.startswith(\"  Python\"))  # True # metin '  Python' ile başlıyorsa True döner"
   ]
  },
  {
   "cell_type": "markdown",
   "id": "a4fceed8",
   "metadata": {},
   "source": [
    "Bazı Integer (Tam Sayı) Methodları ve Fonksiyonları\n",
    "\n",
    "Python'da integer (int) veri tipi için doğrudan methodlar azdır.\n",
    "\n",
    "- `bit_length()` : Sayının ikilik (binary) gösteriminde kaç bitten oluştuğunu döner.\n",
    "- `to_bytes(length, byteorder)` : Sayıyı baytlara çevirir.\n"
   ]
  },
  {
   "cell_type": "code",
   "execution_count": null,
   "id": "2fe701bd",
   "metadata": {},
   "outputs": [
    {
     "name": "stdout",
     "output_type": "stream",
     "text": [
      "6\n"
     ]
    }
   ],
   "source": [
    "\n",
    "sayi = 42\n",
    "print(sayi.bit_length())      # 6\n"
   ]
  }
 ],
 "metadata": {
  "kernelspec": {
   "display_name": "base",
   "language": "python",
   "name": "python3"
  },
  "language_info": {
   "codemirror_mode": {
    "name": "ipython",
    "version": 3
   },
   "file_extension": ".py",
   "mimetype": "text/x-python",
   "name": "python",
   "nbconvert_exporter": "python",
   "pygments_lexer": "ipython3",
   "version": "3.12.7"
  }
 },
 "nbformat": 4,
 "nbformat_minor": 5
}
