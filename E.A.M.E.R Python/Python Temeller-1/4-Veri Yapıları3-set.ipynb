{
 "cells": [
  {
   "cell_type": "markdown",
   "id": "c82bda8a",
   "metadata": {},
   "source": [
    "3-Kümeler (Set)\n",
    "Kümeler sırasız, benzersiz (unique) elemanlardan oluşan koleksiyonlardır.\n",
    "\n",
    "Süslü parantez {} veya set() fonksiyonu ile tanımlanır.\n",
    "\n",
    "Aynı eleman birden fazla kez eklenemez."
   ]
  },
  {
   "cell_type": "code",
   "execution_count": 2,
   "id": "f0a6d825",
   "metadata": {},
   "outputs": [
    {
     "name": "stdout",
     "output_type": "stream",
     "text": [
      "{'elma', 'kiraz', 'armut'}\n"
     ]
    }
   ],
   "source": [
    "#Bir küme tanımlama\n",
    "meyveler = {\"elma\", \"armut\", \"kiraz\"}\n",
    "print(meyveler)\n"
   ]
  },
  {
   "cell_type": "markdown",
   "id": "c31daa74",
   "metadata": {},
   "source": [
    "Kümeye Eleman Ekleme ve Kaldırma\n",
    "add(x) : Kümeye eleman ekler.\n",
    "\n",
    "remove(x) : Elemanı siler, yoksa hata verir.\n",
    "\n",
    "discard(x) : Elemanı siler, yoksa hata vermez.\n",
    "\n",
    "pop() : Rastgele bir elemanı çıkarır.\n",
    "\n",
    "clear() : Tüm elemanları siler."
   ]
  },
  {
   "cell_type": "code",
   "execution_count": null,
   "id": "5611d588",
   "metadata": {},
   "outputs": [
    {
     "name": "stdout",
     "output_type": "stream",
     "text": [
      "{'muz', 'kiraz'}\n"
     ]
    }
   ],
   "source": [
    "meyveler.add(\"muz\")     # Yeni eleman ekler\n",
    "meyveler.discard(\"elma\") # 'elma' varsa siler\n",
    "meyveler.remove(\"armut\") # 'armut' siler (yoksa hata verir)\n",
    "meyveler.pop()          # Rastgele bir eleman siler\n",
    "print(meyveler)\n",
    "meyveler.clear()       # Tüm elemanları siler\n",
    "print(meyveler)         # Boş küme\n"
   ]
  },
  {
   "cell_type": "markdown",
   "id": "82e15fed",
   "metadata": {},
   "source": [
    "Küme Operasyonları\n",
    "union() veya | : Birleşim (Union)\n",
    "\n",
    "intersection() veya & : Kesişim (Intersection)\n",
    "\n",
    "difference() veya - : Fark (Difference)\n",
    "\n",
    "symmetric_difference() veya ^ : Simetrik Fark"
   ]
  },
  {
   "cell_type": "code",
   "execution_count": null,
   "id": "30618410",
   "metadata": {},
   "outputs": [
    {
     "name": "stdout",
     "output_type": "stream",
     "text": [
      "{1, 2, 3, 4, 5, 6}\n",
      "{3, 4}\n",
      "{1, 2}\n",
      "{1, 2, 5, 6}\n"
     ]
    }
   ],
   "source": [
    "A = {1, 2, 3, 4}\n",
    "B = {3, 4, 5, 6}\n",
    "\n",
    "print(A | B)   # Birleşim: {1, 2, 3, 4, 5, 6}\n",
    "print(A & B)   # Kesişim: {3, 4}\n",
    "print(A - B)   # Fark: {1, 2}\n",
    "print(A ^ B)   # Simetrik Fark: {1, 2, 5, 6}\n"
   ]
  },
  {
   "cell_type": "code",
   "execution_count": null,
   "id": "44b377b5",
   "metadata": {},
   "outputs": [
    {
     "name": "stdout",
     "output_type": "stream",
     "text": [
      "Birleşim (method): {1, 2, 3, 4, 5, 6}\n",
      "Kesişim (method): {3, 4}\n",
      "Fark (method): {1, 2}\n",
      "Simetrik Fark (method): {1, 2, 5, 6}\n"
     ]
    }
   ],
   "source": [
    "# KÜME METHODLARI\n",
    "\n",
    "# Küme oluşturma\n",
    "A = {1, 2, 3, 4}\n",
    "B = {3, 4, 5, 6}\n",
    "\n",
    "# ----------------------------\n",
    "# 1- BİRLEŞİM (UNION)\n",
    "# ----------------------------\n",
    "\n",
    "# Method Kullanımı\n",
    "print(\"Birleşim (method):\", A.union(B))\n",
    "\n",
    "\n",
    "# ----------------------------\n",
    "# 2- KESİŞİM (INTERSECTION)\n",
    "# ----------------------------\n",
    "\n",
    "print(\"Kesişim (method):\", A.intersection(B))\n",
    "\n",
    "# ----------------------------\n",
    "# 3- FARK (DIFFERENCE)\n",
    "# ----------------------------\n",
    "\n",
    "print(\"Fark (method):\", A.difference(B))\n",
    "\n",
    "\n",
    "# ----------------------------\n",
    "# 4- SİMETRİK FARK (SYMMETRIC DIFFERENCE)\n",
    "# ----------------------------\n",
    "\n",
    "print(\"Simetrik Fark (method):\", A.symmetric_difference(B))\n"
   ]
  },
  {
   "cell_type": "markdown",
   "id": "70f3379c",
   "metadata": {},
   "source": [
    "Küme Kullanımı Nerelerde İşe Yarar?\n",
    "Benzersiz elemanlar saklamak için\n",
    "\n",
    "Liste içinde tekrar edenleri ayıklamak için\n",
    "\n",
    "Kümeler arası karşılaştırma yapmak için"
   ]
  },
  {
   "cell_type": "code",
   "execution_count": null,
   "id": "886873ff",
   "metadata": {},
   "outputs": [],
   "source": [
    "liste = [1, 2, 2, 3, 4, 4, 5]\n",
    "benzersiz = set(liste)\n",
    "print(benzersiz)  # {1, 2, 3, 4, 5}\n"
   ]
  },
  {
   "cell_type": "code",
   "execution_count": null,
   "id": "c597b8ee",
   "metadata": {},
   "outputs": [],
   "source": [
    "#İki liste veriliyor. Bu listelerin kesişimini bulup yazdıran bir Python fonksiyonu yaz.\n",
    "liste1 = [1, 2, 3, 4, 5]\n",
    "liste2 = [4, 5, 6, 7]\n"
   ]
  },
  {
   "cell_type": "code",
   "execution_count": null,
   "id": "30b8a54e",
   "metadata": {},
   "outputs": [],
   "source": [
    "#Kodunuzu Buraya Yazın"
   ]
  }
 ],
 "metadata": {
  "kernelspec": {
   "display_name": "base",
   "language": "python",
   "name": "python3"
  },
  "language_info": {
   "codemirror_mode": {
    "name": "ipython",
    "version": 3
   },
   "file_extension": ".py",
   "mimetype": "text/x-python",
   "name": "python",
   "nbconvert_exporter": "python",
   "pygments_lexer": "ipython3",
   "version": "3.12.7"
  }
 },
 "nbformat": 4,
 "nbformat_minor": 5
}
