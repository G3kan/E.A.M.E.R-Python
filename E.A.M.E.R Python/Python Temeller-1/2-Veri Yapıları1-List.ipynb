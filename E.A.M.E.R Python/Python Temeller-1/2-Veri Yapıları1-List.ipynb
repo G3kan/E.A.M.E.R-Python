{
 "cells": [
  {
   "cell_type": "markdown",
   "id": "fdd77045",
   "metadata": {},
   "source": [
    "Python Temel Veri Yapıları\n",
    "\n",
    "Python’da verileri düzenlemek ve yönetmek için kullanılan temel veri yapıları şunlardır: \n",
    "\n",
    "1-Listeler (List)\n",
    "\n",
    "2-Demetler (Tuple)\n",
    "\n",
    "3-Kümeler (Set)\n",
    "\n",
    "4-Sözlükler (Dictionary)\n"
   ]
  },
  {
   "cell_type": "markdown",
   "id": "b0b5082f",
   "metadata": {},
   "source": [
    "---"
   ]
  },
  {
   "cell_type": "markdown",
   "id": "f5c5c1e2",
   "metadata": {},
   "source": [
    "1-Listeler (List)\n",
    "\n",
    "Birden fazla veriyi sıralı ve değiştirilebilir şekilde saklayan yapılardır.\n",
    "\n",
    "Köşeli parantez [ ] kullanılır.\n",
    "\n",
    "İçine her türlü veri tipi konabilir."
   ]
  },
  {
   "cell_type": "code",
   "execution_count": 5,
   "id": "0dc96449",
   "metadata": {},
   "outputs": [
    {
     "name": "stdout",
     "output_type": "stream",
     "text": [
      "['elma', 'armut', 'kiraz']\n"
     ]
    }
   ],
   "source": [
    "meyveler = [\"elma\", \"armut\", \"kiraz\"]\n",
    "print(meyveler) "
   ]
  },
  {
   "cell_type": "markdown",
   "id": "3f4c6d30",
   "metadata": {},
   "source": [
    "Liste Elemanlarına Erişim\n",
    "İndeksler 0’dan başlar.\n",
    "\n",
    "Her elemanın bir sıra numarası (indeks) vardır."
   ]
  },
  {
   "cell_type": "code",
   "execution_count": null,
   "id": "cc945d79",
   "metadata": {},
   "outputs": [],
   "source": [
    "print(meyveler[0])  # 'elma'\n",
    "print(meyveler[2])  # 'kiraz'\n",
    "print(meyveler[-1])  # 'kiraz' (son eleman)\n",
    "print(meyveler[-2])  # 'armut' (sondan ikinci ele\n"
   ]
  },
  {
   "cell_type": "markdown",
   "id": "808d27c0",
   "metadata": {},
   "source": [
    "Listelerde Slicing \n",
    "\n",
    "liste[başlangıç : bitiş : adım]\n"
   ]
  },
  {
   "cell_type": "code",
   "execution_count": null,
   "id": "820805a0",
   "metadata": {},
   "outputs": [],
   "source": [
    "sayilar = [10, 20, 30, 40, 50, 60, 70]\n",
    "\n",
    "# İlk üç eleman\n",
    "print(sayilar[:3])  # [10, 20, 30]\n",
    "\n",
    "# : öncesi boşsa baştan başlar, : sonrası boşsa sona kadar gider. \n",
    "\n",
    "# 2. ve 4. indeksler arası (2 dahil, 4 hariç)\n",
    "print(sayilar[2:4])  # [30, 40]\n",
    "\n",
    "# Son üç eleman\n",
    "print(sayilar[-3:])  # [50, 60, 70]\n",
    "\n",
    "# Baştan sona 2'şer atlayarak\n",
    "print(sayilar[::2])  # [10, 30, 50, 70]\n",
    "\n",
    "print(sayilar[-5:-2]) # [30, 40, 50] (negatif indeks ile)\n",
    "\n",
    "print(sayilar[::-1]) #(ters çevirme)\n"
   ]
  },
  {
   "cell_type": "markdown",
   "id": "f3c2ee70",
   "metadata": {},
   "source": [
    "Sayilar listesinin ilk 5 elemanını listeleyin?"
   ]
  },
  {
   "cell_type": "code",
   "execution_count": null,
   "id": "07e38019",
   "metadata": {},
   "outputs": [],
   "source": [
    "#İlk 5 eleman kodunu buraya yazabilirsiniz"
   ]
  },
  {
   "cell_type": "code",
   "execution_count": null,
   "id": "81f52535",
   "metadata": {},
   "outputs": [],
   "source": [
    "print(type(sayilar))  # <class 'list'> (Liste tipi)"
   ]
  },
  {
   "cell_type": "markdown",
   "id": "ee2fd420",
   "metadata": {},
   "source": [
    "Sting Eleman tanımlama ve değiştirme"
   ]
  },
  {
   "cell_type": "code",
   "execution_count": null,
   "id": "d59f5a8b",
   "metadata": {},
   "outputs": [],
   "source": [
    "\n",
    "# Eleman Değiştirme:\n",
    "meyveler[1] = \"muz\"   # 1. indeksteki 'armut' yerine 'muz' gelir\n",
    "print(meyveler)       # ['elma', 'muz', 'kiraz']\n"
   ]
  },
  {
   "cell_type": "code",
   "execution_count": null,
   "id": "357e7cac",
   "metadata": {},
   "outputs": [],
   "source": [
    "\n",
    "# 0. ve 2. elemanın yerini değiştir\n",
    "meyveler[0], meyveler[2] = meyveler[2], meyveler[0]\n",
    "print(meyveler)       # ['kiraz', 'muz', 'elma']"
   ]
  },
  {
   "cell_type": "markdown",
   "id": "606b25d2",
   "metadata": {},
   "source": [
    "Listelerde Sık Kullanılan Methodlar\n",
    "\n",
    "- `append(x)` : Listenin sonuna eleman ekler.\n",
    "- `insert(i, x)` : Belirtilen indekse eleman ekler.\n",
    "- `remove(x)` : Verilen değere sahip ilk elemanı siler.\n",
    "- `pop([i])` : Belirtilen indeksteki elemanı siler ve döndürür (indeks verilmezse son elemanı siler).\n",
    "- `clear()` : Listenin tüm elemanlarını siler.\n",
    "- `index(x)` : Verilen değerin listedeki ilk indeksini döndürür.\n",
    "- `count(x)` : Verilen değerin listede kaç kez geçtiğini döndürür.\n",
    "- `sort()` : Listeyi küçükten büyüğe sıralar.\n",
    "- `reverse()` : Listenin elemanlarını ters çevirir.\n",
    "- `copy()` : Listenin bir kopyasını oluşturur.\n"
   ]
  },
  {
   "cell_type": "code",
   "execution_count": null,
   "id": "bed6f958",
   "metadata": {},
   "outputs": [],
   "source": [
    "meyveler = [\"elma\", \"armut\", \"kiraz\"]\n",
    "meyveler.append(\"muz\")  # Listenin sonuna 'muz' ekler\n",
    "meyveler.insert(1, \"portakal\")  # 1. indekse 'portakal' ekler\n",
    "meyveler.remove(\"elma\")     # 'elma' elemanını listeden kaldırır\n",
    "son = meyveler.pop()     # Son elemanı kaldırır ve onu 'son' değişkenine atar\n",
    "meyveler.sort() # Listeyi alfabetik sıraya göre sıralar\n",
    "meyveler.reverse() # Listeyi ters çevirir\n",
    "print(meyveler) # ['portakal', 'kiraz', 'muz'] (sıralandıktan sonra)"
   ]
  },
  {
   "cell_type": "markdown",
   "id": "7d6d4a40",
   "metadata": {},
   "source": [
    "Aşağıdaki görevi yapınız"
   ]
  },
  {
   "cell_type": "code",
   "execution_count": null,
   "id": "4cadef22",
   "metadata": {},
   "outputs": [],
   "source": [
    "# 0 İndekse 'elma' ekle 2. indekse 'armut' ekle\n",
    "#alfabetik sıraya göre sırala"
   ]
  }
 ],
 "metadata": {
  "kernelspec": {
   "display_name": "base",
   "language": "python",
   "name": "python3"
  },
  "language_info": {
   "codemirror_mode": {
    "name": "ipython",
    "version": 3
   },
   "file_extension": ".py",
   "mimetype": "text/x-python",
   "name": "python",
   "nbconvert_exporter": "python",
   "pygments_lexer": "ipython3",
   "version": "3.12.7"
  }
 },
 "nbformat": 4,
 "nbformat_minor": 5
}
