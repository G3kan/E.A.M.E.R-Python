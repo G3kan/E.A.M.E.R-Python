{
 "cells": [
  {
   "cell_type": "markdown",
   "id": "557c9b5c",
   "metadata": {},
   "source": [
    "# Python Nedir ve Neden Önemlidir?\n",
    "\n",
    "Bu sayfada Python programlama dilinin kısa tanıtımını, önemini ve felsefesini göreceksiniz."
   ]
  },
  {
   "cell_type": "markdown",
   "id": "918fbbe1",
   "metadata": {},
   "source": [
    "## 1. Python Nedir?\n",
    "- **Yüksek seviyeli** bir programlama dilidir.\n",
    "- **Genel amaçlıdır**: Web geliştirme, veri analizi, yapay zeka, otomasyon, bilimsel hesaplama vb. pek çok alanda kullanılır.\n",
    "- **Basit sözdizimi** sayesinde öğrenmesi kolaydır.\n",
    "- **Açık kaynaklıdır** ve geniş bir topluluğa sahiptir.\n",
    "- **Platform bağımsızdır**: Windows, Linux, macOS'ta çalışır."
   ]
  },
  {
   "cell_type": "markdown",
   "id": "081b1d6f",
   "metadata": {},
   "source": [
    "## 2. Python'un Önemi\n",
    "- **Veri bilimi ve yapay zekada** en yaygın kullanılan dil.\n",
    "- **Web geliştirme** (Django, Flask, FastAPI gibi çerçeveler).\n",
    "- **Otomasyon ve betik yazma** için çok uygundur.\n",
    "- **Akademide ve endüstride** yaygın olarak tercih edilmektedir.\n",
    "- Google, NASA, Netflix, Instagram, YouTube gibi şirketler tarafından aktif olarak kullanılmaktadır."
   ]
  },
  {
   "cell_type": "markdown",
   "id": "66de751b",
   "metadata": {},
   "source": [
    "## 3. Python Felsefesi (Zen of Python)\n",
    "Python’un tasarım ilkeleri **The Zen of Python** adıyla bilinir. Bunları görmek için Python ortamında şu komutu çalıştırabilirsiniz:\n",
    "```python\n",
    "import this\n",
    "```\n",
    "\n",
    "### Öne çıkan maddeler:\n",
    "- **Beautiful is better than ugly.** (Güzel, çirkinden iyidir.)\n",
    "- **Explicit is better than implicit.** (Açık, örtükten iyidir.)\n",
    "- **Simple is better than complex.** (Basit, karmaşıktan iyidir.)\n",
    "- **Readability counts.** (Okunabilirlik önemlidir.)\n",
    "- **Errors should never pass silently.** (Hatalar asla sessiz geçmemelidir.)\n",
    "- **There should be one-- and preferably only one --obvious way to do it.** (Bir şeyi yapmanın tek ve bariz bir yolu olmalı.)"
   ]
  },
  {
   "cell_type": "markdown",
   "id": "a8f351c8",
   "metadata": {},
   "source": [
    "## 4. Basit Python Örneği\n",
    "Aşağıda basit bir Python kodu göreceksiniz:"
   ]
  },
  {
   "cell_type": "code",
   "execution_count": null,
   "id": "6c280bdc",
   "metadata": {},
   "outputs": [],
   "source": [
    "# Basit toplama fonksiyonu\n",
    "def topla(a, b):\n",
    "    return a + b\n",
    "\n",
    "print(\"3 + 5 =\", topla(3, 5))"
   ]
  },
  {
   "cell_type": "markdown",
   "id": "75d9e648",
   "metadata": {},
   "source": [
    "## 5. Topluluk ve Gelecek\n",
    "- Python’un en güçlü yönlerinden biri **geniş topluluğu** ve **zengin kütüphane ekosistemidir**.\n",
    "- Veri analizi için: **pandas, numpy**\n",
    "- Makine öğrenmesi için: **scikit-learn, TensorFlow, PyTorch**\n",
    "- Görselleştirme için: **matplotlib, seaborn**\n",
    "- Bu sebeple Python, günümüzde öğrenilmesi en önemli dillerden biridir."
   ]
  },
  {
   "cell_type": "markdown",
   "id": "15f4df77",
   "metadata": {},
   "source": [
    "---\n",
    "📌 **Özet:** Python, basitliği, okunabilirliği ve geniş ekosistemi sayesinde günümüzün en popüler ve en önemli programlama dillerinden biridir. Python felsefesi, kod yazarken sadelik ve okunabilirliği ön plana çıkarır."
   ]
  }
 ],
 "metadata": {
  "language_info": {
   "name": "python"
  }
 },
 "nbformat": 4,
 "nbformat_minor": 5
}
