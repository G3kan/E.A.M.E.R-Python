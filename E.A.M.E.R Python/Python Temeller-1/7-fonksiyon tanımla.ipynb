{
 "cells": [
  {
   "cell_type": "markdown",
   "id": "3512581d",
   "metadata": {},
   "source": [
    "Fonksiyon Tanımlama (def ile)\n",
    "Fonksiyon nedir?\n",
    "Tekrar tekrar kullanabileceğiniz, belli bir işi yapan kod bloklarıdır.\n",
    "\n",
    "Programı daha okunabilir ve yönetilebilir yapar.\n",
    "\n",
    "Nasıl tanımlanır?"
   ]
  },
  {
   "cell_type": "code",
   "execution_count": null,
   "id": "098748d7",
   "metadata": {},
   "outputs": [],
   "source": [
    "def fonksiyon_adi(parametre1, parametre2):\n",
    "    # Fonksiyonun yaptığı işler\n",
    "    sonuc = parametre1 + parametre2 # Örnek işlem: parametreleri toplar\n",
    "    return sonuc    # Fonksiyonun sonucunu döndürür\n"
   ]
  },
  {
   "cell_type": "code",
   "execution_count": null,
   "id": "91731f7e",
   "metadata": {},
   "outputs": [],
   "source": [
    "def topla(a, b):\n",
    "    return a + b\n",
    "\n",
    "print(topla(3, 5))  # Çıktı: 8\n"
   ]
  },
  {
   "cell_type": "markdown",
   "id": "af21d9ad",
   "metadata": {},
   "source": [
    "def anahtar kelimesi ile başlar.\n",
    "\n",
    "Fonksiyon ismi verilir (örneğin: topla).\n",
    "\n",
    "Parantez içinde parametreler (girdi) yazılır, parametre sayısı değişebilir veya hiç olmayabilir.\n",
    "\n",
    "return ifadesi ile fonksiyonun sonucu geri döndürülür (opsiyonel)"
   ]
  },
  {
   "cell_type": "markdown",
   "id": "76840e9b",
   "metadata": {},
   "source": [
    "---"
   ]
  },
  {
   "cell_type": "markdown",
   "id": "cbf8f519",
   "metadata": {},
   "source": [
    "Lambda Fonksiyonları (Anonim Fonksiyonlar)\n",
    "Nedir?\n",
    "İsimsiz, kısa fonksiyonlardır.\n",
    "\n",
    "Tek satırda yazılır.\n",
    "\n",
    "Küçük işlemler için hızlıca fonksiyon tanımlamak için kullanılır."
   ]
  },
  {
   "cell_type": "code",
   "execution_count": null,
   "id": "0d7aa5bc",
   "metadata": {},
   "outputs": [],
   "source": [
    "#LAMBDA python'da anonim fonksiyonlar tanımlamak için kullanılır.\n",
    "# Lambda fonksiyonları genellikle tek satırlık işlemler için kullanılır.\n",
    "# Örnek kullanım: lambda parametreler: ifade  \n",
    "\n",
    "topla = lambda a, b: a + b\n",
    "print(topla(3, 5))  # Çıktı: 8"
   ]
  },
  {
   "cell_type": "code",
   "execution_count": null,
   "id": "cdd1712f",
   "metadata": {},
   "outputs": [],
   "source": [
    "# İçine 3 tane eleman alan ve bu elemanlardan ilk ikisini toplayıp üçüncüsüne çıkaran bir fonksiyon tanımlayalım."
   ]
  },
  {
   "cell_type": "code",
   "execution_count": null,
   "id": "40e805bd",
   "metadata": {},
   "outputs": [],
   "source": [
    "#Kodunuzu burada tamamlayabilirsiniz."
   ]
  }
 ],
 "metadata": {
  "kernelspec": {
   "display_name": "base",
   "language": "python",
   "name": "python3"
  },
  "language_info": {
   "codemirror_mode": {
    "name": "ipython",
    "version": 3
   },
   "file_extension": ".py",
   "mimetype": "text/x-python",
   "name": "python",
   "nbconvert_exporter": "python",
   "pygments_lexer": "ipython3",
   "version": "3.12.7"
  }
 },
 "nbformat": 4,
 "nbformat_minor": 5
}
